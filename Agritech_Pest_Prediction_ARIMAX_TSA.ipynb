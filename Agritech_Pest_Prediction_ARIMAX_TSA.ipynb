{
  "nbformat": 4,
  "nbformat_minor": 0,
  "metadata": {
    "colab": {
      "provenance": [],
      "authorship_tag": "ABX9TyOOILVDaI181pBUKgvev4lG",
      "include_colab_link": true
    },
    "kernelspec": {
      "name": "python3",
      "display_name": "Python 3"
    },
    "language_info": {
      "name": "python"
    }
  },
  "cells": [
    {
      "cell_type": "markdown",
      "metadata": {
        "id": "view-in-github",
        "colab_type": "text"
      },
      "source": [
        "<a href=\"https://colab.research.google.com/github/raz0208/Agritech-Pest-Prediction/blob/main/Agritech_Pest_Prediction_ARIMAX_TSA.ipynb\" target=\"_parent\"><img src=\"https://colab.research.google.com/assets/colab-badge.svg\" alt=\"Open In Colab\"/></a>"
      ]
    },
    {
      "cell_type": "markdown",
      "source": [
        "## Time Series Analysis For Agritech Pest Prediction"
      ],
      "metadata": {
        "id": "vKv2B2pZLtIJ"
      }
    },
    {
      "cell_type": "markdown",
      "source": [
        "## Model Implementation:"
      ],
      "metadata": {
        "id": "AduOdifqspWr"
      }
    },
    {
      "cell_type": "markdown",
      "source": [
        "## **ARIMAX**"
      ],
      "metadata": {
        "id": "Su6KpgNSs0sL"
      }
    },
    {
      "cell_type": "code",
      "source": [
        "# # Uninstall potentially conflicting versions first\n",
        "# !pip uninstall -y pmdarima numpy\n",
        "\n",
        "# # Install the latest NumPy 1.x version (e.g., 1.26.4)\n",
        "# !pip install numpy==1.26.4\n",
        "\n",
        "# # Now install pmdarima (hopefully it links against NumPy 1.26.4)\n",
        "# # Use --no-cache-dir just to be safe\n",
        "# !pip install --no-cache-dir pmdarima==2.0.4"
      ],
      "metadata": {
        "id": "Isq0N3PoZns9"
      },
      "execution_count": 2,
      "outputs": []
    },
    {
      "cell_type": "code",
      "execution_count": 3,
      "metadata": {
        "id": "IV0f-1iVBmTt"
      },
      "outputs": [],
      "source": [
        "# import required libaraies\n",
        "import pandas as pd\n",
        "import numpy as np\n",
        "import matplotlib.pyplot as plt\n",
        "import seaborn as sns\n",
        "import statsmodels.api as sm\n",
        "from statsmodels.tsa.stattools import adfuller\n",
        "from statsmodels.graphics.tsaplots import plot_acf, plot_pacf\n",
        "from pmdarima import auto_arima\n",
        "from statsmodels.graphics.tsaplots import plot_acf, plot_pacf"
      ]
    },
    {
      "cell_type": "code",
      "source": [
        "# Load datasets\n",
        "FeatureExtracted_df = pd.read_csv('/content/FeatureExtracted_dataset.csv')"
      ],
      "metadata": {
        "id": "vcEnegXZEubg"
      },
      "execution_count": 4,
      "outputs": []
    },
    {
      "cell_type": "code",
      "source": [
        "# Display basic info for  datasets FeatureExtracted_dataset\n",
        "print(FeatureExtracted_df.head(), '\\n')\n",
        "print(FeatureExtracted_df.info())"
      ],
      "metadata": {
        "id": "4xgniYp9jlSb",
        "colab": {
          "base_uri": "https://localhost:8080/"
        },
        "outputId": "0c34367c-70ff-4e37-f87e-41492906cb43"
      },
      "execution_count": 5,
      "outputs": [
        {
          "output_type": "stream",
          "name": "stdout",
          "text": [
            "         Date      Time  Number of Insects  New Catches  Event   Location  \\\n",
            "0  2024-07-06  06:01:00                0.0          0.0      0  Cicalino1   \n",
            "1  2024-07-07  06:04:00                0.0          0.0      0  Cicalino1   \n",
            "2  2024-07-08  06:03:00                0.0          0.0      0  Cicalino1   \n",
            "3  2024-07-09  06:05:00                0.0          0.0      1  Cicalino1   \n",
            "4  2024-07-10  06:03:00                0.0          0.0      0  Cicalino1   \n",
            "\n",
            "   Average Temperature  Temp_low  Temp_high  Average Humidity  ...  \\\n",
            "0                13.91      13.6       14.4             97.65  ...   \n",
            "1                20.78      20.1       21.2             83.49  ...   \n",
            "2                19.03      18.7       19.5             96.87  ...   \n",
            "3                15.33      15.0       15.7             82.29  ...   \n",
            "4                15.48      15.0       16.0             87.12  ...   \n",
            "\n",
            "   Day Max_temp  Day Avg_Humidity  Temp_change  Year  Month  Day  Weekday  \\\n",
            "0          30.6             72.25         17.0  2024      7    6        5   \n",
            "1          30.2             76.73         11.5  2024      7    7        6   \n",
            "2          33.9             69.14         15.6  2024      7    8        0   \n",
            "3          36.0             53.65         21.0  2024      7    9        1   \n",
            "4          36.2             58.94         21.2  2024      7   10        2   \n",
            "\n",
            "   Lag_1  Lag_2  Lag_3  \n",
            "0    0.0    0.0    0.0  \n",
            "1    0.0    0.0    0.0  \n",
            "2    0.0    0.0    0.0  \n",
            "3    0.0    0.0    0.0  \n",
            "4    0.0    0.0    0.0  \n",
            "\n",
            "[5 rows x 22 columns] \n",
            "\n",
            "<class 'pandas.core.frame.DataFrame'>\n",
            "RangeIndex: 153 entries, 0 to 152\n",
            "Data columns (total 22 columns):\n",
            " #   Column               Non-Null Count  Dtype  \n",
            "---  ------               --------------  -----  \n",
            " 0   Date                 153 non-null    object \n",
            " 1   Time                 153 non-null    object \n",
            " 2   Number of Insects    153 non-null    float64\n",
            " 3   New Catches          153 non-null    float64\n",
            " 4   Event                153 non-null    int64  \n",
            " 5   Location             153 non-null    object \n",
            " 6   Average Temperature  153 non-null    float64\n",
            " 7   Temp_low             153 non-null    float64\n",
            " 8   Temp_high            153 non-null    float64\n",
            " 9   Average Humidity     153 non-null    float64\n",
            " 10  Day Avg_temp         153 non-null    float64\n",
            " 11  Day Min_temp         153 non-null    float64\n",
            " 12  Day Max_temp         153 non-null    float64\n",
            " 13  Day Avg_Humidity     153 non-null    float64\n",
            " 14  Temp_change          153 non-null    float64\n",
            " 15  Year                 153 non-null    int64  \n",
            " 16  Month                153 non-null    int64  \n",
            " 17  Day                  153 non-null    int64  \n",
            " 18  Weekday              153 non-null    int64  \n",
            " 19  Lag_1                153 non-null    float64\n",
            " 20  Lag_2                153 non-null    float64\n",
            " 21  Lag_3                153 non-null    float64\n",
            "dtypes: float64(14), int64(5), object(3)\n",
            "memory usage: 26.4+ KB\n",
            "None\n"
          ]
        }
      ]
    },
    {
      "cell_type": "code",
      "source": [
        "# Convert 'Date' column to datetime format\n",
        "FeatureExtracted_df['Date'] = pd.to_datetime(FeatureExtracted_df['Date'])\n",
        "\n",
        "# Set Date column as index\n",
        "FeatureExtracted_df.set_index('Date', inplace=True)"
      ],
      "metadata": {
        "id": "HpvWh6ZuDvd3"
      },
      "execution_count": 6,
      "outputs": []
    },
    {
      "cell_type": "code",
      "source": [
        "# Drop some columns\n",
        "FeatureExtracted_df.drop(['Lag_1', 'Lag_1', 'Lag_1'], axis=1, inplace=True)\n",
        "\n",
        "# Group and aggregate\n",
        "aggregated_df = FeatureExtracted_df.groupby('Date').agg({\n",
        "    'Number of Insects': 'sum',\n",
        "    'New Catches': 'sum',\n",
        "    'Event': 'max',\n",
        "    'Average Temperature': 'mean',\n",
        "    'Temp_low': 'mean',\n",
        "    'Temp_high': 'mean',\n",
        "    'Average Humidity': 'mean',\n",
        "    'Day Avg_temp': 'mean',\n",
        "    'Day Min_temp': 'mean',\n",
        "    'Day Max_temp': 'mean',\n",
        "    'Day Avg_Humidity': 'mean',\n",
        "    'Temp_change': 'mean',\n",
        "    'Year': 'first',\n",
        "    'Month': 'first',\n",
        "    'Day': 'first',\n",
        "    'Weekday': 'first',\n",
        "    # 'Lag_1': 'mean',\n",
        "    # 'Lag_2': 'mean',\n",
        "    # 'Lag_3': 'mean'\n",
        "}).reset_index()\n",
        "\n",
        "print(aggregated_df.head(10))\n",
        "\n",
        "# # save to csv file\n",
        "# aggregated_df.to_csv('aggregated_dataset.csv', index=False)"
      ],
      "metadata": {
        "colab": {
          "base_uri": "https://localhost:8080/"
        },
        "id": "xtQfApHnV0nQ",
        "outputId": "83e7015b-3ab6-4dbb-ae65-2a2bdd73fbfa"
      },
      "execution_count": 7,
      "outputs": [
        {
          "output_type": "stream",
          "name": "stdout",
          "text": [
            "        Date  Number of Insects  New Catches  Event  Average Temperature  \\\n",
            "0 2024-07-05                0.0          0.0      0              16.6900   \n",
            "1 2024-07-06                0.0          0.0      0              16.5225   \n",
            "2 2024-07-07                0.0          0.0      0              19.8125   \n",
            "3 2024-07-08                0.0          0.0      1              17.7825   \n",
            "4 2024-07-09                0.0          0.0      1              18.4850   \n",
            "5 2024-07-10                0.0          0.0      0              15.4800   \n",
            "6 2024-07-11                0.0          0.0      1              15.8400   \n",
            "7 2024-07-12                0.0          0.0      0              16.6350   \n",
            "8 2024-07-13                0.0          0.0      0              18.9650   \n",
            "9 2024-07-14                1.0          1.0      0              17.1300   \n",
            "\n",
            "   Temp_low  Temp_high  Average Humidity  Day Avg_temp  Day Min_temp  \\\n",
            "0    16.300     17.000           89.4800       27.1400        15.700   \n",
            "1    16.175     16.900           92.0650       24.8175        16.075   \n",
            "2    19.300     20.150           84.3775       26.0475        18.275   \n",
            "3    17.450     18.175           92.9075       26.1225        16.825   \n",
            "4    18.125     18.850           82.1875       26.8025        17.100   \n",
            "5    15.000     16.000           87.1200       26.4100        15.000   \n",
            "6    15.700     16.050           80.9350       26.2200        14.400   \n",
            "7    16.350     17.050           86.0150       26.3600        15.600   \n",
            "8    18.800     19.250           92.0600       25.7000        17.500   \n",
            "9    16.950     17.400           96.0550       26.1900        16.200   \n",
            "\n",
            "   Day Max_temp  Day Avg_Humidity  Temp_change  Year  Month  Day  Weekday  \n",
            "0        38.000           56.9600       22.300  2024      7    5        4  \n",
            "1        34.200           67.3900       18.125  2024      7    6        5  \n",
            "2        34.725           66.6775       16.450  2024      7    7        6  \n",
            "3        35.750           64.7675       18.925  2024      7    8        0  \n",
            "4        37.400           58.3625       20.300  2024      7    9        1  \n",
            "5        36.200           58.9400       21.200  2024      7   10        2  \n",
            "6        35.900           55.2100       21.500  2024      7   11        3  \n",
            "7        36.500           57.5100       20.900  2024      7   12        4  \n",
            "8        35.600           68.3900       18.100  2024      7   13        5  \n",
            "9        36.900           68.0500       20.700  2024      7   14        6  \n"
          ]
        }
      ]
    },
    {
      "cell_type": "code",
      "source": [
        "# Convert \"Date\" to datetime format\n",
        "aggregated_df[\"Date\"] = pd.to_datetime(aggregated_df[\"Date\"])\n",
        "\n",
        "# Set \"Date\" as the index\n",
        "aggregated_df.set_index(\"Date\", inplace=True)"
      ],
      "metadata": {
        "id": "2jfe0RuXqY65"
      },
      "execution_count": null,
      "outputs": []
    }
  ]
}