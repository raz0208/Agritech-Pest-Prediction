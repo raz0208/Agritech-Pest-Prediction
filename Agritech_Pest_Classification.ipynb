{
  "nbformat": 4,
  "nbformat_minor": 0,
  "metadata": {
    "colab": {
      "provenance": [],
      "authorship_tag": "ABX9TyNixBspFJlQ5ELIycZPD/XI",
      "include_colab_link": true
    },
    "kernelspec": {
      "name": "python3",
      "display_name": "Python 3"
    },
    "language_info": {
      "name": "python"
    }
  },
  "cells": [
    {
      "cell_type": "markdown",
      "metadata": {
        "id": "view-in-github",
        "colab_type": "text"
      },
      "source": [
        "<a href=\"https://colab.research.google.com/github/raz0208/Agritech-Pest-Prediction/blob/main/Agritech_Pest_Classification.ipynb\" target=\"_parent\"><img src=\"https://colab.research.google.com/assets/colab-badge.svg\" alt=\"Open In Colab\"/></a>"
      ]
    },
    {
      "cell_type": "markdown",
      "source": [
        "## Model implementation: Classification Problem"
      ],
      "metadata": {
        "id": "NyHCQKjt6rmO"
      }
    },
    {
      "cell_type": "code",
      "source": [
        "# import rewuired libraries for classification tasks\n",
        "from sklearn.linear_model import LogisticRegression\n",
        "from sklearn.tree import DecisionTreeClassifier\n",
        "from sklearn.metrics import accuracy_score, classification_report, confusion_matrix"
      ],
      "metadata": {
        "id": "2X6nli-C600c"
      },
      "execution_count": null,
      "outputs": []
    },
    {
      "cell_type": "markdown",
      "source": [
        "### Logistic Regression and Decision Tree classification"
      ],
      "metadata": {
        "id": "HqbtyY089fLN"
      }
    },
    {
      "cell_type": "code",
      "source": [
        "# Copy dataset to nw dataframe\n",
        "df = pd.read_csv('/content/FeatureExtracted_dataset.csv')\n",
        "\n",
        "# Load the dataset\n",
        "X = df.drop(columns=[\"New Catches\", \"Date\", \"Time\", \"Location\"])  # Drop non-numeric columns\n",
        "y = df[\"New Catches\"]\n",
        "\n",
        "# Split into train and test sets\n",
        "X_train, X_test, y_train, y_test = train_test_split(X, y, test_size=0.2, random_state=42)\n",
        "\n",
        "# Standardize features for Logistic Regression\n",
        "scaler = StandardScaler()\n",
        "X_train_scaled = scaler.fit_transform(X_train)\n",
        "X_test_scaled = scaler.transform(X_test)\n",
        "\n",
        "# Initialize models\n",
        "log_reg = LogisticRegression()\n",
        "dt_clf = DecisionTreeClassifier(random_state=42)\n",
        "\n",
        "models = {\n",
        "    \"Logistic Regression\": log_reg,\n",
        "    \"Decision Tree\": dt_clf\n",
        "}\n",
        "\n",
        "results = {}\n",
        "predictions = {}\n",
        "\n",
        "# Train and evaluate each model\n",
        "for name, model in models.items():\n",
        "    model.fit(X_train_scaled if name == \"Logistic Regression\" else X_train, y_train)\n",
        "    y_pred = model.predict(X_test_scaled if name == \"Logistic Regression\" else X_test)\n",
        "    predictions[name] = y_pred\n",
        "    acc = accuracy_score(y_test, y_pred)\n",
        "    results[name] = acc\n",
        "    print(f\"{name} Accuracy: {acc:.4f}\")\n",
        "    print(classification_report(y_test, y_pred))"
      ],
      "metadata": {
        "colab": {
          "base_uri": "https://localhost:8080/"
        },
        "id": "RO5Bx-MP7QQt",
        "outputId": "d4e3891e-2928-421a-9f14-8f6ca9f733b3"
      },
      "execution_count": null,
      "outputs": [
        {
          "output_type": "stream",
          "name": "stdout",
          "text": [
            "Logistic Regression Accuracy: 0.8387\n",
            "              precision    recall  f1-score   support\n",
            "\n",
            "         0.0       0.89      0.92      0.91        26\n",
            "         1.0       0.50      0.40      0.44         5\n",
            "\n",
            "    accuracy                           0.84        31\n",
            "   macro avg       0.69      0.66      0.68        31\n",
            "weighted avg       0.83      0.84      0.83        31\n",
            "\n",
            "Decision Tree Accuracy: 0.8387\n",
            "              precision    recall  f1-score   support\n",
            "\n",
            "         0.0       0.89      0.92      0.91        26\n",
            "         1.0       0.50      0.40      0.44         5\n",
            "\n",
            "    accuracy                           0.84        31\n",
            "   macro avg       0.69      0.66      0.68        31\n",
            "weighted avg       0.83      0.84      0.83        31\n",
            "\n"
          ]
        }
      ]
    },
    {
      "cell_type": "code",
      "source": [
        "# Visualization of Accuracy Scores\n",
        "fig, ax = plt.subplots(figsize=(8, 5))\n",
        "sns.barplot(x=list(results.keys()), y=list(results.values()), palette=\"coolwarm\", legend=False, hue=models.keys())\n",
        "ax.set_title(\"Model Accuracy Comparison\")\n",
        "ax.set_ylabel(\"Accuracy\")\n",
        "plt.ylim(0, 1)\n",
        "plt.show()\n",
        "\n",
        "print(\"\\n\")\n",
        "# Confusion Matrix Visualization\n",
        "fig, axes = plt.subplots(1, 2, figsize=(12, 5))\n",
        "\n",
        "for i, (name, y_pred) in enumerate(predictions.items()):\n",
        "    cm = confusion_matrix(y_test, y_pred)\n",
        "    sns.heatmap(cm, annot=True, fmt='d', cmap='Blues', ax=axes[i])\n",
        "    axes[i].set_title(f\"{name} Confusion Matrix\")\n",
        "    axes[i].set_xlabel(\"Predicted Label\")\n",
        "    axes[i].set_ylabel(\"True Label\")\n",
        "\n",
        "plt.tight_layout()\n",
        "plt.show()"
      ],
      "metadata": {
        "colab": {
          "base_uri": "https://localhost:8080/",
          "height": 993
        },
        "id": "VqKXp32q7XIt",
        "outputId": "6e3492ab-99d5-4818-c5d5-7d9eeffa8bac"
      },
      "execution_count": null,
      "outputs": [
        {
          "output_type": "display_data",
          "data": {
            "text/plain": [
              "<Figure size 800x500 with 1 Axes>"
            ],
            "image/png": "[encoded data removed]"
          },
          "metadata": {}
        },
        {
          "output_type": "stream",
          "name": "stdout",
          "text": [
            "\n",
            "\n"
          ]
        },
        {
          "output_type": "display_data",
          "data": {
            "text/plain": [
              "<Figure size 1200x500 with 4 Axes>"
            ],
            "image/png": "[encoded data removed]"
          },
          "metadata": {}
        }
      ]
    },
    {
      "cell_type": "markdown",
      "source": [
        "### Random Forest and Gradient Boosting classifiers, including XGBoost, LightGBM, and CatBoost"
      ],
      "metadata": {
        "id": "hVyVZo-_-IfW"
      }
    },
    {
      "cell_type": "code",
      "source": [
        "from sklearn.ensemble import RandomForestClassifier, GradientBoostingClassifier\n",
        "from xgboost import XGBClassifier\n",
        "# from lightgbm import LGBMClassifier\n",
        "#from catboost import CatBoostClassifier"
      ],
      "metadata": {
        "id": "pEMmZlR9-D3d"
      },
      "execution_count": null,
      "outputs": []
    },
    {
      "cell_type": "code",
      "source": [
        "# Copy dataset to nw dataframe\n",
        "df = pd.read_csv('/content/FeatureExtracted_dataset.csv')\n",
        "\n",
        "# Load the dataset (assuming 'df' is already preprocessed)\n",
        "X = df.drop(columns=[\"New Catches\", \"Date\", \"Time\", \"Location\"])  # Drop non-numeric columns\n",
        "y = df[\"New Catches\"]\n",
        "\n",
        "# Split into train and test sets\n",
        "X_train, X_test, y_train, y_test = train_test_split(X, y, test_size=0.2, random_state=42)\n",
        "\n",
        "# Initialize models\n",
        "rf_clf = RandomForestClassifier(n_estimators=100, random_state=42)\n",
        "gb_clf = GradientBoostingClassifier(n_estimators=100, random_state=42)\n",
        "xgb_clf = XGBClassifier(n_estimators=100, use_label_encoder=False, eval_metric='logloss', random_state=42)\n",
        "# lgb_clf = LGBMClassifier(n_estimators=100, random_state=42)\n",
        "# cat_clf = CatBoostClassifier(n_estimators=100, verbose=0, random_state=42)\n",
        "\n",
        "models = {\n",
        "    \"Random Forest\": rf_clf,\n",
        "    \"Gradient Boosting\": gb_clf,\n",
        "    \"XGBoost\": xgb_clf,\n",
        "    # \"LightGBM\": lgb_clf,\n",
        "    # \"CatBoost\": cat_clf\n",
        "}\n",
        "\n",
        "results = {}\n",
        "predictions = {}\n",
        "\n",
        "# Train and evaluate each model\n",
        "for name, model in models.items():\n",
        "    model.fit(X_train, y_train)\n",
        "    y_pred = model.predict(X_test)\n",
        "    predictions[name] = y_pred\n",
        "    acc = accuracy_score(y_test, y_pred)\n",
        "    results[name] = acc\n",
        "    print(f\"{name} Accuracy: {acc:.4f}\")\n",
        "    print(classification_report(y_test, y_pred))"
      ],
      "metadata": {
        "colab": {
          "base_uri": "https://localhost:8080/",
          "height": 720
        },
        "id": "kiUuprDY-H_9",
        "outputId": "a208be00-38da-469e-8977-01792ab7e313"
      },
      "execution_count": null,
      "outputs": [
        {
          "output_type": "stream",
          "name": "stdout",
          "text": [
            "Random Forest Accuracy: 0.7742\n",
            "              precision    recall  f1-score   support\n",
            "\n",
            "         0.0       0.83      0.92      0.87        26\n",
            "         1.0       0.00      0.00      0.00         5\n",
            "\n",
            "    accuracy                           0.77        31\n",
            "   macro avg       0.41      0.46      0.44        31\n",
            "weighted avg       0.69      0.77      0.73        31\n",
            "\n",
            "Gradient Boosting Accuracy: 0.9032\n",
            "              precision    recall  f1-score   support\n",
            "\n",
            "         0.0       0.96      0.92      0.94        26\n",
            "         1.0       0.67      0.80      0.73         5\n",
            "\n",
            "    accuracy                           0.90        31\n",
            "   macro avg       0.81      0.86      0.83        31\n",
            "weighted avg       0.91      0.90      0.91        31\n",
            "\n"
          ]
        },
        {
          "output_type": "error",
          "ename": "ValueError",
          "evalue": "Invalid classes inferred from unique values of `y`.  Expected: [0 1 2 3], got [0. 1. 2. 4.]",
          "traceback": [
            "\u001b[0;31m---------------------------------------------------------------------------\u001b[0m",
            "\u001b[0;31mValueError\u001b[0m                                Traceback (most recent call last)",
            "\u001b[0;32m<ipython-input-24-bb4505fa8ba1>\u001b[0m in \u001b[0;36m<cell line: 0>\u001b[0;34m()\u001b[0m\n\u001b[1;32m     29\u001b[0m \u001b[0;31m# Train and evaluate each model\u001b[0m\u001b[0;34m\u001b[0m\u001b[0;34m\u001b[0m\u001b[0m\n\u001b[1;32m     30\u001b[0m \u001b[0;32mfor\u001b[0m \u001b[0mname\u001b[0m\u001b[0;34m,\u001b[0m \u001b[0mmodel\u001b[0m \u001b[0;32min\u001b[0m \u001b[0mmodels\u001b[0m\u001b[0;34m.\u001b[0m\u001b[0mitems\u001b[0m\u001b[0;34m(\u001b[0m\u001b[0;34m)\u001b[0m\u001b[0;34m:\u001b[0m\u001b[0;34m\u001b[0m\u001b[0;34m\u001b[0m\u001b[0m\n\u001b[0;32m---> 31\u001b[0;31m     \u001b[0mmodel\u001b[0m\u001b[0;34m.\u001b[0m\u001b[0mfit\u001b[0m\u001b[0;34m(\u001b[0m\u001b[0mX_train\u001b[0m\u001b[0;34m,\u001b[0m \u001b[0my_train\u001b[0m\u001b[0;34m)\u001b[0m\u001b[0;34m\u001b[0m\u001b[0;34m\u001b[0m\u001b[0m\n\u001b[0m\u001b[1;32m     32\u001b[0m     \u001b[0my_pred\u001b[0m \u001b[0;34m=\u001b[0m \u001b[0mmodel\u001b[0m\u001b[0;34m.\u001b[0m\u001b[0mpredict\u001b[0m\u001b[0;34m(\u001b[0m\u001b[0mX_test\u001b[0m\u001b[0;34m)\u001b[0m\u001b[0;34m\u001b[0m\u001b[0;34m\u001b[0m\u001b[0m\n\u001b[1;32m     33\u001b[0m     \u001b[0mpredictions\u001b[0m\u001b[0;34m[\u001b[0m\u001b[0mname\u001b[0m\u001b[0;34m]\u001b[0m \u001b[0;34m=\u001b[0m \u001b[0my_pred\u001b[0m\u001b[0;34m\u001b[0m\u001b[0;34m\u001b[0m\u001b[0m\n",
            "\u001b[0;32m/usr/local/lib/python3.11/dist-packages/xgboost/core.py\u001b[0m in \u001b[0;36minner_f\u001b[0;34m(*args, **kwargs)\u001b[0m\n\u001b[1;32m    724\u001b[0m             \u001b[0;32mfor\u001b[0m \u001b[0mk\u001b[0m\u001b[0;34m,\u001b[0m \u001b[0marg\u001b[0m \u001b[0;32min\u001b[0m \u001b[0mzip\u001b[0m\u001b[0;34m(\u001b[0m\u001b[0msig\u001b[0m\u001b[0;34m.\u001b[0m\u001b[0mparameters\u001b[0m\u001b[0;34m,\u001b[0m \u001b[0margs\u001b[0m\u001b[0;34m)\u001b[0m\u001b[0;34m:\u001b[0m\u001b[0;34m\u001b[0m\u001b[0;34m\u001b[0m\u001b[0m\n\u001b[1;32m    725\u001b[0m                 \u001b[0mkwargs\u001b[0m\u001b[0;34m[\u001b[0m\u001b[0mk\u001b[0m\u001b[0;34m]\u001b[0m \u001b[0;34m=\u001b[0m \u001b[0marg\u001b[0m\u001b[0;34m\u001b[0m\u001b[0;34m\u001b[0m\u001b[0m\n\u001b[0;32m--> 726\u001b[0;31m             \u001b[0;32mreturn\u001b[0m \u001b[0mfunc\u001b[0m\u001b[0;34m(\u001b[0m\u001b[0;34m**\u001b[0m\u001b[0mkwargs\u001b[0m\u001b[0;34m)\u001b[0m\u001b[0;34m\u001b[0m\u001b[0;34m\u001b[0m\u001b[0m\n\u001b[0m\u001b[1;32m    727\u001b[0m \u001b[0;34m\u001b[0m\u001b[0m\n\u001b[1;32m    728\u001b[0m         \u001b[0;32mreturn\u001b[0m \u001b[0minner_f\u001b[0m\u001b[0;34m\u001b[0m\u001b[0;34m\u001b[0m\u001b[0m\n",
            "\u001b[0;32m/usr/local/lib/python3.11/dist-packages/xgboost/sklearn.py\u001b[0m in \u001b[0;36mfit\u001b[0;34m(self, X, y, sample_weight, base_margin, eval_set, verbose, xgb_model, sample_weight_eval_set, base_margin_eval_set, feature_weights)\u001b[0m\n\u001b[1;32m   1557\u001b[0m                 \u001b[0;32mor\u001b[0m \u001b[0;32mnot\u001b[0m \u001b[0;34m(\u001b[0m\u001b[0mclasses\u001b[0m \u001b[0;34m==\u001b[0m \u001b[0mexpected_classes\u001b[0m\u001b[0;34m)\u001b[0m\u001b[0;34m.\u001b[0m\u001b[0mall\u001b[0m\u001b[0;34m(\u001b[0m\u001b[0;34m)\u001b[0m\u001b[0;34m\u001b[0m\u001b[0;34m\u001b[0m\u001b[0m\n\u001b[1;32m   1558\u001b[0m             ):\n\u001b[0;32m-> 1559\u001b[0;31m                 raise ValueError(\n\u001b[0m\u001b[1;32m   1560\u001b[0m                     \u001b[0;34mf\"Invalid classes inferred from unique values of `y`.  \"\u001b[0m\u001b[0;34m\u001b[0m\u001b[0;34m\u001b[0m\u001b[0m\n\u001b[1;32m   1561\u001b[0m                     \u001b[0;34mf\"Expected: {expected_classes}, got {classes}\"\u001b[0m\u001b[0;34m\u001b[0m\u001b[0;34m\u001b[0m\u001b[0m\n",
            "\u001b[0;31mValueError\u001b[0m: Invalid classes inferred from unique values of `y`.  Expected: [0 1 2 3], got [0. 1. 2. 4.]"
          ]
        }
      ]
    },
    {
      "cell_type": "code",
      "source": [
        "# Visualization of Accuracy Scores\n",
        "fig, ax = plt.subplots(figsize=(8, 5))\n",
        "sns.barplot(x=list(results.keys()), y=list(results.values()), palette=\"coolwarm\", legend=False, hue=models.keys())\n",
        "ax.set_title(\"Model Accuracy Comparison\")\n",
        "ax.set_ylabel(\"Accuracy\")\n",
        "plt.ylim(0, 1)\n",
        "plt.xticks(rotation=45)\n",
        "plt.show()\n",
        "\n",
        "print(\"\\n\")\n",
        "\n",
        "# Confusion Matrix Visualization\n",
        "fig, axes = plt.subplots(1, 2, figsize=(10, 5))\n",
        "axes = axes.flatten()\n",
        "\n",
        "for i, (name, y_pred) in enumerate(predictions.items()):\n",
        "    cm = confusion_matrix(y_test, y_pred)\n",
        "    sns.heatmap(cm, annot=True, fmt='d', cmap='Blues', ax=axes[i])\n",
        "    axes[i].set_title(f\"{name} Confusion Matrix\")\n",
        "    axes[i].set_xlabel(\"Predicted Label\")\n",
        "    axes[i].set_ylabel(\"True Label\")\n",
        "\n",
        "plt.tight_layout()\n",
        "plt.show()"
      ],
      "metadata": {
        "id": "yYXpHriD_Tz8"
      },
      "execution_count": null,
      "outputs": []
    },
    {
      "cell_type": "markdown",
      "source": [
        "### Support Vector Machine (SVM), K-Nearest Neighbors (KNN), and Neural Networks (MLP Classifier)"
      ],
      "metadata": {
        "id": "lPHJokBTAz69"
      }
    },
    {
      "cell_type": "code",
      "source": [
        "from sklearn.svm import SVC\n",
        "from sklearn.neighbors import KNeighborsClassifier\n",
        "from sklearn.neural_network import MLPClassifier"
      ],
      "metadata": {
        "id": "0u8pmKWdA0uA"
      },
      "execution_count": null,
      "outputs": []
    },
    {
      "cell_type": "code",
      "source": [
        "# Copy dataset to nw dataframe\n",
        "df = pd.read_csv('/content/FeatureExtracted_dataset.csv')\n",
        "\n",
        "# Load the dataset (assuming 'df' is already preprocessed)\n",
        "X = df.drop(columns=[\"New Catches\", \"Date\", \"Time\", \"Location\"])  # Drop non-numeric columns\n",
        "y = df[\"New Catches\"]\n",
        "\n",
        "# Split into train and test sets\n",
        "X_train, X_test, y_train, y_test = train_test_split(X, y, test_size=0.2, random_state=42)\n",
        "\n",
        "# Standardize features for SVM and MLP\n",
        "scaler = StandardScaler()\n",
        "X_train_scaled = scaler.fit_transform(X_train)\n",
        "X_test_scaled = scaler.transform(X_test)\n",
        "\n",
        "# Initialize models\n",
        "svm_clf = SVC(kernel='rbf', random_state=42)\n",
        "knn_clf = KNeighborsClassifier(n_neighbors=5)\n",
        "mlp_clf = MLPClassifier(hidden_layer_sizes=(100,), max_iter=500, random_state=42)\n",
        "\n",
        "models = {\n",
        "    \"Support Vector Machine\": svm_clf,\n",
        "    \"K-Nearest Neighbors\": knn_clf,\n",
        "    \"Neural Network (MLP)\": mlp_clf\n",
        "}\n",
        "\n",
        "results = {}\n",
        "predictions = {}\n",
        "\n",
        "# Train and evaluate each model\n",
        "for name, model in models.items():\n",
        "    model.fit(X_train_scaled if name in [\"Support Vector Machine\", \"Neural Network (MLP)\"] else X_train, y_train)\n",
        "    y_pred = model.predict(X_test_scaled if name in [\"Support Vector Machine\", \"Neural Network (MLP)\"] else X_test)\n",
        "    predictions[name] = y_pred\n",
        "    acc = accuracy_score(y_test, y_pred)\n",
        "    results[name] = acc\n",
        "    print(f\"{name} Accuracy: {acc:.4f}\")\n",
        "    print(classification_report(y_test, y_pred))"
      ],
      "metadata": {
        "id": "pV-P3ZVPBE5t"
      },
      "execution_count": null,
      "outputs": []
    },
    {
      "cell_type": "code",
      "source": [
        "# Visualization of Accuracy Scores\n",
        "fig, ax = plt.subplots(figsize=(8, 5))\n",
        "sns.barplot(x=list(results.keys()), y=list(results.values()), palette=\"coolwarm\", legend=False, hue=models.keys())\n",
        "ax.set_title(\"Model Accuracy Comparison\")\n",
        "ax.set_ylabel(\"Accuracy\")\n",
        "plt.ylim(0, 1)\n",
        "plt.xticks(rotation=45)\n",
        "plt.show()\n",
        "\n",
        "print(\"\\n\")\n",
        "\n",
        "# Confusion Matrix Visualization\n",
        "fig, axes = plt.subplots(1, 3, figsize=(15, 5))\n",
        "\n",
        "for i, (name, y_pred) in enumerate(predictions.items()):\n",
        "    cm = confusion_matrix(y_test, y_pred)\n",
        "    sns.heatmap(cm, annot=True, fmt='d', cmap='Blues', ax=axes[i])\n",
        "    axes[i].set_title(f\"{name} Confusion Matrix\")\n",
        "    axes[i].set_xlabel(\"Predicted Label\")\n",
        "    axes[i].set_ylabel(\"True Label\")\n",
        "\n",
        "plt.tight_layout()\n",
        "plt.show()"
      ],
      "metadata": {
        "id": "roy0Y_2iBIa9"
      },
      "execution_count": null,
      "outputs": []
    },
    {
      "cell_type": "markdown",
      "source": [
        "## Model Impelementaion: Time Series Analysis"
      ],
      "metadata": {
        "id": "cq9bO1DlJc04"
      }
    },
    {
      "cell_type": "code",
      "source": [
        "# Required libararies for Time Series Forcasting models\n",
        "from statsmodels.tsa.seasonal import seasonal_decompose\n",
        "from statsmodels.graphics.tsaplots import plot_acf, plot_pacf\n",
        "from statsmodels.tsa.stattools import adfuller\n",
        "from statsmodels.tsa.seasonal import STL"
      ],
      "metadata": {
        "id": "LRJSomW1JjKa"
      },
      "execution_count": null,
      "outputs": []
    },
    {
      "cell_type": "code",
      "source": [
        "# Load dataset\n",
        "TS_df = pd.read_csv('/content/FeatureExtracted_dataset.csv')\n",
        "\n",
        "# Convert Date column to datetime\n",
        "TS_df[\"Date\"] = pd.to_datetime(TS_df[\"Date\"])  # Convert Date column to datetime\n",
        "TS_df.set_index(\"Date\", inplace=True)  # Set Date as index\n",
        "TS_df = TS_df.sort_index()  # Ensure data is sorted by time\n",
        "\n",
        "# Plot Time Series\n",
        "plt.figure(figsize=(12, 5))\n",
        "plt.plot(TS_df.index, TS_df[\"Number of Insects\"], label=\"Number of Insects\")\n",
        "plt.xlabel(\"Date\")\n",
        "plt.ylabel(\"Insect Count\")\n",
        "plt.title(\"Time Series Plot of Insect Counts\")\n",
        "plt.legend()\n",
        "plt.show()\n",
        "\n",
        "print(\"\\n\")\n",
        "\n",
        "# Seasonal Decomposition\n",
        "decomposition = seasonal_decompose(TS_df[\"Number of Insects\"], model='additive', period=30)  # Adjust period based on data\n",
        "decomposition.plot()\n",
        "plt.show()\n",
        "\n",
        "print(\"\\n\")\n",
        "\n",
        "# ACF and PACF Plots\n",
        "fig, axes = plt.subplots(1, 2, figsize=(14, 5))\n",
        "plot_acf(TS_df[\"Number of Insects\"], ax=axes[0], lags=50)\n",
        "plot_pacf(TS_df[\"Number of Insects\"], ax=axes[1], lags=50)\n",
        "plt.show()\n",
        "\n",
        "print(\"\\n\")\n",
        "\n",
        "# Fourier Transform (Spectral Analysis)\n",
        "fft_vals = np.fft.fft(TS_df[\"Number of Insects\"])\n",
        "frequencies = np.fft.fftfreq(len(fft_vals))\n",
        "\n",
        "plt.figure(figsize=(10, 5))\n",
        "plt.plot(frequencies[:len(frequencies)//2], np.abs(fft_vals[:len(frequencies)//2]))\n",
        "plt.title(\"Fourier Transform - Frequency Domain Analysis\")\n",
        "plt.xlabel(\"Frequency\")\n",
        "plt.ylabel(\"Amplitude\")\n",
        "plt.show()"
      ],
      "metadata": {
        "id": "NfDyg-jiJsJV"
      },
      "execution_count": null,
      "outputs": []
    },
    {
      "cell_type": "code",
      "source": [
        "# Augmented Dickey-Fuller (ADF) Test for Stationarity\n",
        "def adf_test(series):\n",
        "    result = adfuller(series)\n",
        "    print(\"ADF Statistic:\", result[0])\n",
        "    print(\"p-value:\", result[1])\n",
        "    print(\"Critical Values:\", result[4])\n",
        "    if result[1] <= 0.05:\n",
        "        print(\"The time series is stationary.\")\n",
        "    else:\n",
        "        print(\"The time series is non-stationary.\")\n",
        "\n",
        "print(\"Augmented Dickey-Fuller Test:\")\n",
        "adf_test(TS_df[\"Number of Insects\"])\n",
        "\n",
        "print(\"\\n\")\n",
        "\n",
        "# Seasonal-Trend Decomposition using LOESS (STL)\n",
        "period = 5  # Adjust based on your time series frequency\n",
        "stl = STL(df[\"Number of Insects\"], period=period)\n",
        "result = stl.fit()\n",
        "\n",
        "# Plot STL decomposition\n",
        "fig, axes = plt.subplots(3, 1, figsize=(10, 8), sharex=True)\n",
        "result.trend.plot(ax=axes[0], title=\"Trend\")\n",
        "result.seasonal.plot(ax=axes[1], title=\"Seasonality\")\n",
        "result.resid.plot(ax=axes[2], title=\"Residuals\")\n",
        "plt.tight_layout()\n",
        "plt.show()"
      ],
      "metadata": {
        "id": "YOUN49z-KZqJ"
      },
      "execution_count": null,
      "outputs": []
    },
    {
      "cell_type": "markdown",
      "source": [
        "### Regression Models with Time-Based Features\n",
        "- Linear Regression\n",
        "- Ridge Regression\n",
        "- Lasso Regression\n",
        "- Random Forest\n",
        "- Gradient Boosting"
      ],
      "metadata": {
        "id": "Ru4f7RxkcIs1"
      }
    },
    {
      "cell_type": "code",
      "source": [
        "# Load dataset\n",
        "Time_df = pd.read_csv('/content/FeatureExtracted_dataset.csv')\n",
        "\n",
        "# Convert Date column to datetime\n",
        "Time_df[\"Date\"] = pd.to_datetime(Time_df[\"Date\"])  # Convert Date to datetime\n",
        "Time_df[\"Time\"] = pd.to_datetime(Time_df[\"Time\"], format='%H:%M:%S').dt.hour  # Convert Time to numeric (hour of the day)\n",
        "Time_df[\"Year\"] = Time_df[\"Date\"].dt.year\n",
        "Time_df[\"Month\"] = Time_df[\"Date\"].dt.month\n",
        "Time_df[\"Day\"] = Time_df[\"Date\"].dt.day\n",
        "Time_df[\"Weekday\"] = Time_df[\"Date\"].dt.weekday\n",
        "\n",
        "# Drop original Date column\n",
        "X = Time_df.drop(columns=[\"Number of Insects\", \"Date\", \"Location\"])  # Drop target and non-numeric columns\n",
        "y = Time_df[\"Number of Insects\"]"
      ],
      "metadata": {
        "id": "Zeh1O0cuUFpT"
      },
      "execution_count": null,
      "outputs": []
    },
    {
      "cell_type": "code",
      "source": [
        "# Split into train and test sets\n",
        "X_train, X_test, y_train, y_test = train_test_split(X, y, test_size=0.2, random_state=42)\n",
        "\n",
        "# Initialize models\n",
        "models = {\n",
        "    \"Linear Regression\": LinearRegression(),\n",
        "    \"Ridge Regression\": Ridge(alpha=1.0),\n",
        "    \"Lasso Regression\": Lasso(alpha=0.1),\n",
        "    \"Random Forest\": RandomForestRegressor(n_estimators=100, random_state=42),\n",
        "    \"Gradient Boosting\": GradientBoostingRegressor(n_estimators=100, random_state=42)\n",
        "}\n",
        "\n",
        "# Train and evaluate each model\n",
        "results = {}\n",
        "predictions = {}\n",
        "for name, model in models.items():\n",
        "    model.fit(X_train, y_train)\n",
        "    y_pred = model.predict(X_test)\n",
        "    predictions[name] = y_pred\n",
        "    mae = mean_absolute_error(y_test, y_pred)\n",
        "    mse = mean_squared_error(y_test, y_pred)\n",
        "    r2 = r2_score(y_test, y_pred)\n",
        "    results[name] = (mae, mse, r2)\n",
        "    print(f\"{name} Results:\")\n",
        "    print(f\"MAE: {mae:.4f}, MSE: {mse:.4f}, R²: {r2:.4f}\\n\")"
      ],
      "metadata": {
        "id": "c6omueXCUqVq"
      },
      "execution_count": null,
      "outputs": []
    },
    {
      "cell_type": "code",
      "source": [
        "# Visualization of Predictions vs Actual\n",
        "fig, axes = plt.subplots(2, 3, figsize=(18, 10))\n",
        "axes = axes.flatten()\n",
        "\n",
        "for i, (name, y_pred) in enumerate(predictions.items()):\n",
        "    axes[i].scatter(y_test, y_pred, alpha=0.5)\n",
        "    axes[i].plot([y_test.min(), y_test.max()], [y_test.min(), y_test.max()], '--', color='red')\n",
        "    axes[i].set_title(f\"{name}: Predictions vs Actual\")\n",
        "    axes[i].set_xlabel(\"Actual Values\")\n",
        "    axes[i].set_ylabel(\"Predicted Values\")\n",
        "\n",
        "plt.tight_layout()\n",
        "plt.show()"
      ],
      "metadata": {
        "id": "ed8SOoXdW6GJ"
      },
      "execution_count": null,
      "outputs": []
    },
    {
      "cell_type": "code",
      "source": [
        "# Visualization of Model Performance\n",
        "models_list = list(results.keys())\n",
        "mae_values = [results[m][0] for m in models_list]\n",
        "mse_values = [results[m][1] for m in models_list]\n",
        "r2_values = [results[m][2] for m in models_list]\n",
        "\n",
        "fig, axes = plt.subplots(1, 3, figsize=(18, 5))\n",
        "\n",
        "sns.barplot(x=models_list, y=mae_values, ax=axes[0], palette=\"Blues\", legend=False, hue=models.keys())\n",
        "axes[0].set_title(\"Mean Absolute Error (MAE)\")\n",
        "axes[0].set_ylabel(\"MAE\")\n",
        "axes[0].tick_params(axis='x', rotation=45)\n",
        "\n",
        "sns.barplot(x=models_list, y=mse_values, ax=axes[1], palette=\"Greens\", legend=False, hue=models.keys())\n",
        "axes[1].set_title(\"Mean Squared Error (MSE)\")\n",
        "axes[1].set_ylabel(\"MSE\")\n",
        "axes[1].tick_params(axis='x', rotation=45)\n",
        "\n",
        "sns.barplot(x=models_list, y=r2_values, ax=axes[2], palette=\"Reds\", legend=False, hue=models.keys())\n",
        "axes[2].set_title(\"R² Score\")\n",
        "axes[2].set_ylabel(\"R²\")\n",
        "axes[2].tick_params(axis='x', rotation=45)\n",
        "\n",
        "plt.tight_layout()\n",
        "plt.show()"
      ],
      "metadata": {
        "id": "Jc17-w2nVewT"
      },
      "execution_count": null,
      "outputs": []
    }
  ]
}