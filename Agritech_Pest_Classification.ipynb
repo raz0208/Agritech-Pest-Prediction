{
  "nbformat": 4,
  "nbformat_minor": 0,
  "metadata": {
    "colab": {
      "provenance": [],
      "authorship_tag": "ABX9TyP7wDAkQrX9VSYcIT0o+p/F",
      "include_colab_link": true
    },
    "kernelspec": {
      "name": "python3",
      "display_name": "Python 3"
    },
    "language_info": {
      "name": "python"
    }
  },
  "cells": [
    {
      "cell_type": "markdown",
      "metadata": {
        "id": "view-in-github",
        "colab_type": "text"
      },
      "source": [
        "<a href=\"https://colab.research.google.com/github/raz0208/Agritech-Pest-Prediction/blob/main/Agritech_Pest_Classification.ipynb\" target=\"_parent\"><img src=\"https://colab.research.google.com/assets/colab-badge.svg\" alt=\"Open In Colab\"/></a>"
      ]
    },
    {
      "cell_type": "markdown",
      "source": [
        "## Model implementation: Classification Problem"
      ],
      "metadata": {
        "id": "NyHCQKjt6rmO"
      }
    },
    {
      "cell_type": "code",
      "source": [
        "# Import required libraries\n",
        "import os\n",
        "import pandas as pd\n",
        "import numpy as np\n",
        "\n",
        "## Libraries for visualization\n",
        "import matplotlib.pyplot as plt\n",
        "import seaborn as sns\n",
        "\n",
        "# import rewuired libraries for classification tasks\n",
        "from sklearn.preprocessing import StandardScaler\n",
        "from sklearn.model_selection import train_test_split\n",
        "from sklearn.linear_model import LogisticRegression\n",
        "from sklearn.tree import DecisionTreeClassifier\n",
        "from sklearn.metrics import accuracy_score, classification_report, confusion_matrix\n",
        "from sklearn.metrics import mean_absolute_error, mean_squared_error, r2_score"
      ],
      "metadata": {
        "id": "2X6nli-C600c"
      },
      "execution_count": 3,
      "outputs": []
    },
    {
      "cell_type": "markdown",
      "source": [
        "### Logistic Regression and Decision Tree classification"
      ],
      "metadata": {
        "id": "HqbtyY089fLN"
      }
    },
    {
      "cell_type": "code",
      "source": [
        "# Read data\n",
        "FeatureExtracted_DS = pd.read_csv('/content/FeatureExtracted_dataset.csv')\n",
        "\n",
        "# Showing first rows of preprocessed Agritech Pest dataset\n",
        "print(FeatureExtracted_DS.head())"
      ],
      "metadata": {
        "id": "oa4bBfkQ5ask",
        "colab": {
          "base_uri": "https://localhost:8080/"
        },
        "outputId": "7d317192-9a00-4b57-8fa2-15689eabf13b"
      },
      "execution_count": 5,
      "outputs": [
        {
          "output_type": "stream",
          "name": "stdout",
          "text": [
            "         Date      Time  Number of Insects  New Catches  Event   Location  \\\n",
            "0  2024-07-06  06:01:00                0.0          0.0      0  Cicalino1   \n",
            "1  2024-07-07  06:04:00                0.0          0.0      0  Cicalino1   \n",
            "2  2024-07-08  06:03:00                0.0          0.0      0  Cicalino1   \n",
            "3  2024-07-09  06:05:00                0.0          0.0      1  Cicalino1   \n",
            "4  2024-07-10  06:03:00                0.0          0.0      0  Cicalino1   \n",
            "\n",
            "   Average Temperature  Temp_low  Temp_high  Average Humidity  ...  \\\n",
            "0                13.91      13.6       14.4             97.65  ...   \n",
            "1                20.78      20.1       21.2             83.49  ...   \n",
            "2                19.03      18.7       19.5             96.87  ...   \n",
            "3                15.33      15.0       15.7             82.29  ...   \n",
            "4                15.48      15.0       16.0             87.12  ...   \n",
            "\n",
            "   Day Max_temp  Day Avg_Humidity  Temp_change  Year  Month  Day  Weekday  \\\n",
            "0          30.6             72.25         17.0  2024      7    6        5   \n",
            "1          30.2             76.73         11.5  2024      7    7        6   \n",
            "2          33.9             69.14         15.6  2024      7    8        0   \n",
            "3          36.0             53.65         21.0  2024      7    9        1   \n",
            "4          36.2             58.94         21.2  2024      7   10        2   \n",
            "\n",
            "   Lag_1  Lag_2  Lag_3  \n",
            "0    0.0    0.0    0.0  \n",
            "1    0.0    0.0    0.0  \n",
            "2    0.0    0.0    0.0  \n",
            "3    0.0    0.0    0.0  \n",
            "4    0.0    0.0    0.0  \n",
            "\n",
            "[5 rows x 22 columns]\n"
          ]
        }
      ]
    },
    {
      "cell_type": "code",
      "source": [
        "# Summary of dataset\n",
        "FeatureExtracted_DS.info()"
      ],
      "metadata": {
        "colab": {
          "base_uri": "https://localhost:8080/"
        },
        "id": "fe6STpDjbp73",
        "outputId": "0fdac3e0-c61d-4254-d366-dc99f6be6620"
      },
      "execution_count": 6,
      "outputs": [
        {
          "output_type": "stream",
          "name": "stdout",
          "text": [
            "<class 'pandas.core.frame.DataFrame'>\n",
            "RangeIndex: 153 entries, 0 to 152\n",
            "Data columns (total 22 columns):\n",
            " #   Column               Non-Null Count  Dtype  \n",
            "---  ------               --------------  -----  \n",
            " 0   Date                 153 non-null    object \n",
            " 1   Time                 153 non-null    object \n",
            " 2   Number of Insects    153 non-null    float64\n",
            " 3   New Catches          153 non-null    float64\n",
            " 4   Event                153 non-null    int64  \n",
            " 5   Location             153 non-null    object \n",
            " 6   Average Temperature  153 non-null    float64\n",
            " 7   Temp_low             153 non-null    float64\n",
            " 8   Temp_high            153 non-null    float64\n",
            " 9   Average Humidity     153 non-null    float64\n",
            " 10  Day Avg_temp         153 non-null    float64\n",
            " 11  Day Min_temp         153 non-null    float64\n",
            " 12  Day Max_temp         153 non-null    float64\n",
            " 13  Day Avg_Humidity     153 non-null    float64\n",
            " 14  Temp_change          153 non-null    float64\n",
            " 15  Year                 153 non-null    int64  \n",
            " 16  Month                153 non-null    int64  \n",
            " 17  Day                  153 non-null    int64  \n",
            " 18  Weekday              153 non-null    int64  \n",
            " 19  Lag_1                153 non-null    float64\n",
            " 20  Lag_2                153 non-null    float64\n",
            " 21  Lag_3                153 non-null    float64\n",
            "dtypes: float64(14), int64(5), object(3)\n",
            "memory usage: 26.4+ KB\n"
          ]
        }
      ]
    },
    {
      "cell_type": "code",
      "source": [
        "# Summary of dataset\n",
        "print(FeatureExtracted_DS.describe())"
      ],
      "metadata": {
        "colab": {
          "base_uri": "https://localhost:8080/"
        },
        "id": "JiwIrT3Gb2I4",
        "outputId": "89e2133d-7b57-4b71-9404-b5298bfd9739"
      },
      "execution_count": 7,
      "outputs": [
        {
          "output_type": "stream",
          "name": "stdout",
          "text": [
            "       Number of Insects  New Catches       Event  Average Temperature  \\\n",
            "count         153.000000   153.000000  153.000000           153.000000   \n",
            "mean            0.392157     0.169935    0.163399            20.569641   \n",
            "std             0.844762     0.497240    0.370943             2.855747   \n",
            "min             0.000000     0.000000    0.000000            13.910000   \n",
            "25%             0.000000     0.000000    0.000000            18.490000   \n",
            "50%             0.000000     0.000000    0.000000            20.280000   \n",
            "75%             0.000000     0.000000    0.000000            22.450000   \n",
            "max             5.000000     4.000000    1.000000            27.000000   \n",
            "\n",
            "         Temp_low   Temp_high  Average Humidity  Day Avg_temp  Day Min_temp  \\\n",
            "count  153.000000  153.000000        153.000000    153.000000    153.000000   \n",
            "mean    20.224183   20.977451         82.332582     27.029020     18.768301   \n",
            "std      2.787006    2.934341         10.905657      2.160891      1.998641   \n",
            "min     13.600000   14.400000         55.430000     19.660000     13.600000   \n",
            "25%     18.300000   18.800000         73.770000     26.210000     17.500000   \n",
            "50%     20.000000   20.700000         84.980000     27.270000     18.900000   \n",
            "75%     21.900000   22.900000         90.690000     28.170000     20.000000   \n",
            "max     26.200000   28.300000         97.920000     31.100000     22.500000   \n",
            "\n",
            "       Day Max_temp  Day Avg_Humidity  Temp_change    Year       Month  \\\n",
            "count    153.000000        153.000000   153.000000   153.0  153.000000   \n",
            "mean      36.191176         63.237614    17.422876  2024.0    7.640523   \n",
            "std        3.827868         10.123844     4.355339     0.0    0.481423   \n",
            "min       21.300000         42.670000     0.900000  2024.0    7.000000   \n",
            "25%       35.000000         56.070000    16.400000  2024.0    7.000000   \n",
            "50%       37.300000         63.230000    18.000000  2024.0    8.000000   \n",
            "75%       38.200000         67.170000    19.900000  2024.0    8.000000   \n",
            "max       41.000000         90.530000    24.100000  2024.0    8.000000   \n",
            "\n",
            "              Day     Weekday       Lag_1       Lag_2      Lag_3  \n",
            "count  153.000000  153.000000  153.000000  153.000000  153.00000  \n",
            "mean    14.954248    3.019608    0.333333    0.294118    0.27451  \n",
            "std      7.844156    1.965059    0.725476    0.647692    0.63074  \n",
            "min      1.000000    0.000000    0.000000    0.000000    0.00000  \n",
            "25%      9.000000    1.000000    0.000000    0.000000    0.00000  \n",
            "50%     15.000000    3.000000    0.000000    0.000000    0.00000  \n",
            "75%     21.000000    5.000000    0.000000    0.000000    0.00000  \n",
            "max     31.000000    6.000000    4.000000    4.000000    4.00000  \n"
          ]
        }
      ]
    },
    {
      "cell_type": "code",
      "source": [
        "# Check for missing values\n",
        "print(FeatureExtracted_DS.isnull().sum())"
      ],
      "metadata": {
        "colab": {
          "base_uri": "https://localhost:8080/"
        },
        "id": "kPxkQ4Kib_Mi",
        "outputId": "296fb26c-2219-4228-bf1a-f96aa574620b"
      },
      "execution_count": 8,
      "outputs": [
        {
          "output_type": "stream",
          "name": "stdout",
          "text": [
            "Date                   0\n",
            "Time                   0\n",
            "Number of Insects      0\n",
            "New Catches            0\n",
            "Event                  0\n",
            "Location               0\n",
            "Average Temperature    0\n",
            "Temp_low               0\n",
            "Temp_high              0\n",
            "Average Humidity       0\n",
            "Day Avg_temp           0\n",
            "Day Min_temp           0\n",
            "Day Max_temp           0\n",
            "Day Avg_Humidity       0\n",
            "Temp_change            0\n",
            "Year                   0\n",
            "Month                  0\n",
            "Day                    0\n",
            "Weekday                0\n",
            "Lag_1                  0\n",
            "Lag_2                  0\n",
            "Lag_3                  0\n",
            "dtype: int64\n"
          ]
        }
      ]
    },
    {
      "cell_type": "markdown",
      "source": [
        "### Logistic Regression and Random Forest classifier"
      ],
      "metadata": {
        "id": "9v4RKaOKT4-6"
      }
    },
    {
      "cell_type": "code",
      "source": [
        "# Copy dataset to nw dataframe\n",
        "df = pd.read_csv('/content/FeatureExtracted_dataset.csv')\n",
        "\n",
        "# Load the dataset\n",
        "X = df.drop(columns=[\"New Catches\", \"Date\", \"Time\", \"Location\"])  # Drop non-numeric columns\n",
        "y = df[\"New Catches\"]\n",
        "\n",
        "# Split into train and test sets\n",
        "X_train, X_test, y_train, y_test = train_test_split(X, y, test_size=0.2, random_state=42)\n",
        "\n",
        "# Standardize features for Logistic Regression\n",
        "scaler = StandardScaler()\n",
        "X_train_scaled = scaler.fit_transform(X_train)\n",
        "X_test_scaled = scaler.transform(X_test)\n",
        "\n",
        "# Initialize models\n",
        "log_reg = LogisticRegression()\n",
        "dt_clf = DecisionTreeClassifier(random_state=42)\n",
        "\n",
        "models = {\n",
        "    \"Logistic Regression\": log_reg,\n",
        "    \"Decision Tree\": dt_clf\n",
        "}\n",
        "\n",
        "results = {}\n",
        "predictions = {}\n",
        "\n",
        "# Train and evaluate each model\n",
        "for name, model in models.items():\n",
        "    model.fit(X_train_scaled if name == \"Logistic Regression\" else X_train, y_train)\n",
        "    y_pred = model.predict(X_test_scaled if name == \"Logistic Regression\" else X_test)\n",
        "    predictions[name] = y_pred\n",
        "    acc = accuracy_score(y_test, y_pred)\n",
        "    results[name] = acc\n",
        "    print(f\"{name} Accuracy: {acc:.4f}\")\n",
        "    print(classification_report(y_test, y_pred))"
      ],
      "metadata": {
        "colab": {
          "base_uri": "https://localhost:8080/"
        },
        "id": "RO5Bx-MP7QQt",
        "outputId": "c5a1a901-8e79-43e5-f327-2aa93ad503b9"
      },
      "execution_count": 9,
      "outputs": [
        {
          "output_type": "stream",
          "name": "stdout",
          "text": [
            "Logistic Regression Accuracy: 0.8387\n",
            "              precision    recall  f1-score   support\n",
            "\n",
            "         0.0       0.89      0.92      0.91        26\n",
            "         1.0       0.50      0.40      0.44         5\n",
            "\n",
            "    accuracy                           0.84        31\n",
            "   macro avg       0.69      0.66      0.68        31\n",
            "weighted avg       0.83      0.84      0.83        31\n",
            "\n",
            "Decision Tree Accuracy: 0.8387\n",
            "              precision    recall  f1-score   support\n",
            "\n",
            "         0.0       0.89      0.92      0.91        26\n",
            "         1.0       0.50      0.40      0.44         5\n",
            "\n",
            "    accuracy                           0.84        31\n",
            "   macro avg       0.69      0.66      0.68        31\n",
            "weighted avg       0.83      0.84      0.83        31\n",
            "\n"
          ]
        }
      ]
    },
    {
      "cell_type": "code",
      "source": [
        "# Visualization of Accuracy Scores\n",
        "fig, ax = plt.subplots(figsize=(8, 5))\n",
        "sns.barplot(x=list(results.keys()), y=list(results.values()), palette=\"coolwarm\", legend=False, hue=models.keys())\n",
        "ax.set_title(\"Model Accuracy Comparison\")\n",
        "ax.set_ylabel(\"Accuracy\")\n",
        "plt.ylim(0, 1)\n",
        "plt.show()\n",
        "\n",
        "print(\"\\n\")\n",
        "# Confusion Matrix Visualization\n",
        "fig, axes = plt.subplots(1, 2, figsize=(12, 5))\n",
        "\n",
        "for i, (name, y_pred) in enumerate(predictions.items()):\n",
        "    cm = confusion_matrix(y_test, y_pred)\n",
        "    sns.heatmap(cm, annot=True, fmt='d', cmap='Blues', ax=axes[i])\n",
        "    axes[i].set_title(f\"{name} Confusion Matrix\")\n",
        "    axes[i].set_xlabel(\"Predicted Label\")\n",
        "    axes[i].set_ylabel(\"True Label\")\n",
        "\n",
        "plt.tight_layout()\n",
        "plt.show()"
      ],
      "metadata": {
        "colab": {
          "base_uri": "https://localhost:8080/",
          "height": 993
        },
        "id": "VqKXp32q7XIt",
        "outputId": "553f76f9-7f38-4857-fce8-28d54818a7b2"
      },
      "execution_count": 10,
      "outputs": [
        {
          "output_type": "display_data",
          "data": {
            "text/plain": [
              "<Figure size 800x500 with 1 Axes>"
            ],
            "image/png": "[encoded data removed]"
          },
          "metadata": {}
        },
        {
          "output_type": "stream",
          "name": "stdout",
          "text": [
            "\n",
            "\n"
          ]
        },
        {
          "output_type": "display_data",
          "data": {
            "text/plain": [
              "<Figure size 1200x500 with 4 Axes>"
            ],
            "image/png": "[encoded data removed]"
          },
          "metadata": {}
        }
      ]
    },
    {
      "cell_type": "markdown",
      "source": [
        "### Random Forest and Gradient Boosting classifiers, including XGBoost, LightGBM, and CatBoost"
      ],
      "metadata": {
        "id": "hVyVZo-_-IfW"
      }
    },
    {
      "cell_type": "code",
      "source": [
        "from sklearn.ensemble import RandomForestClassifier, GradientBoostingClassifier\n",
        "from xgboost import XGBClassifier\n",
        "# from lightgbm import LGBMClassifier\n",
        "#from catboost import CatBoostClassifier"
      ],
      "metadata": {
        "id": "pEMmZlR9-D3d"
      },
      "execution_count": null,
      "outputs": []
    },
    {
      "cell_type": "code",
      "source": [
        "# Copy dataset to nw dataframe\n",
        "df = pd.read_csv('/content/FeatureExtracted_dataset.csv')\n",
        "\n",
        "# Load the dataset (assuming 'df' is already preprocessed)\n",
        "X = df.drop(columns=[\"New Catches\", \"Date\", \"Time\", \"Location\"])  # Drop non-numeric columns\n",
        "y = df[\"New Catches\"]\n",
        "\n",
        "# Split into train and test sets\n",
        "X_train, X_test, y_train, y_test = train_test_split(X, y, test_size=0.2, random_state=42)\n",
        "\n",
        "# Initialize models\n",
        "rf_clf = RandomForestClassifier(n_estimators=100, random_state=42)\n",
        "gb_clf = GradientBoostingClassifier(n_estimators=100, random_state=42)\n",
        "xgb_clf = XGBClassifier(n_estimators=100, use_label_encoder=False, eval_metric='logloss', random_state=42)\n",
        "# lgb_clf = LGBMClassifier(n_estimators=100, random_state=42)\n",
        "# cat_clf = CatBoostClassifier(n_estimators=100, verbose=0, random_state=42)\n",
        "\n",
        "models = {\n",
        "    \"Random Forest\": rf_clf,\n",
        "    \"Gradient Boosting\": gb_clf,\n",
        "    \"XGBoost\": xgb_clf,\n",
        "    # \"LightGBM\": lgb_clf,\n",
        "    # \"CatBoost\": cat_clf\n",
        "}\n",
        "\n",
        "results = {}\n",
        "predictions = {}\n",
        "\n",
        "# Train and evaluate each model\n",
        "for name, model in models.items():\n",
        "    model.fit(X_train, y_train)\n",
        "    y_pred = model.predict(X_test)\n",
        "    predictions[name] = y_pred\n",
        "    acc = accuracy_score(y_test, y_pred)\n",
        "    results[name] = acc\n",
        "    print(f\"{name} Accuracy: {acc:.4f}\")\n",
        "    print(classification_report(y_test, y_pred))"
      ],
      "metadata": {
        "colab": {
          "base_uri": "https://localhost:8080/",
          "height": 720
        },
        "id": "kiUuprDY-H_9",
        "outputId": "a208be00-38da-469e-8977-01792ab7e313"
      },
      "execution_count": null,
      "outputs": [
        {
          "output_type": "stream",
          "name": "stdout",
          "text": [
            "Random Forest Accuracy: 0.7742\n",
            "              precision    recall  f1-score   support\n",
            "\n",
            "         0.0       0.83      0.92      0.87        26\n",
            "         1.0       0.00      0.00      0.00         5\n",
            "\n",
            "    accuracy                           0.77        31\n",
            "   macro avg       0.41      0.46      0.44        31\n",
            "weighted avg       0.69      0.77      0.73        31\n",
            "\n",
            "Gradient Boosting Accuracy: 0.9032\n",
            "              precision    recall  f1-score   support\n",
            "\n",
            "         0.0       0.96      0.92      0.94        26\n",
            "         1.0       0.67      0.80      0.73         5\n",
            "\n",
            "    accuracy                           0.90        31\n",
            "   macro avg       0.81      0.86      0.83        31\n",
            "weighted avg       0.91      0.90      0.91        31\n",
            "\n"
          ]
        },
        {
          "output_type": "error",
          "ename": "ValueError",
          "evalue": "Invalid classes inferred from unique values of `y`.  Expected: [0 1 2 3], got [0. 1. 2. 4.]",
          "traceback": [
            "\u001b[0;31m---------------------------------------------------------------------------\u001b[0m",
            "\u001b[0;31mValueError\u001b[0m                                Traceback (most recent call last)",
            "\u001b[0;32m<ipython-input-24-bb4505fa8ba1>\u001b[0m in \u001b[0;36m<cell line: 0>\u001b[0;34m()\u001b[0m\n\u001b[1;32m     29\u001b[0m \u001b[0;31m# Train and evaluate each model\u001b[0m\u001b[0;34m\u001b[0m\u001b[0;34m\u001b[0m\u001b[0m\n\u001b[1;32m     30\u001b[0m \u001b[0;32mfor\u001b[0m \u001b[0mname\u001b[0m\u001b[0;34m,\u001b[0m \u001b[0mmodel\u001b[0m \u001b[0;32min\u001b[0m \u001b[0mmodels\u001b[0m\u001b[0;34m.\u001b[0m\u001b[0mitems\u001b[0m\u001b[0;34m(\u001b[0m\u001b[0;34m)\u001b[0m\u001b[0;34m:\u001b[0m\u001b[0;34m\u001b[0m\u001b[0;34m\u001b[0m\u001b[0m\n\u001b[0;32m---> 31\u001b[0;31m     \u001b[0mmodel\u001b[0m\u001b[0;34m.\u001b[0m\u001b[0mfit\u001b[0m\u001b[0;34m(\u001b[0m\u001b[0mX_train\u001b[0m\u001b[0;34m,\u001b[0m \u001b[0my_train\u001b[0m\u001b[0;34m)\u001b[0m\u001b[0;34m\u001b[0m\u001b[0;34m\u001b[0m\u001b[0m\n\u001b[0m\u001b[1;32m     32\u001b[0m     \u001b[0my_pred\u001b[0m \u001b[0;34m=\u001b[0m \u001b[0mmodel\u001b[0m\u001b[0;34m.\u001b[0m\u001b[0mpredict\u001b[0m\u001b[0;34m(\u001b[0m\u001b[0mX_test\u001b[0m\u001b[0;34m)\u001b[0m\u001b[0;34m\u001b[0m\u001b[0;34m\u001b[0m\u001b[0m\n\u001b[1;32m     33\u001b[0m     \u001b[0mpredictions\u001b[0m\u001b[0;34m[\u001b[0m\u001b[0mname\u001b[0m\u001b[0;34m]\u001b[0m \u001b[0;34m=\u001b[0m \u001b[0my_pred\u001b[0m\u001b[0;34m\u001b[0m\u001b[0;34m\u001b[0m\u001b[0m\n",
            "\u001b[0;32m/usr/local/lib/python3.11/dist-packages/xgboost/core.py\u001b[0m in \u001b[0;36minner_f\u001b[0;34m(*args, **kwargs)\u001b[0m\n\u001b[1;32m    724\u001b[0m             \u001b[0;32mfor\u001b[0m \u001b[0mk\u001b[0m\u001b[0;34m,\u001b[0m \u001b[0marg\u001b[0m \u001b[0;32min\u001b[0m \u001b[0mzip\u001b[0m\u001b[0;34m(\u001b[0m\u001b[0msig\u001b[0m\u001b[0;34m.\u001b[0m\u001b[0mparameters\u001b[0m\u001b[0;34m,\u001b[0m \u001b[0margs\u001b[0m\u001b[0;34m)\u001b[0m\u001b[0;34m:\u001b[0m\u001b[0;34m\u001b[0m\u001b[0;34m\u001b[0m\u001b[0m\n\u001b[1;32m    725\u001b[0m                 \u001b[0mkwargs\u001b[0m\u001b[0;34m[\u001b[0m\u001b[0mk\u001b[0m\u001b[0;34m]\u001b[0m \u001b[0;34m=\u001b[0m \u001b[0marg\u001b[0m\u001b[0;34m\u001b[0m\u001b[0;34m\u001b[0m\u001b[0m\n\u001b[0;32m--> 726\u001b[0;31m             \u001b[0;32mreturn\u001b[0m \u001b[0mfunc\u001b[0m\u001b[0;34m(\u001b[0m\u001b[0;34m**\u001b[0m\u001b[0mkwargs\u001b[0m\u001b[0;34m)\u001b[0m\u001b[0;34m\u001b[0m\u001b[0;34m\u001b[0m\u001b[0m\n\u001b[0m\u001b[1;32m    727\u001b[0m \u001b[0;34m\u001b[0m\u001b[0m\n\u001b[1;32m    728\u001b[0m         \u001b[0;32mreturn\u001b[0m \u001b[0minner_f\u001b[0m\u001b[0;34m\u001b[0m\u001b[0;34m\u001b[0m\u001b[0m\n",
            "\u001b[0;32m/usr/local/lib/python3.11/dist-packages/xgboost/sklearn.py\u001b[0m in \u001b[0;36mfit\u001b[0;34m(self, X, y, sample_weight, base_margin, eval_set, verbose, xgb_model, sample_weight_eval_set, base_margin_eval_set, feature_weights)\u001b[0m\n\u001b[1;32m   1557\u001b[0m                 \u001b[0;32mor\u001b[0m \u001b[0;32mnot\u001b[0m \u001b[0;34m(\u001b[0m\u001b[0mclasses\u001b[0m \u001b[0;34m==\u001b[0m \u001b[0mexpected_classes\u001b[0m\u001b[0;34m)\u001b[0m\u001b[0;34m.\u001b[0m\u001b[0mall\u001b[0m\u001b[0;34m(\u001b[0m\u001b[0;34m)\u001b[0m\u001b[0;34m\u001b[0m\u001b[0;34m\u001b[0m\u001b[0m\n\u001b[1;32m   1558\u001b[0m             ):\n\u001b[0;32m-> 1559\u001b[0;31m                 raise ValueError(\n\u001b[0m\u001b[1;32m   1560\u001b[0m                     \u001b[0;34mf\"Invalid classes inferred from unique values of `y`.  \"\u001b[0m\u001b[0;34m\u001b[0m\u001b[0;34m\u001b[0m\u001b[0m\n\u001b[1;32m   1561\u001b[0m                     \u001b[0;34mf\"Expected: {expected_classes}, got {classes}\"\u001b[0m\u001b[0;34m\u001b[0m\u001b[0;34m\u001b[0m\u001b[0m\n",
            "\u001b[0;31mValueError\u001b[0m: Invalid classes inferred from unique values of `y`.  Expected: [0 1 2 3], got [0. 1. 2. 4.]"
          ]
        }
      ]
    },
    {
      "cell_type": "code",
      "source": [
        "# Visualization of Accuracy Scores\n",
        "fig, ax = plt.subplots(figsize=(8, 5))\n",
        "sns.barplot(x=list(results.keys()), y=list(results.values()), palette=\"coolwarm\", legend=False, hue=models.keys())\n",
        "ax.set_title(\"Model Accuracy Comparison\")\n",
        "ax.set_ylabel(\"Accuracy\")\n",
        "plt.ylim(0, 1)\n",
        "plt.xticks(rotation=45)\n",
        "plt.show()\n",
        "\n",
        "print(\"\\n\")\n",
        "\n",
        "# Confusion Matrix Visualization\n",
        "fig, axes = plt.subplots(1, 2, figsize=(10, 5))\n",
        "axes = axes.flatten()\n",
        "\n",
        "for i, (name, y_pred) in enumerate(predictions.items()):\n",
        "    cm = confusion_matrix(y_test, y_pred)\n",
        "    sns.heatmap(cm, annot=True, fmt='d', cmap='Blues', ax=axes[i])\n",
        "    axes[i].set_title(f\"{name} Confusion Matrix\")\n",
        "    axes[i].set_xlabel(\"Predicted Label\")\n",
        "    axes[i].set_ylabel(\"True Label\")\n",
        "\n",
        "plt.tight_layout()\n",
        "plt.show()"
      ],
      "metadata": {
        "id": "yYXpHriD_Tz8"
      },
      "execution_count": null,
      "outputs": []
    },
    {
      "cell_type": "markdown",
      "source": [
        "### Support Vector Machine (SVM), K-Nearest Neighbors (KNN), and Neural Networks (MLP Classifier)"
      ],
      "metadata": {
        "id": "lPHJokBTAz69"
      }
    },
    {
      "cell_type": "code",
      "source": [
        "from sklearn.svm import SVC\n",
        "from sklearn.neighbors import KNeighborsClassifier\n",
        "from sklearn.neural_network import MLPClassifier"
      ],
      "metadata": {
        "id": "0u8pmKWdA0uA"
      },
      "execution_count": null,
      "outputs": []
    },
    {
      "cell_type": "code",
      "source": [
        "# Copy dataset to nw dataframe\n",
        "df = pd.read_csv('/content/FeatureExtracted_dataset.csv')\n",
        "\n",
        "# Load the dataset (assuming 'df' is already preprocessed)\n",
        "X = df.drop(columns=[\"New Catches\", \"Date\", \"Time\", \"Location\"])  # Drop non-numeric columns\n",
        "y = df[\"New Catches\"]\n",
        "\n",
        "# Split into train and test sets\n",
        "X_train, X_test, y_train, y_test = train_test_split(X, y, test_size=0.2, random_state=42)\n",
        "\n",
        "# Standardize features for SVM and MLP\n",
        "scaler = StandardScaler()\n",
        "X_train_scaled = scaler.fit_transform(X_train)\n",
        "X_test_scaled = scaler.transform(X_test)\n",
        "\n",
        "# Initialize models\n",
        "svm_clf = SVC(kernel='rbf', random_state=42)\n",
        "knn_clf = KNeighborsClassifier(n_neighbors=5)\n",
        "mlp_clf = MLPClassifier(hidden_layer_sizes=(100,), max_iter=500, random_state=42)\n",
        "\n",
        "models = {\n",
        "    \"Support Vector Machine\": svm_clf,\n",
        "    \"K-Nearest Neighbors\": knn_clf,\n",
        "    \"Neural Network (MLP)\": mlp_clf\n",
        "}\n",
        "\n",
        "results = {}\n",
        "predictions = {}\n",
        "\n",
        "# Train and evaluate each model\n",
        "for name, model in models.items():\n",
        "    model.fit(X_train_scaled if name in [\"Support Vector Machine\", \"Neural Network (MLP)\"] else X_train, y_train)\n",
        "    y_pred = model.predict(X_test_scaled if name in [\"Support Vector Machine\", \"Neural Network (MLP)\"] else X_test)\n",
        "    predictions[name] = y_pred\n",
        "    acc = accuracy_score(y_test, y_pred)\n",
        "    results[name] = acc\n",
        "    print(f\"{name} Accuracy: {acc:.4f}\")\n",
        "    print(classification_report(y_test, y_pred))"
      ],
      "metadata": {
        "id": "pV-P3ZVPBE5t"
      },
      "execution_count": null,
      "outputs": []
    },
    {
      "cell_type": "code",
      "source": [
        "# Visualization of Accuracy Scores\n",
        "fig, ax = plt.subplots(figsize=(8, 5))\n",
        "sns.barplot(x=list(results.keys()), y=list(results.values()), palette=\"coolwarm\", legend=False, hue=models.keys())\n",
        "ax.set_title(\"Model Accuracy Comparison\")\n",
        "ax.set_ylabel(\"Accuracy\")\n",
        "plt.ylim(0, 1)\n",
        "plt.xticks(rotation=45)\n",
        "plt.show()\n",
        "\n",
        "print(\"\\n\")\n",
        "\n",
        "# Confusion Matrix Visualization\n",
        "fig, axes = plt.subplots(1, 3, figsize=(15, 5))\n",
        "\n",
        "for i, (name, y_pred) in enumerate(predictions.items()):\n",
        "    cm = confusion_matrix(y_test, y_pred)\n",
        "    sns.heatmap(cm, annot=True, fmt='d', cmap='Blues', ax=axes[i])\n",
        "    axes[i].set_title(f\"{name} Confusion Matrix\")\n",
        "    axes[i].set_xlabel(\"Predicted Label\")\n",
        "    axes[i].set_ylabel(\"True Label\")\n",
        "\n",
        "plt.tight_layout()\n",
        "plt.show()"
      ],
      "metadata": {
        "id": "roy0Y_2iBIa9"
      },
      "execution_count": null,
      "outputs": []
    },
    {
      "cell_type": "markdown",
      "source": [
        "## Model Impelementaion: Time Series Analysis"
      ],
      "metadata": {
        "id": "cq9bO1DlJc04"
      }
    },
    {
      "cell_type": "code",
      "source": [
        "# Required libararies for Time Series Forcasting models\n",
        "from statsmodels.tsa.seasonal import seasonal_decompose\n",
        "from statsmodels.graphics.tsaplots import plot_acf, plot_pacf\n",
        "from statsmodels.tsa.stattools import adfuller\n",
        "from statsmodels.tsa.seasonal import STL"
      ],
      "metadata": {
        "id": "LRJSomW1JjKa"
      },
      "execution_count": null,
      "outputs": []
    },
    {
      "cell_type": "code",
      "source": [
        "# Load dataset\n",
        "TS_df = pd.read_csv('/content/FeatureExtracted_dataset.csv')\n",
        "\n",
        "# Convert Date column to datetime\n",
        "TS_df[\"Date\"] = pd.to_datetime(TS_df[\"Date\"])  # Convert Date column to datetime\n",
        "TS_df.set_index(\"Date\", inplace=True)  # Set Date as index\n",
        "TS_df = TS_df.sort_index()  # Ensure data is sorted by time\n",
        "\n",
        "# Plot Time Series\n",
        "plt.figure(figsize=(12, 5))\n",
        "plt.plot(TS_df.index, TS_df[\"Number of Insects\"], label=\"Number of Insects\")\n",
        "plt.xlabel(\"Date\")\n",
        "plt.ylabel(\"Insect Count\")\n",
        "plt.title(\"Time Series Plot of Insect Counts\")\n",
        "plt.legend()\n",
        "plt.show()\n",
        "\n",
        "print(\"\\n\")\n",
        "\n",
        "# Seasonal Decomposition\n",
        "decomposition = seasonal_decompose(TS_df[\"Number of Insects\"], model='additive', period=30)  # Adjust period based on data\n",
        "decomposition.plot()\n",
        "plt.show()\n",
        "\n",
        "print(\"\\n\")\n",
        "\n",
        "# ACF and PACF Plots\n",
        "fig, axes = plt.subplots(1, 2, figsize=(14, 5))\n",
        "plot_acf(TS_df[\"Number of Insects\"], ax=axes[0], lags=50)\n",
        "plot_pacf(TS_df[\"Number of Insects\"], ax=axes[1], lags=50)\n",
        "plt.show()\n",
        "\n",
        "print(\"\\n\")\n",
        "\n",
        "# Fourier Transform (Spectral Analysis)\n",
        "fft_vals = np.fft.fft(TS_df[\"Number of Insects\"])\n",
        "frequencies = np.fft.fftfreq(len(fft_vals))\n",
        "\n",
        "plt.figure(figsize=(10, 5))\n",
        "plt.plot(frequencies[:len(frequencies)//2], np.abs(fft_vals[:len(frequencies)//2]))\n",
        "plt.title(\"Fourier Transform - Frequency Domain Analysis\")\n",
        "plt.xlabel(\"Frequency\")\n",
        "plt.ylabel(\"Amplitude\")\n",
        "plt.show()"
      ],
      "metadata": {
        "id": "NfDyg-jiJsJV"
      },
      "execution_count": null,
      "outputs": []
    },
    {
      "cell_type": "code",
      "source": [
        "# Augmented Dickey-Fuller (ADF) Test for Stationarity\n",
        "def adf_test(series):\n",
        "    result = adfuller(series)\n",
        "    print(\"ADF Statistic:\", result[0])\n",
        "    print(\"p-value:\", result[1])\n",
        "    print(\"Critical Values:\", result[4])\n",
        "    if result[1] <= 0.05:\n",
        "        print(\"The time series is stationary.\")\n",
        "    else:\n",
        "        print(\"The time series is non-stationary.\")\n",
        "\n",
        "print(\"Augmented Dickey-Fuller Test:\")\n",
        "adf_test(TS_df[\"Number of Insects\"])\n",
        "\n",
        "print(\"\\n\")\n",
        "\n",
        "# Seasonal-Trend Decomposition using LOESS (STL)\n",
        "period = 5  # Adjust based on your time series frequency\n",
        "stl = STL(df[\"Number of Insects\"], period=period)\n",
        "result = stl.fit()\n",
        "\n",
        "# Plot STL decomposition\n",
        "fig, axes = plt.subplots(3, 1, figsize=(10, 8), sharex=True)\n",
        "result.trend.plot(ax=axes[0], title=\"Trend\")\n",
        "result.seasonal.plot(ax=axes[1], title=\"Seasonality\")\n",
        "result.resid.plot(ax=axes[2], title=\"Residuals\")\n",
        "plt.tight_layout()\n",
        "plt.show()"
      ],
      "metadata": {
        "id": "YOUN49z-KZqJ"
      },
      "execution_count": null,
      "outputs": []
    },
    {
      "cell_type": "markdown",
      "source": [
        "### Regression Models with Time-Based Features\n",
        "- Linear Regression\n",
        "- Ridge Regression\n",
        "- Lasso Regression\n",
        "- Random Forest\n",
        "- Gradient Boosting"
      ],
      "metadata": {
        "id": "Ru4f7RxkcIs1"
      }
    },
    {
      "cell_type": "code",
      "source": [
        "# Load dataset\n",
        "Time_df = pd.read_csv('/content/FeatureExtracted_dataset.csv')\n",
        "\n",
        "# Convert Date column to datetime\n",
        "Time_df[\"Date\"] = pd.to_datetime(Time_df[\"Date\"])  # Convert Date to datetime\n",
        "Time_df[\"Time\"] = pd.to_datetime(Time_df[\"Time\"], format='%H:%M:%S').dt.hour  # Convert Time to numeric (hour of the day)\n",
        "Time_df[\"Year\"] = Time_df[\"Date\"].dt.year\n",
        "Time_df[\"Month\"] = Time_df[\"Date\"].dt.month\n",
        "Time_df[\"Day\"] = Time_df[\"Date\"].dt.day\n",
        "Time_df[\"Weekday\"] = Time_df[\"Date\"].dt.weekday\n",
        "\n",
        "# Drop original Date column\n",
        "X = Time_df.drop(columns=[\"Number of Insects\", \"Date\", \"Location\"])  # Drop target and non-numeric columns\n",
        "y = Time_df[\"Number of Insects\"]"
      ],
      "metadata": {
        "id": "Zeh1O0cuUFpT"
      },
      "execution_count": null,
      "outputs": []
    },
    {
      "cell_type": "code",
      "source": [
        "# Split into train and test sets\n",
        "X_train, X_test, y_train, y_test = train_test_split(X, y, test_size=0.2, random_state=42)\n",
        "\n",
        "# Initialize models\n",
        "models = {\n",
        "    \"Linear Regression\": LinearRegression(),\n",
        "    \"Ridge Regression\": Ridge(alpha=1.0),\n",
        "    \"Lasso Regression\": Lasso(alpha=0.1),\n",
        "    \"Random Forest\": RandomForestRegressor(n_estimators=100, random_state=42),\n",
        "    \"Gradient Boosting\": GradientBoostingRegressor(n_estimators=100, random_state=42)\n",
        "}\n",
        "\n",
        "# Train and evaluate each model\n",
        "results = {}\n",
        "predictions = {}\n",
        "for name, model in models.items():\n",
        "    model.fit(X_train, y_train)\n",
        "    y_pred = model.predict(X_test)\n",
        "    predictions[name] = y_pred\n",
        "    mae = mean_absolute_error(y_test, y_pred)\n",
        "    mse = mean_squared_error(y_test, y_pred)\n",
        "    r2 = r2_score(y_test, y_pred)\n",
        "    results[name] = (mae, mse, r2)\n",
        "    print(f\"{name} Results:\")\n",
        "    print(f\"MAE: {mae:.4f}, MSE: {mse:.4f}, R²: {r2:.4f}\\n\")"
      ],
      "metadata": {
        "id": "c6omueXCUqVq"
      },
      "execution_count": null,
      "outputs": []
    },
    {
      "cell_type": "code",
      "source": [
        "# Visualization of Predictions vs Actual\n",
        "fig, axes = plt.subplots(2, 3, figsize=(18, 10))\n",
        "axes = axes.flatten()\n",
        "\n",
        "for i, (name, y_pred) in enumerate(predictions.items()):\n",
        "    axes[i].scatter(y_test, y_pred, alpha=0.5)\n",
        "    axes[i].plot([y_test.min(), y_test.max()], [y_test.min(), y_test.max()], '--', color='red')\n",
        "    axes[i].set_title(f\"{name}: Predictions vs Actual\")\n",
        "    axes[i].set_xlabel(\"Actual Values\")\n",
        "    axes[i].set_ylabel(\"Predicted Values\")\n",
        "\n",
        "plt.tight_layout()\n",
        "plt.show()"
      ],
      "metadata": {
        "id": "ed8SOoXdW6GJ"
      },
      "execution_count": null,
      "outputs": []
    },
    {
      "cell_type": "code",
      "source": [
        "# Visualization of Model Performance\n",
        "models_list = list(results.keys())\n",
        "mae_values = [results[m][0] for m in models_list]\n",
        "mse_values = [results[m][1] for m in models_list]\n",
        "r2_values = [results[m][2] for m in models_list]\n",
        "\n",
        "fig, axes = plt.subplots(1, 3, figsize=(18, 5))\n",
        "\n",
        "sns.barplot(x=models_list, y=mae_values, ax=axes[0], palette=\"Blues\", legend=False, hue=models.keys())\n",
        "axes[0].set_title(\"Mean Absolute Error (MAE)\")\n",
        "axes[0].set_ylabel(\"MAE\")\n",
        "axes[0].tick_params(axis='x', rotation=45)\n",
        "\n",
        "sns.barplot(x=models_list, y=mse_values, ax=axes[1], palette=\"Greens\", legend=False, hue=models.keys())\n",
        "axes[1].set_title(\"Mean Squared Error (MSE)\")\n",
        "axes[1].set_ylabel(\"MSE\")\n",
        "axes[1].tick_params(axis='x', rotation=45)\n",
        "\n",
        "sns.barplot(x=models_list, y=r2_values, ax=axes[2], palette=\"Reds\", legend=False, hue=models.keys())\n",
        "axes[2].set_title(\"R² Score\")\n",
        "axes[2].set_ylabel(\"R²\")\n",
        "axes[2].tick_params(axis='x', rotation=45)\n",
        "\n",
        "plt.tight_layout()\n",
        "plt.show()"
      ],
      "metadata": {
        "id": "Jc17-w2nVewT"
      },
      "execution_count": null,
      "outputs": []
    }
  ]
}