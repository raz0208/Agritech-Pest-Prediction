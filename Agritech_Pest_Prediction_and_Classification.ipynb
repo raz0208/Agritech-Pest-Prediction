{
  "nbformat": 4,
  "nbformat_minor": 0,
  "metadata": {
    "colab": {
      "provenance": [],
      "authorship_tag": "ABX9TyORCIj4PCjmhix3B8oibPwH",
      "include_colab_link": true
    },
    "kernelspec": {
      "name": "python3",
      "display_name": "Python 3"
    },
    "language_info": {
      "name": "python"
    }
  },
  "cells": [
    {
      "cell_type": "markdown",
      "metadata": {
        "id": "view-in-github",
        "colab_type": "text"
      },
      "source": [
        "<a href=\"https://colab.research.google.com/github/raz0208/Agritech-Pest-Prediction/blob/main/Agritech_Pest_Prediction_and_Classification.ipynb\" target=\"_parent\"><img src=\"https://colab.research.google.com/assets/colab-badge.svg\" alt=\"Open In Colab\"/></a>"
      ]
    },
    {
      "cell_type": "markdown",
      "source": [
        "## Agritech Pest Prediction and Classification"
      ],
      "metadata": {
        "id": "GQ60Bmyh1Vs2"
      }
    },
    {
      "cell_type": "markdown",
      "source": [
        "### Import required libraries and read the data"
      ],
      "metadata": {
        "id": "b-VcXF3f42XM"
      }
    },
    {
      "cell_type": "code",
      "source": [
        "# Import required libraries\n",
        "import os\n",
        "import pandas as pd\n",
        "import numpy as np\n",
        "import matplotlib.pyplot as plt\n",
        "import seaborn as sns"
      ],
      "metadata": {
        "id": "lawDnngj5EAk"
      },
      "execution_count": 25,
      "outputs": []
    },
    {
      "cell_type": "code",
      "source": [
        "# Read data\n",
        "Capture_Chart_Cicalino_1 = pd.read_csv('/content/AgritechPestDataset/Capture_Chart(Cicalino_1).csv')\n",
        "Capture_Chart_Cicalino_2 = pd.read_csv('/content/AgritechPestDataset/Capture_Chart(Cicalino_2).csv')\n",
        "Capture_Chart_Imola_1 = pd.read_csv('/content/AgritechPestDataset/Capture_Chart(Imola_1).csv')\n",
        "Capture_Chart_Imola_2 = pd.read_csv('/content/AgritechPestDataset/Capture_Chart(Imola_2).csv')\n",
        "Capture_Chart_Imola_3 = pd.read_csv('/content/AgritechPestDataset/Capture_Chart(Imola_3).csv')\n",
        "Historical_Weather_Data_Cicalino_1 = pd.read_csv('/content/AgritechPestDataset/Historical_Weather_Data(Cicalino_1).csv')\n",
        "Historical_Weather_Data_Cicalino_2 = pd.read_csv('/content/AgritechPestDataset/Historical_Weather_Data(Cicalino_2).csv')\n",
        "Historical_Weather_Data_Imola_1 = pd.read_csv('/content/AgritechPestDataset/Historical_Weather_Data(Imola_1).csv')\n",
        "Historical_Weather_Data_Imola_2 = pd.read_csv('/content/AgritechPestDataset/Historical_Weather_Data(Imola_2).csv')\n",
        "Historical_Weather_Data_Imola_3 = pd.read_csv('/content/AgritechPestDataset/Historical_Weather_Data(Imola_3).csv')"
      ],
      "metadata": {
        "id": "oa4bBfkQ5ask"
      },
      "execution_count": 26,
      "outputs": []
    },
    {
      "cell_type": "code",
      "source": [
        "# Showing first rows of each file for Cicalino\n",
        "print(\"** Capture Chart Cicalino 1 ** \\n\",Capture_Chart_Cicalino_1.head(), \"\\n\")\n",
        "print(\"** Capture Chart Cicalino 2 ** \\n\",Capture_Chart_Cicalino_2.head(), \"\\n\")\n",
        "print(\"** Historical Weather Data Cicalino 1 ** \\n\",Historical_Weather_Data_Cicalino_1.head(), \"\\n\")\n",
        "print(\"** Historical Weather Data Cicalino 2 ** \\n\",Historical_Weather_Data_Cicalino_2.head(), \"\\n\")"
      ],
      "metadata": {
        "id": "TtLkKJY-7hnU",
        "colab": {
          "base_uri": "https://localhost:8080/"
        },
        "outputId": "a0fef203-4e2d-4aa6-e48f-68dbf491db26"
      },
      "execution_count": 27,
      "outputs": [
        {
          "output_type": "stream",
          "name": "stdout",
          "text": [
            "** Capture Chart Cicalino 1 ** \n",
            "            Catch chart         Unnamed: 1               Unnamed: 2 Unnamed: 3  \\\n",
            "0             DateTime  Number of insects  New catches (per event)   Reviewed   \n",
            "1  06.07.2024 06:01:00                  0                        0         Si   \n",
            "2  07.07.2024 06:04:00                  0                        0         Si   \n",
            "3  08.07.2024 06:03:00                  0                        0         Si   \n",
            "4  09.07.2024 06:05:00                  0                        0         Si   \n",
            "\n",
            "  Unnamed: 4  \n",
            "0      Event  \n",
            "1        NaN  \n",
            "2        NaN  \n",
            "3        NaN  \n",
            "4        NaN   \n",
            "\n",
            "** Capture Chart Cicalino 2 ** \n",
            "            Catch Chart         Unnamed: 1                Unnamed: 2  \\\n",
            "0             DateTime  Number of insects  New Catches (per evento)   \n",
            "1  05.07.2024 11:31:01                  0                         0   \n",
            "2  06.07.2024 03:02:01                  0                         0   \n",
            "3  07.07.2024 03:04:01                  0                         0   \n",
            "4  08.07.2024 03:01:01                  0                         0   \n",
            "\n",
            "  Unnamed: 3 Unnamed: 4  \n",
            "0   Reviewed      Event  \n",
            "1         Si        NaN  \n",
            "2         Si        NaN  \n",
            "3         Si        NaN  \n",
            "4         Si        NaN   \n",
            "\n",
            "** Historical Weather Data Cicalino 1 ** \n",
            "   Historical Weather Data           Unnamed: 1         Unnamed: 2 Unnamed: 3  \\\n",
            "0                DateTime  Average Temperature  Temperature Range        NaN   \n",
            "1                     NaN                  NaN                low       high   \n",
            "2     05.07.2024 15:00:00                31,65               31,1       32,2   \n",
            "3     05.07.2024 16:00:00                31,45                 31       32,2   \n",
            "4     05.07.2024 17:00:00                31,66               31,2       32,1   \n",
            "\n",
            "         Unnamed: 4  \n",
            "0  Average Humidity  \n",
            "1               NaN  \n",
            "2             37,08  \n",
            "3             33,55  \n",
            "4             34,98   \n",
            "\n",
            "** Historical Weather Data Cicalino 2 ** \n",
            "   Historical Weather Data           Unnamed: 1         Unnamed: 2 Unnamed: 3  \\\n",
            "0                DateTime  Average Temperature  Temperature Range        NaN   \n",
            "1                     NaN                  NaN                low       high   \n",
            "2     11.07.2024 01:00:00                   17                 17         17   \n",
            "3     11.07.2024 02:00:00                16,32               15,7       16,9   \n",
            "4     11.07.2024 03:00:00                15,47               15,4       15,6   \n",
            "\n",
            "         Unnamed: 4  \n",
            "0  Average Humidity  \n",
            "1               NaN  \n",
            "2              86,6  \n",
            "3             86,83  \n",
            "4             87,32   \n",
            "\n"
          ]
        }
      ]
    },
    {
      "cell_type": "code",
      "source": [
        "# Showing first rows of each file for Imola\n",
        "print(\"** Capture Chart Imola 1 ** \\n\",Capture_Chart_Imola_1.head(), \"\\n\")\n",
        "print(\"** Capture Chart Imola 2 ** \\n\",Capture_Chart_Imola_2.head(), \"\\n\")\n",
        "print(\"** Capture Chart Imola 3 ** \\n\",Capture_Chart_Imola_3.head(), \"\\n\")\n",
        "print(\"** Historical Weather Data Imola 1 ** \\n\",Historical_Weather_Data_Imola_1.head(), \"\\n\")\n",
        "print(\"** Historical Weather Data Imola 2 ** \\n\",Historical_Weather_Data_Imola_2.head(), \"\\n\")\n",
        "print(\"** Historical Weather Data Imola 3 ** \\n\",Historical_Weather_Data_Imola_3.head(), \"\\n\")"
      ],
      "metadata": {
        "colab": {
          "base_uri": "https://localhost:8080/"
        },
        "id": "wjtlf9FdqjKX",
        "outputId": "c4b5dfb2-7aed-4038-ca2d-b5cd21a4ef03"
      },
      "execution_count": 28,
      "outputs": [
        {
          "output_type": "stream",
          "name": "stdout",
          "text": [
            "** Capture Chart Imola 1 ** \n",
            "            Catch chart         Unnamed: 1              Unnamed: 2 Unnamed: 3  \\\n",
            "0             DateTime  Number of Insects  New Catch (per evento)    Reviwed   \n",
            "1  30.07.2024 22:01:00                  0                       0         Si   \n",
            "2  31.07.2024 22:03:00                  0                       0         Si   \n",
            "3  01.08.2024 22:01:00                  0                       0         Si   \n",
            "4  02.08.2024 22:03:00                  0                       0         Si   \n",
            "\n",
            "  Unnamed: 4  \n",
            "0      Event  \n",
            "1        NaN  \n",
            "2        NaN  \n",
            "3        NaN  \n",
            "4        NaN   \n",
            "\n",
            "** Capture Chart Imola 2 ** \n",
            "            Catch Chart         Unnamed: 1                Unnamed: 2  \\\n",
            "0             DateTime  Number of Insects  New Catches (per evento)   \n",
            "1  31.07.2024 00:00:00                  0                         0   \n",
            "2  01.08.2024 00:01:00                  0                         0   \n",
            "3  02.08.2024 00:03:00                  0                         0   \n",
            "4  03.08.2024 00:00:00                  0                         0   \n",
            "\n",
            "  Unnamed: 3 Unnamed: 4  \n",
            "0   Reviewed      Event  \n",
            "1         Si        NaN  \n",
            "2         Si        NaN  \n",
            "3         Si        NaN  \n",
            "4         Si        NaN   \n",
            "\n",
            "** Capture Chart Imola 3 ** \n",
            "            Catch Chart         Unnamed: 1                Unnamed: 2  \\\n",
            "0             DateTime  Number of Insects  New Catches (per evento)   \n",
            "1  17.08.2024 00:02:00                  0                         0   \n",
            "2  18.08.2024 00:04:00                  0                         0   \n",
            "3  19.08.2024 00:00:00                  0                         0   \n",
            "4  20.08.2024 00:02:00                  1                         1   \n",
            "\n",
            "  Unnamed: 3 Unnamed: 4  \n",
            "0    Reviwed      Event  \n",
            "1         Si        NaN  \n",
            "2         Si        NaN  \n",
            "3         Si        NaN  \n",
            "4         Si        NaN   \n",
            "\n",
            "** Historical Weather Data Imola 1 ** \n",
            "   Historical Weather Data           Unnamed: 1         Unnamed: 2 Unnamed: 3  \\\n",
            "0                DateTime  Average Temperature  Temperature Range        NaN   \n",
            "1                     NaN                  NaN                low       high   \n",
            "2     30.07.2024 12:00:00                34,98               34,8       35,1   \n",
            "3     30.07.2024 13:00:00                35,08               34,8       35,3   \n",
            "4     30.07.2024 14:00:00                35,14               34,8       35,5   \n",
            "\n",
            "         Unnamed: 4  \n",
            "0  Average Humidity  \n",
            "1               NaN  \n",
            "2             35,38  \n",
            "3             33,89  \n",
            "4             33,49   \n",
            "\n",
            "** Historical Weather Data Imola 2 ** \n",
            "   Historical Weather Data           Unnamed: 1         Unnamed: 2 Unnamed: 3  \\\n",
            "0                DateTime  Average Temperature  Temperature Range        NaN   \n",
            "1                     NaN                  NaN                low       high   \n",
            "2     30.07.2024 17:00:00                33,64               33,5         34   \n",
            "3     30.07.2024 18:00:00                33,25               32,9       33,5   \n",
            "4     30.07.2024 19:00:00                32,69               30,9       33,4   \n",
            "\n",
            "         Unnamed: 4  \n",
            "0  Average Humidity  \n",
            "1               NaN  \n",
            "2             35,86  \n",
            "3             34,76  \n",
            "4             33,67   \n",
            "\n",
            "** Historical Weather Data Imola 3 ** \n",
            "   Historical Weather Data           Unnamed: 1         Unnamed: 2 Unnamed: 3  \\\n",
            "0                DateTime  Average Temperature  Temperature Range        NaN   \n",
            "1                     NaN                  NaN                low       high   \n",
            "2     30.07.2024 12:00:00                   34               33,6       34,4   \n",
            "3     30.07.2024 13:00:00                34,32               34,1       34,7   \n",
            "4     30.07.2024 14:00:00                34,38               33,9       34,8   \n",
            "\n",
            "         Unnamed: 4  \n",
            "0  Average Humidity  \n",
            "1               NaN  \n",
            "2             36,44  \n",
            "3             34,62  \n",
            "4             34,43   \n",
            "\n"
          ]
        }
      ]
    },
    {
      "cell_type": "code",
      "source": [
        "def show_datasets_info(datasets: dict):\n",
        "    \"\"\"\n",
        "    Prints information about multiple datasets.\n",
        "\n",
        "    Parameters:\n",
        "    datasets (dict): A dictionary where keys are dataset names and values are pandas DataFrames.\n",
        "    \"\"\"\n",
        "    for name, df in datasets.items():\n",
        "        print(f\"\\n{'='*40}\\nDataset: {name}\\n{'='*40}\")\n",
        "        print(df.info())\n",
        "\n",
        "# Store datasets in a dictionary\n",
        "datasets = {\n",
        "    \"Capture_Chart_Cicalino_1\": Capture_Chart_Cicalino_1,\n",
        "    \"Capture_Chart_Cicalino_2\": Capture_Chart_Cicalino_2,\n",
        "    \"Capture_Chart_Imola_1\": Capture_Chart_Imola_1,\n",
        "    \"Capture_Chart_Imola_2\": Capture_Chart_Imola_2,\n",
        "    \"Capture_Chart_Imola_3\": Capture_Chart_Imola_3,\n",
        "    \"Historical_Weather_Data_Cicalino_1\": Historical_Weather_Data_Cicalino_1,\n",
        "    \"Historical_Weather_Data_Cicalino_2\": Historical_Weather_Data_Cicalino_2,\n",
        "    \"Historical_Weather_Data_Imola_1\": Historical_Weather_Data_Imola_1,\n",
        "    \"Historical_Weather_Data_Imola_2\": Historical_Weather_Data_Imola_2,\n",
        "    \"Historical_Weather_Data_Imola_3\": Historical_Weather_Data_Imola_3\n",
        "}\n",
        "\n",
        "# Call function\n",
        "show_datasets_info(datasets)"
      ],
      "metadata": {
        "colab": {
          "base_uri": "https://localhost:8080/"
        },
        "id": "0Ba7v_aZnoJU",
        "outputId": "69fd9cdb-3fad-4e99-bdb1-d41200ec92d8"
      },
      "execution_count": 38,
      "outputs": [
        {
          "output_type": "stream",
          "name": "stdout",
          "text": [
            "\n",
            "========================================\n",
            "Dataset: Capture_Chart_Cicalino_1\n",
            "========================================\n",
            "<class 'pandas.core.frame.DataFrame'>\n",
            "RangeIndex: 59 entries, 0 to 58\n",
            "Data columns (total 5 columns):\n",
            " #   Column                   Non-Null Count  Dtype \n",
            "---  ------                   --------------  ----- \n",
            " 0   DateTime                 59 non-null     object\n",
            " 1   Number of insects        50 non-null     object\n",
            " 2   New catches (per event)  50 non-null     object\n",
            " 3   Reviewed                 59 non-null     object\n",
            " 4   Event                    10 non-null     object\n",
            "dtypes: object(5)\n",
            "memory usage: 2.4+ KB\n",
            "None\n",
            "\n",
            "========================================\n",
            "Dataset: Capture_Chart_Cicalino_2\n",
            "========================================\n",
            "<class 'pandas.core.frame.DataFrame'>\n",
            "RangeIndex: 60 entries, 0 to 59\n",
            "Data columns (total 5 columns):\n",
            " #   Column                    Non-Null Count  Dtype \n",
            "---  ------                    --------------  ----- \n",
            " 0   DateTime                  60 non-null     object\n",
            " 1   Number of insects         50 non-null     object\n",
            " 2   New Catches (per evento)  50 non-null     object\n",
            " 3   Reviewed                  60 non-null     object\n",
            " 4   Event                     11 non-null     object\n",
            "dtypes: object(5)\n",
            "memory usage: 2.5+ KB\n",
            "None\n",
            "\n",
            "========================================\n",
            "Dataset: Capture_Chart_Imola_1\n",
            "========================================\n",
            "<class 'pandas.core.frame.DataFrame'>\n",
            "RangeIndex: 28 entries, 0 to 27\n",
            "Data columns (total 5 columns):\n",
            " #   Column                  Non-Null Count  Dtype \n",
            "---  ------                  --------------  ----- \n",
            " 0   DateTime                28 non-null     object\n",
            " 1   Number of Insects       25 non-null     object\n",
            " 2   New Catch (per evento)  25 non-null     object\n",
            " 3   Reviwed                 28 non-null     object\n",
            " 4   Event                   4 non-null      object\n",
            "dtypes: object(5)\n",
            "memory usage: 1.2+ KB\n",
            "None\n",
            "\n",
            "========================================\n",
            "Dataset: Capture_Chart_Imola_2\n",
            "========================================\n",
            "<class 'pandas.core.frame.DataFrame'>\n",
            "RangeIndex: 28 entries, 0 to 27\n",
            "Data columns (total 5 columns):\n",
            " #   Column                    Non-Null Count  Dtype \n",
            "---  ------                    --------------  ----- \n",
            " 0   DateTime                  28 non-null     object\n",
            " 1   Number of Insects         25 non-null     object\n",
            " 2   New Catches (per evento)  25 non-null     object\n",
            " 3   Reviewed                  28 non-null     object\n",
            " 4   Event                     4 non-null      object\n",
            "dtypes: object(5)\n",
            "memory usage: 1.2+ KB\n",
            "None\n",
            "\n",
            "========================================\n",
            "Dataset: Capture_Chart_Imola_3\n",
            "========================================\n",
            "<class 'pandas.core.frame.DataFrame'>\n",
            "RangeIndex: 8 entries, 0 to 7\n",
            "Data columns (total 5 columns):\n",
            " #   Column                    Non-Null Count  Dtype \n",
            "---  ------                    --------------  ----- \n",
            " 0   DateTime                  8 non-null      object\n",
            " 1   Number of Insects         8 non-null      object\n",
            " 2   New Catches (per evento)  8 non-null      object\n",
            " 3   Reviwed                   8 non-null      object\n",
            " 4   Event                     1 non-null      object\n",
            "dtypes: object(5)\n",
            "memory usage: 452.0+ bytes\n",
            "None\n",
            "\n",
            "========================================\n",
            "Dataset: Historical_Weather_Data_Cicalino_1\n",
            "========================================\n",
            "<class 'pandas.core.frame.DataFrame'>\n",
            "RangeIndex: 1170 entries, 0 to 1169\n",
            "Data columns (total 5 columns):\n",
            " #   Column               Non-Null Count  Dtype \n",
            "---  ------               --------------  ----- \n",
            " 0   DateTime             1169 non-null   object\n",
            " 1   Average Temperature  1169 non-null   object\n",
            " 2   Temperature Range    1170 non-null   object\n",
            " 3   nan                  1169 non-null   object\n",
            " 4   Average Humidity     1169 non-null   object\n",
            "dtypes: object(5)\n",
            "memory usage: 45.8+ KB\n",
            "None\n",
            "\n",
            "========================================\n",
            "Dataset: Historical_Weather_Data_Cicalino_2\n",
            "========================================\n",
            "<class 'pandas.core.frame.DataFrame'>\n",
            "RangeIndex: 1037 entries, 0 to 1036\n",
            "Data columns (total 5 columns):\n",
            " #   Column               Non-Null Count  Dtype \n",
            "---  ------               --------------  ----- \n",
            " 0   DateTime             1036 non-null   object\n",
            " 1   Average Temperature  1036 non-null   object\n",
            " 2   Temperature Range    1037 non-null   object\n",
            " 3   nan                  1036 non-null   object\n",
            " 4   Average Humidity     1036 non-null   object\n",
            "dtypes: object(5)\n",
            "memory usage: 40.6+ KB\n",
            "None\n",
            "\n",
            "========================================\n",
            "Dataset: Historical_Weather_Data_Imola_1\n",
            "========================================\n",
            "<class 'pandas.core.frame.DataFrame'>\n",
            "RangeIndex: 566 entries, 0 to 565\n",
            "Data columns (total 5 columns):\n",
            " #   Column               Non-Null Count  Dtype \n",
            "---  ------               --------------  ----- \n",
            " 0   DateTime             565 non-null    object\n",
            " 1   Average Temperature  565 non-null    object\n",
            " 2   Temperature Range    566 non-null    object\n",
            " 3   nan                  565 non-null    object\n",
            " 4   Average Humidity     565 non-null    object\n",
            "dtypes: object(5)\n",
            "memory usage: 22.2+ KB\n",
            "None\n",
            "\n",
            "========================================\n",
            "Dataset: Historical_Weather_Data_Imola_2\n",
            "========================================\n",
            "<class 'pandas.core.frame.DataFrame'>\n",
            "RangeIndex: 562 entries, 0 to 561\n",
            "Data columns (total 5 columns):\n",
            " #   Column               Non-Null Count  Dtype \n",
            "---  ------               --------------  ----- \n",
            " 0   DateTime             561 non-null    object\n",
            " 1   Average Temperature  561 non-null    object\n",
            " 2   Temperature Range    562 non-null    object\n",
            " 3   nan                  561 non-null    object\n",
            " 4   Average Humidity     561 non-null    object\n",
            "dtypes: object(5)\n",
            "memory usage: 22.1+ KB\n",
            "None\n",
            "\n",
            "========================================\n",
            "Dataset: Historical_Weather_Data_Imola_3\n",
            "========================================\n",
            "<class 'pandas.core.frame.DataFrame'>\n",
            "RangeIndex: 566 entries, 0 to 565\n",
            "Data columns (total 5 columns):\n",
            " #   Column               Non-Null Count  Dtype \n",
            "---  ------               --------------  ----- \n",
            " 0   DateTime             565 non-null    object\n",
            " 1   Average Temperature  565 non-null    object\n",
            " 2   Temperature Range    566 non-null    object\n",
            " 3   nan                  565 non-null    object\n",
            " 4   Average Humidity     565 non-null    object\n",
            "dtypes: object(5)\n",
            "memory usage: 22.2+ KB\n",
            "None\n"
          ]
        }
      ]
    },
    {
      "cell_type": "markdown",
      "source": [
        "## Dara Cleaning\n",
        "#### Rename columns using the first row as header and drop the old header row"
      ],
      "metadata": {
        "id": "gjRJK0_gMObA"
      }
    },
    {
      "cell_type": "code",
      "source": [
        "# Fix Capture Chart data for Cicalino 1\n",
        "CaptureChart_Cicalino1 = Capture_Chart_Cicalino_1\n",
        "CaptureChart_Cicalino1.columns = CaptureChart_Cicalino1.iloc[0]  # Set first row as header\n",
        "CaptureChart_Cicalino1 = CaptureChart_Cicalino1[1:].reset_index(drop=True)  # Remove first row\n",
        "\n",
        "# Fix Capture Chart data for Cicalino 2\n",
        "CaptureChart_Cicalino2 = Capture_Chart_Cicalino_2\n",
        "CaptureChart_Cicalino2.columns = CaptureChart_Cicalino2.iloc[0]  # Set first row as header\n",
        "CaptureChart_Cicalino2 = CaptureChart_Cicalino2[1:].reset_index(drop=True)  # Remove first row\n",
        "\n",
        "# Fix Historical Weather Data Cicalino 1\n",
        "HistoricalWeather_Cicalino1 = Historical_Weather_Data_Cicalino_1\n",
        "HistoricalWeather_Cicalino1.columns = HistoricalWeather_Cicalino1.iloc[0]\n",
        "HistoricalWeather_Cicalino1 = HistoricalWeather_Cicalino1[2:].reset_index(drop=True)  # Remove first two rows\n",
        "\n",
        "# Fix Historical Weather Data Cicalino 2\n",
        "HistoricalWeather_Cicalino2 = Historical_Weather_Data_Cicalino_2\n",
        "HistoricalWeather_Cicalino2.columns = HistoricalWeather_Cicalino2.iloc[0]\n",
        "HistoricalWeather_Cicalino2 = HistoricalWeather_Cicalino2[2:].reset_index(drop=True)  # Remove first two rows\n",
        "\n",
        "# # Fix Historical Weather Data for Cicalino\n",
        "# CaptureChart_Cicalino1.head(), CaptureChart_Cicalino2.head(), HistoricalWeather_Cicalino1.head(), HistoricalWeather_Cicalino2.head()"
      ],
      "metadata": {
        "id": "Bu5U1buoNDHt"
      },
      "execution_count": 30,
      "outputs": []
    },
    {
      "cell_type": "code",
      "source": [
        "# Fix Capture Chart data for Imola 1\n",
        "CaptureChart_Imola1 = Capture_Chart_Imola_1\n",
        "CaptureChart_Imola1.columns = CaptureChart_Imola1.iloc[0]  # Set first row as header\n",
        "CaptureChart_Imola1 = CaptureChart_Imola1[1:].reset_index(drop=True)  # Remove first row\n",
        "\n",
        "# Fix Capture Chart data for Imola 2\n",
        "CaptureChart_Imola2 = Capture_Chart_Imola_2\n",
        "CaptureChart_Imola2.columns = CaptureChart_Imola2.iloc[0]  # Set first row as header\n",
        "CaptureChart_Imola2 = CaptureChart_Imola2[1:].reset_index(drop=True)  # Remove first row\n",
        "\n",
        "# Fix Capture Chart data for Imola 2\n",
        "CaptureChart_Imola3 = Capture_Chart_Imola_3\n",
        "CaptureChart_Imola3.columns = CaptureChart_Imola3.iloc[0]  # Set first row as header\n",
        "CaptureChart_Imola3 = CaptureChart_Imola3[1:].reset_index(drop=True)\n",
        "\n",
        "# Fix Historical Weather Data Imola 1\n",
        "HistoricalWeather_Imola1 = Historical_Weather_Data_Imola_1\n",
        "HistoricalWeather_Imola1.columns = HistoricalWeather_Imola1.iloc[0]\n",
        "HistoricalWeather_Imola1 = HistoricalWeather_Imola1[2:].reset_index(drop=True)  # Remove first two rows\n",
        "\n",
        "# Fix Historical Weather Data Imola 2\n",
        "HistoricalWeather_Imola2 = Historical_Weather_Data_Imola_2\n",
        "HistoricalWeather_Imola2.columns = HistoricalWeather_Imola2.iloc[0]\n",
        "HistoricalWeather_Imola2 = HistoricalWeather_Imola2[2:].reset_index(drop=True)  # Remove first two rows\n",
        "\n",
        "# Fix Historical Weather Data Imola 3\n",
        "HistoricalWeather_Imola3 = Historical_Weather_Data_Imola_3\n",
        "HistoricalWeather_Imola3.columns = HistoricalWeather_Imola3.iloc[0]\n",
        "HistoricalWeather_Imola3 = HistoricalWeather_Imola3[2:].reset_index(drop=True)  # Remove first two rows\n",
        "\n",
        "# # Fix Historical Weather Data for Imola\n",
        "# CaptureChart_Imola1.head(), CaptureChart_Imola2.head(), CaptureChart_Imola3.head(), HistoricalWeather_Imola1.head(), HistoricalWeather_Imola2.head(), HistoricalWeather_Imola3.head()"
      ],
      "metadata": {
        "id": "J_haYtNLOOQx"
      },
      "execution_count": 31,
      "outputs": []
    },
    {
      "cell_type": "markdown",
      "source": [
        "### Standardize column names"
      ],
      "metadata": {
        "id": "v2ibtKpPBuyB"
      }
    },
    {
      "cell_type": "code",
      "source": [
        "# Standardize column names for Capture Chart Cicalion\n",
        "CaptureChart_Cicalino1.columns = [\"DateTime\", \"Number of Insects\", \"New Catches\", \"Reviewed\", \"Event\"]\n",
        "CaptureChart_Cicalino2.columns = [\"DateTime\", \"Number of Insects\", \"New Catches\", \"Reviewed\", \"Event\"]\n",
        "\n",
        "# Standardize column names for Historical Weather Data Cicalion\n",
        "HistoricalWeather_Cicalino1.columns = [\"DateTime\", \"Average Temperature\", \"Temp Min\", \"Temp Max\", \"Average Humidity\"]\n",
        "HistoricalWeather_Cicalino2.columns = [\"DateTime\", \"Temperature\", \"TempRange_low\", \"TempRange_high\", \"Average Humidity\"]\n",
        "\n",
        "# print(\"** Capture Chart Cicalino 1 ** \\n\",CaptureChart_Cicalino1.head(), \"\\n\")\n",
        "# print(\"** Capture Chart Cicalino 2 ** \\n\",CaptureChart_Cicalino2.head(), \"\\n\")\n",
        "# print(\"** Historical Weather Data Cicalino 1 ** \\n\",HistoricalWeather_Cicalino1.head(), \"\\n\")\n",
        "# print(\"** Historical Weather Data Cicalino 2 ** \\n\",HistoricalWeather_Cicalino2.head(), \"\\n\")"
      ],
      "metadata": {
        "id": "z7lzWJXzA7dp"
      },
      "execution_count": 32,
      "outputs": []
    },
    {
      "cell_type": "code",
      "source": [
        "# Standardize column names for Capture Chart Imola\n",
        "CaptureChart_Imola1.columns = [\"DateTime\", \"Number of Insects\", \"New Catches\", \"Reviewed\", \"Event\"]\n",
        "CaptureChart_Imola2.columns = [\"DateTime\", \"Number of Insects\", \"New Catches\", \"Reviewed\", \"Event\"]\n",
        "CaptureChart_Imola3.columns = [\"DateTime\", \"Number of Insects\", \"New Catches\", \"Reviewed\", \"Event\"]\n",
        "\n",
        "# Standardize column names for Historical Weather Data Imola\n",
        "HistoricalWeather_Imola1.columns = [\"DateTime\", \"Average Temperature\", \"Temp Min\", \"Temp Max\", \"Average Humidity\"]\n",
        "HistoricalWeather_Imola2.columns = [\"DateTime\", \"Temperature\", \"TempRange_low\", \"TempRange_high\", \"Average Humidity\"]\n",
        "HistoricalWeather_Imola3.columns = [\"DateTime\", \"Temperature\", \"TempRange_low\", \"TempRange_high\", \"Average Humidity\"]\n",
        "\n",
        "# print(\"** Capture Chart Imola 1 ** \\n\",CaptureChart_Imola1.head(), \"\\n\")\n",
        "# print(\"** Capture Chart Imola 2 ** \\n\",CaptureChart_Imola2.head(), \"\\n\")\n",
        "# print(\"** Historical Weather Data Imola 1 ** \\n\",HistoricalWeather_Imola1.head(), \"\\n\")\n",
        "# print(\"** Historical Weather Data Imola 2 ** \\n\",HistoricalWeather_Imola2.head(), \"\\n\")\n",
        "# print(\"** Historical Weather Data Imola 3 ** \\n\",HistoricalWeather_Imola3.head(), \"\\n\")"
      ],
      "metadata": {
        "id": "8AEhMWDVFYNj"
      },
      "execution_count": 33,
      "outputs": []
    },
    {
      "cell_type": "code",
      "source": [
        "def show_datasets_info(file_paths):\n",
        "    \"\"\"\n",
        "    Load and display basic information about multiple CSV datasets.\n",
        "\n",
        "    Parameters:\n",
        "    file_paths (list): List of file paths to CSV datasets.\n",
        "\n",
        "    Returns:\n",
        "    None\n",
        "    \"\"\"\n",
        "    for file in file_paths:\n",
        "        print(f\"\\n🔹 Dataset: {file}\")\n",
        "        try:\n",
        "            df = pd.read_csv(file)\n",
        "            print(df.info())\n",
        "            print(\"\\n\" + \"-\"*50)\n",
        "        except Exception as e:\n",
        "            print(f\"❌ Error loading {file}: {e}\")\n",
        "\n",
        "# Example usage:\n",
        "#file_paths = [\"dataset1.csv\", \"dataset2.csv\", \"dataset3.csv\", \"dataset4.csv\", \"dataset5.csv\", \"dataset6.csv\"]\n",
        "print(show_datasets_info(CaptureChart_Cicalino1))"
      ],
      "metadata": {
        "colab": {
          "base_uri": "https://localhost:8080/"
        },
        "id": "VOpq3u9Xl20d",
        "outputId": "c075a4cc-834c-477b-ba72-1d55e30370ac"
      },
      "execution_count": 34,
      "outputs": [
        {
          "output_type": "stream",
          "name": "stdout",
          "text": [
            "\n",
            "🔹 Dataset: DateTime\n",
            "❌ Error loading DateTime: [Errno 2] No such file or directory: 'DateTime'\n",
            "\n",
            "🔹 Dataset: Number of Insects\n",
            "❌ Error loading Number of Insects: [Errno 2] No such file or directory: 'Number of Insects'\n",
            "\n",
            "🔹 Dataset: New Catches\n",
            "❌ Error loading New Catches: [Errno 2] No such file or directory: 'New Catches'\n",
            "\n",
            "🔹 Dataset: Reviewed\n",
            "❌ Error loading Reviewed: [Errno 2] No such file or directory: 'Reviewed'\n",
            "\n",
            "🔹 Dataset: Event\n",
            "❌ Error loading Event: [Errno 2] No such file or directory: 'Event'\n",
            "None\n"
          ]
        }
      ]
    },
    {
      "cell_type": "markdown",
      "source": [
        "#### Convert DataTime format"
      ],
      "metadata": {
        "id": "GnaWkcsRHZG9"
      }
    },
    {
      "cell_type": "code",
      "source": [
        "# Convert DateTime column to proper datetime format for Cicalion\n",
        "CaptureChart_Cicalino1[\"DateTime\"] = pd.to_datetime(CaptureChart_Cicalino1[\"DateTime\"], format=\"%d.%m.%Y %H:%M:%S\", errors=\"coerce\")\n",
        "CaptureChart_Cicalino2[\"DateTime\"] = pd.to_datetime(CaptureChart_Cicalino2[\"DateTime\"], format=\"%d.%m.%Y %H:%M:%S\", errors=\"coerce\")\n",
        "HistoricalWeather_Cicalino1[\"DateTime\"] = pd.to_datetime(HistoricalWeather_Cicalino1[\"DateTime\"], format=\"%d.%m.%Y %H:%M:%S\", errors=\"coerce\")\n",
        "HistoricalWeather_Cicalino2[\"DateTime\"] = pd.to_datetime(HistoricalWeather_Cicalino2[\"DateTime\"], format=\"%d.%m.%Y %H:%M:%S\", errors=\"coerce\")\n",
        "\n",
        "# print(\"** Capture Chart Cicalino 1 ** \\n\",CaptureChart_Cicalino1.head(), \"\\n\")\n",
        "# print(\"** Capture Chart Cicalino 2 ** \\n\",CaptureChart_Cicalino2.head(), \"\\n\")\n",
        "# print(\"** Historical Weather Data Cicalino 1 ** \\n\",HistoricalWeather_Cicalino1.head(), \"\\n\")\n",
        "# print(\"** Historical Weather Data Cicalino 2 ** \\n\",HistoricalWeather_Cicalino2.head(), \"\\n\")\n",
        "\n",
        "# Convert DateTime column to proper datetime format for Imola\n",
        "CaptureChart_Imola1[\"DataTime\"] = pd.to_datetime(CaptureChart_Imola1[\"DateTime\"], format=\"%d.%m.%Y %H:%M:%S\", errors=\"coerce\")\n",
        "CaptureChart_Imola2[\"DataTime\"] = pd.to_datetime(CaptureChart_Imola2[\"DateTime\"], format=\"%d.%m.%Y %H:%M:%S\", errors=\"coerce\")\n",
        "CaptureChart_Imola3[\"DataTime\"] = pd.to_datetime(CaptureChart_Imola3[\"DateTime\"], format=\"%d.%m.%Y %H:%M:%S\", errors=\"coerce\")\n",
        "HistoricalWeather_Imola1[\"DateTime\"] = pd.to_datetime(HistoricalWeather_Imola1[\"DateTime\"], format=\"%d.%m.%Y %H:%M:%S\", errors=\"coerce\")\n",
        "HistoricalWeather_Imola2[\"DateTime\"] = pd.to_datetime(HistoricalWeather_Imola2[\"DateTime\"], format=\"%d.%m.%Y %H:%M:%S\", errors=\"coerce\")\n",
        "HistoricalWeather_Imola3[\"DateTime\"] = pd.to_datetime(HistoricalWeather_Imola3[\"DateTime\"], format=\"%d.%m.%Y %H:%M:%S\", errors=\"coerce\")\n",
        "\n",
        "# print(\"** Capture Chart Imola 1 ** \\n\",CaptureChart_Imola1.head(), \"\\n\")\n",
        "# print(\"** Capture Chart Imola 2 ** \\n\",CaptureChart_Imola2.head(), \"\\n\")\n",
        "# print(\"** Capture Chart Imola 3 ** \\n\",CaptureChart_Imola3.head(), \"\\n\")\n",
        "# print(\"** Historical Weather Data Imola 1 ** \\n\",HistoricalWeather_Imola1.head(), \"\\n\")\n",
        "# print(\"** Historical Weather Data Imola 2 ** \\n\",HistoricalWeather_Imola2.head(), \"\\n\")\n",
        "# print(\"** Historical Weather Data Imola 3 ** \\n\",HistoricalWeather_Imola3.head(), \"\\n\")"
      ],
      "metadata": {
        "id": "Qv75szlZF-VF"
      },
      "execution_count": 35,
      "outputs": []
    },
    {
      "cell_type": "code",
      "source": [
        "# Convert numeric columns (replace commas with dots and convert to float)\n",
        "num_cols = [\"Number of Insects\", \"New Catches\"]\n",
        "weather_cols = [\"Average Temperature\", \"Temp Min\", \"Temp Max\", \"Average Humidity\"]"
      ],
      "metadata": {
        "id": "mA--JOGgkvtM"
      },
      "execution_count": 36,
      "outputs": []
    }
  ]
}