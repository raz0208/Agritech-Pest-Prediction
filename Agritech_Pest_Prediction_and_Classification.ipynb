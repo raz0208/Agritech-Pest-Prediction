{
  "nbformat": 4,
  "nbformat_minor": 0,
  "metadata": {
    "colab": {
      "provenance": [],
      "authorship_tag": "ABX9TyM8mvYvCzFlnoS8VdkTAdjM",
      "include_colab_link": true
    },
    "kernelspec": {
      "name": "python3",
      "display_name": "Python 3"
    },
    "language_info": {
      "name": "python"
    }
  },
  "cells": [
    {
      "cell_type": "markdown",
      "metadata": {
        "id": "view-in-github",
        "colab_type": "text"
      },
      "source": [
        "<a href=\"https://colab.research.google.com/github/raz0208/Agritech-Pest-Prediction/blob/main/Agritech_Pest_Prediction_and_Classification.ipynb\" target=\"_parent\"><img src=\"https://colab.research.google.com/assets/colab-badge.svg\" alt=\"Open In Colab\"/></a>"
      ]
    },
    {
      "cell_type": "markdown",
      "source": [
        "## Agritech Pest Prediction and Classification"
      ],
      "metadata": {
        "id": "GQ60Bmyh1Vs2"
      }
    },
    {
      "cell_type": "markdown",
      "source": [
        "# Datasets\n",
        "\n",
        "## Overview\n",
        "The datasets utilized in this project aim to analyze trends and predict the occurrence of insect pests based on meteorological conditions and past insect captures. Two primary data sources have been considered:\n",
        "1. **Capture Data**: Records of insect catches over time.\n",
        "2. **Historical Weather Data**: Meteorological data corresponding to the same period and locations as the capture data.\n",
        "\n",
        "Both datasets are provided for two different locations: **Cicalino** (two different locations) and **Imola** (three different locations).\n",
        "\n",
        "## Capture Data\n",
        "Purpose: Contains historical records of insect catches, used for both regression (predicting the number of insects caught) and classification (detecting new catches).\n",
        "\n",
        "### Files:\n",
        "- `Capture_Chart(Cicalino_1).csv`\n",
        "- `Capture_Chart(Cicalino_2).csv`\n",
        "- `Capture_Chart(Imola_1).csv`\n",
        "- `Capture_Chart(Imola_2).csv`\n",
        "- `Capture_Chart(Imola_3).csv`\n",
        "\n",
        "### Dataset sructure:\n",
        "- **DateTime:** Timestamp of capture events.\n",
        "- **Number of insects:** Count of insects caught.\n",
        "- **New catches (per event):** Indicator of whether new catches occurred.\n",
        "- **Reviewed:** Status of data review (e.g., \"Si\" for reviewed).\n",
        "- **Event:** Additional event information (mostly empty).\n",
        "\n",
        "## Historical Weather Data\n",
        "Purpose: Contains meteorological data, which will be used as features for insect prediction models.\n",
        "\n",
        "### Files:\n",
        "- `Historical_Weather_Data(Cicalino_1).csv`\n",
        "- `Historical_Weather_Data(Cicalino_2).csv`\n",
        "- `Historical_Weather_Data(Imola_1).csv`\n",
        "- `Historical_Weather_Data(Imola_2).csv`\n",
        "- `Historical_Weather_Data(Imola_3).csv`\n",
        "\n",
        "### Dataset structure:\n",
        "- **DateTime:** Timestamp of recorded weather data.\n",
        "- **Average Temperature:** Mean temperature at that time.\n",
        "- **Temperature Range:** Minimum and maximum temperatures.\n",
        "- **Average Humidity:** Humidity level at that time.\n",
        "\n",
        "## Data Integration Strategy\n",
        "To effectively utilize these datasets for analysis and model training:\n",
        "- **Temporal alignment**: The capture and weather data will be merged based on the **Date** field to ensure correlation analysis and feature engineering.\n",
        "- **Feature Engineering**: Extracting meaningful features such as lagged insect counts and weather trends to improve predictive performance.\n",
        "- **Handling Missing Data**: Implementing imputation strategies for missing weather readings or insect captures.\n",
        "\n",
        "This dataset preparation will serve as the foundation for building predictive models aimed at analyzing and forecasting insect population trends based on meteorological conditions.\n",
        "\n"
      ],
      "metadata": {
        "id": "tL4lJzOzOnBS"
      }
    },
    {
      "cell_type": "markdown",
      "source": [
        "### Import required libraries and read the data"
      ],
      "metadata": {
        "id": "b-VcXF3f42XM"
      }
    },
    {
      "cell_type": "code",
      "source": [
        "# Import required libraries\n",
        "import os\n",
        "import pandas as pd\n",
        "import numpy as np\n",
        "import matplotlib.pyplot as plt\n",
        "import seaborn as sns\n",
        "\n",
        "## Libraries for visualization\n",
        "import matplotlib.pyplot as plt\n",
        "import seaborn as sns"
      ],
      "metadata": {
        "id": "lawDnngj5EAk"
      },
      "execution_count": 1,
      "outputs": []
    },
    {
      "cell_type": "code",
      "source": [
        "# Read data\n",
        "Capture_Chart_Cicalino_1 = pd.read_csv('/content/AgritechPestDataset/Capture_Chart(Cicalino_1).csv')\n",
        "Capture_Chart_Cicalino_2 = pd.read_csv('/content/AgritechPestDataset/Capture_Chart(Cicalino_2).csv')\n",
        "Capture_Chart_Imola_1 = pd.read_csv('/content/AgritechPestDataset/Capture_Chart(Imola_1).csv')\n",
        "Capture_Chart_Imola_2 = pd.read_csv('/content/AgritechPestDataset/Capture_Chart(Imola_2).csv')\n",
        "Capture_Chart_Imola_3 = pd.read_csv('/content/AgritechPestDataset/Capture_Chart(Imola_3).csv')\n",
        "Historical_Weather_Data_Cicalino_1 = pd.read_csv('/content/AgritechPestDataset/Historical_Weather_Data(Cicalino_1).csv')\n",
        "Historical_Weather_Data_Cicalino_2 = pd.read_csv('/content/AgritechPestDataset/Historical_Weather_Data(Cicalino_2).csv')\n",
        "Historical_Weather_Data_Imola_1 = pd.read_csv('/content/AgritechPestDataset/Historical_Weather_Data(Imola_1).csv')\n",
        "Historical_Weather_Data_Imola_2 = pd.read_csv('/content/AgritechPestDataset/Historical_Weather_Data(Imola_2).csv')\n",
        "Historical_Weather_Data_Imola_3 = pd.read_csv('/content/AgritechPestDataset/Historical_Weather_Data(Imola_3).csv')"
      ],
      "metadata": {
        "id": "oa4bBfkQ5ask"
      },
      "execution_count": 2,
      "outputs": []
    },
    {
      "cell_type": "code",
      "source": [
        "# Showing first rows of each file for Cicalino\n",
        "print(\"** Capture Chart Cicalino 1 ** \\n\",Capture_Chart_Cicalino_1.head(), \"\\n\")\n",
        "print(\"** Capture Chart Cicalino 2 ** \\n\",Capture_Chart_Cicalino_2.head(), \"\\n\")\n",
        "print(\"** Historical Weather Data Cicalino 1 ** \\n\",Historical_Weather_Data_Cicalino_1.head(), \"\\n\")\n",
        "print(\"** Historical Weather Data Cicalino 2 ** \\n\",Historical_Weather_Data_Cicalino_2.head(), \"\\n\")"
      ],
      "metadata": {
        "id": "TtLkKJY-7hnU",
        "colab": {
          "base_uri": "https://localhost:8080/"
        },
        "outputId": "6436acbc-32b4-4470-83ac-98b7c7368b5c"
      },
      "execution_count": 3,
      "outputs": [
        {
          "output_type": "stream",
          "name": "stdout",
          "text": [
            "** Capture Chart Cicalino 1 ** \n",
            "            Catch chart         Unnamed: 1               Unnamed: 2 Unnamed: 3  \\\n",
            "0             DateTime  Number of insects  New catches (per event)   Reviewed   \n",
            "1  06.07.2024 06:01:00                  0                        0         Si   \n",
            "2  07.07.2024 06:04:00                  0                        0         Si   \n",
            "3  08.07.2024 06:03:00                  0                        0         Si   \n",
            "4  09.07.2024 06:05:00                  0                        0         Si   \n",
            "\n",
            "  Unnamed: 4  \n",
            "0      Event  \n",
            "1        NaN  \n",
            "2        NaN  \n",
            "3        NaN  \n",
            "4        NaN   \n",
            "\n",
            "** Capture Chart Cicalino 2 ** \n",
            "            Catch Chart         Unnamed: 1                Unnamed: 2  \\\n",
            "0             DateTime  Number of insects  New Catches (per evento)   \n",
            "1  05.07.2024 11:31:01                  0                         0   \n",
            "2  06.07.2024 03:02:01                  0                         0   \n",
            "3  07.07.2024 03:04:01                  0                         0   \n",
            "4  08.07.2024 03:01:01                  0                         0   \n",
            "\n",
            "  Unnamed: 3 Unnamed: 4  \n",
            "0   Reviewed      Event  \n",
            "1         Si        NaN  \n",
            "2         Si        NaN  \n",
            "3         Si        NaN  \n",
            "4         Si        NaN   \n",
            "\n",
            "** Historical Weather Data Cicalino 1 ** \n",
            "   Historical Weather Data           Unnamed: 1         Unnamed: 2 Unnamed: 3  \\\n",
            "0                DateTime  Average Temperature  Temperature Range        NaN   \n",
            "1                     NaN                  NaN                low       high   \n",
            "2     05.07.2024 15:00:00                31,65               31,1       32,2   \n",
            "3     05.07.2024 16:00:00                31,45                 31       32,2   \n",
            "4     05.07.2024 17:00:00                31,66               31,2       32,1   \n",
            "\n",
            "         Unnamed: 4  \n",
            "0  Average Humidity  \n",
            "1               NaN  \n",
            "2             37,08  \n",
            "3             33,55  \n",
            "4             34,98   \n",
            "\n",
            "** Historical Weather Data Cicalino 2 ** \n",
            "   Historical Weather Data           Unnamed: 1         Unnamed: 2 Unnamed: 3  \\\n",
            "0                DateTime  Average Temperature  Temperature Range        NaN   \n",
            "1                     NaN                  NaN                low       high   \n",
            "2     11.07.2024 01:00:00                   17                 17         17   \n",
            "3     11.07.2024 02:00:00                16,32               15,7       16,9   \n",
            "4     11.07.2024 03:00:00                15,47               15,4       15,6   \n",
            "\n",
            "         Unnamed: 4  \n",
            "0  Average Humidity  \n",
            "1               NaN  \n",
            "2              86,6  \n",
            "3             86,83  \n",
            "4             87,32   \n",
            "\n"
          ]
        }
      ]
    },
    {
      "cell_type": "code",
      "source": [
        "# Showing first rows of each file for Imola\n",
        "print(\"** Capture Chart Imola 1 ** \\n\",Capture_Chart_Imola_1.head(), \"\\n\")\n",
        "print(\"** Capture Chart Imola 2 ** \\n\",Capture_Chart_Imola_2.head(), \"\\n\")\n",
        "print(\"** Capture Chart Imola 3 ** \\n\",Capture_Chart_Imola_3.head(), \"\\n\")\n",
        "print(\"** Historical Weather Data Imola 1 ** \\n\",Historical_Weather_Data_Imola_1.head(), \"\\n\")\n",
        "print(\"** Historical Weather Data Imola 2 ** \\n\",Historical_Weather_Data_Imola_2.head(), \"\\n\")\n",
        "print(\"** Historical Weather Data Imola 3 ** \\n\",Historical_Weather_Data_Imola_3.head(), \"\\n\")"
      ],
      "metadata": {
        "colab": {
          "base_uri": "https://localhost:8080/"
        },
        "id": "wjtlf9FdqjKX",
        "outputId": "d986b164-62f5-42cc-d307-043cc1dea0bf"
      },
      "execution_count": 4,
      "outputs": [
        {
          "output_type": "stream",
          "name": "stdout",
          "text": [
            "** Capture Chart Imola 1 ** \n",
            "            Catch chart         Unnamed: 1              Unnamed: 2 Unnamed: 3  \\\n",
            "0             DateTime  Number of Insects  New Catch (per evento)    Reviwed   \n",
            "1  30.07.2024 22:01:00                  0                       0         Si   \n",
            "2  31.07.2024 22:03:00                  0                       0         Si   \n",
            "3  01.08.2024 22:01:00                  0                       0         Si   \n",
            "4  02.08.2024 22:03:00                  0                       0         Si   \n",
            "\n",
            "  Unnamed: 4  \n",
            "0      Event  \n",
            "1        NaN  \n",
            "2        NaN  \n",
            "3        NaN  \n",
            "4        NaN   \n",
            "\n",
            "** Capture Chart Imola 2 ** \n",
            "            Catch Chart         Unnamed: 1                Unnamed: 2  \\\n",
            "0             DateTime  Number of Insects  New Catches (per evento)   \n",
            "1  31.07.2024 00:00:00                  0                         0   \n",
            "2  01.08.2024 00:01:00                  0                         0   \n",
            "3  02.08.2024 00:03:00                  0                         0   \n",
            "4  03.08.2024 00:00:00                  0                         0   \n",
            "\n",
            "  Unnamed: 3 Unnamed: 4  \n",
            "0   Reviewed      Event  \n",
            "1         Si        NaN  \n",
            "2         Si        NaN  \n",
            "3         Si        NaN  \n",
            "4         Si        NaN   \n",
            "\n",
            "** Capture Chart Imola 3 ** \n",
            "            Catch Chart         Unnamed: 1                Unnamed: 2  \\\n",
            "0             DateTime  Number of Insects  New Catches (per evento)   \n",
            "1  17.08.2024 00:02:00                  0                         0   \n",
            "2  18.08.2024 00:04:00                  0                         0   \n",
            "3  19.08.2024 00:00:00                  0                         0   \n",
            "4  20.08.2024 00:02:00                  1                         1   \n",
            "\n",
            "  Unnamed: 3 Unnamed: 4  \n",
            "0    Reviwed      Event  \n",
            "1         Si        NaN  \n",
            "2         Si        NaN  \n",
            "3         Si        NaN  \n",
            "4         Si        NaN   \n",
            "\n",
            "** Historical Weather Data Imola 1 ** \n",
            "   Historical Weather Data           Unnamed: 1         Unnamed: 2 Unnamed: 3  \\\n",
            "0                DateTime  Average Temperature  Temperature Range        NaN   \n",
            "1                     NaN                  NaN                low       high   \n",
            "2     30.07.2024 12:00:00                34,98               34,8       35,1   \n",
            "3     30.07.2024 13:00:00                35,08               34,8       35,3   \n",
            "4     30.07.2024 14:00:00                35,14               34,8       35,5   \n",
            "\n",
            "         Unnamed: 4  \n",
            "0  Average Humidity  \n",
            "1               NaN  \n",
            "2             35,38  \n",
            "3             33,89  \n",
            "4             33,49   \n",
            "\n",
            "** Historical Weather Data Imola 2 ** \n",
            "   Historical Weather Data           Unnamed: 1         Unnamed: 2 Unnamed: 3  \\\n",
            "0                DateTime  Average Temperature  Temperature Range        NaN   \n",
            "1                     NaN                  NaN                low       high   \n",
            "2     30.07.2024 17:00:00                33,64               33,5         34   \n",
            "3     30.07.2024 18:00:00                33,25               32,9       33,5   \n",
            "4     30.07.2024 19:00:00                32,69               30,9       33,4   \n",
            "\n",
            "         Unnamed: 4  \n",
            "0  Average Humidity  \n",
            "1               NaN  \n",
            "2             35,86  \n",
            "3             34,76  \n",
            "4             33,67   \n",
            "\n",
            "** Historical Weather Data Imola 3 ** \n",
            "   Historical Weather Data           Unnamed: 1         Unnamed: 2 Unnamed: 3  \\\n",
            "0                DateTime  Average Temperature  Temperature Range        NaN   \n",
            "1                     NaN                  NaN                low       high   \n",
            "2     30.07.2024 12:00:00                   34               33,6       34,4   \n",
            "3     30.07.2024 13:00:00                34,32               34,1       34,7   \n",
            "4     30.07.2024 14:00:00                34,38               33,9       34,8   \n",
            "\n",
            "         Unnamed: 4  \n",
            "0  Average Humidity  \n",
            "1               NaN  \n",
            "2             36,44  \n",
            "3             34,62  \n",
            "4             34,43   \n",
            "\n"
          ]
        }
      ]
    }
  ]
}