{
  "nbformat": 4,
  "nbformat_minor": 0,
  "metadata": {
    "colab": {
      "provenance": [],
      "authorship_tag": "ABX9TyOS0tEy80Jwbo6J86oc5TqX",
      "include_colab_link": true
    },
    "kernelspec": {
      "name": "python3",
      "display_name": "Python 3"
    },
    "language_info": {
      "name": "python"
    }
  },
  "cells": [
    {
      "cell_type": "markdown",
      "metadata": {
        "id": "view-in-github",
        "colab_type": "text"
      },
      "source": [
        "<a href=\"https://colab.research.google.com/github/raz0208/Agritech-Pest-Prediction/blob/main/Agritech_Pest_Prediction_and_Classification.ipynb\" target=\"_parent\"><img src=\"https://colab.research.google.com/assets/colab-badge.svg\" alt=\"Open In Colab\"/></a>"
      ]
    },
    {
      "cell_type": "markdown",
      "source": [
        "## Agritech Pest Prediction and Classification"
      ],
      "metadata": {
        "id": "GQ60Bmyh1Vs2"
      }
    },
    {
      "cell_type": "markdown",
      "source": [
        "### Import required libraries and read the data"
      ],
      "metadata": {
        "id": "b-VcXF3f42XM"
      }
    },
    {
      "cell_type": "code",
      "source": [
        "# Import required libraries\n",
        "import os\n",
        "import pandas as pd\n",
        "import numpy as np\n",
        "import matplotlib.pyplot as plt\n",
        "import seaborn as sns"
      ],
      "metadata": {
        "id": "lawDnngj5EAk"
      },
      "execution_count": 87,
      "outputs": []
    },
    {
      "cell_type": "code",
      "source": [
        "# Read data\n",
        "Capture_Chart_Cicalino_1 = pd.read_csv('/content/AgritechPestDataset/Capture_Chart(Cicalino_1).csv')\n",
        "Capture_Chart_Cicalino_2 = pd.read_csv('/content/AgritechPestDataset/Capture_Chart(Cicalino_2).csv')\n",
        "Capture_Chart_Imola_1 = pd.read_csv('/content/AgritechPestDataset/Capture_Chart(Imola_1).csv')\n",
        "Capture_Chart_Imola_2 = pd.read_csv('/content/AgritechPestDataset/Capture_Chart(Imola_2).csv')\n",
        "Capture_Chart_Imola_3 = pd.read_csv('/content/AgritechPestDataset/Capture_Chart(Imola_3).csv')\n",
        "Historical_Weather_Data_Cicalino_1 = pd.read_csv('/content/AgritechPestDataset/Historical_Weather_Data(Cicalino_1).csv')\n",
        "Historical_Weather_Data_Cicalino_2 = pd.read_csv('/content/AgritechPestDataset/Historical_Weather_Data(Cicalino_2).csv')\n",
        "Historical_Weather_Data_Imola_1 = pd.read_csv('/content/AgritechPestDataset/Historical_Weather_Data(Imola_1).csv')\n",
        "Historical_Weather_Data_Imola_2 = pd.read_csv('/content/AgritechPestDataset/Historical_Weather_Data(Imola_2).csv')\n",
        "Historical_Weather_Data_Imola_3 = pd.read_csv('/content/AgritechPestDataset/Historical_Weather_Data(Imola_3).csv')"
      ],
      "metadata": {
        "id": "oa4bBfkQ5ask"
      },
      "execution_count": 88,
      "outputs": []
    },
    {
      "cell_type": "code",
      "source": [
        "# Showing first rows of each file for Cicalino\n",
        "print(\"** Capture Chart Cicalino 1 ** \\n\",Capture_Chart_Cicalino_1.head(), \"\\n\")\n",
        "print(\"** Capture Chart Cicalino 2 ** \\n\",Capture_Chart_Cicalino_2.head(), \"\\n\")\n",
        "print(\"** Historical Weather Data Cicalino 1 ** \\n\",Historical_Weather_Data_Cicalino_1.head(), \"\\n\")\n",
        "print(\"** Historical Weather Data Cicalino 2 ** \\n\",Historical_Weather_Data_Cicalino_2.head(), \"\\n\")"
      ],
      "metadata": {
        "id": "TtLkKJY-7hnU",
        "colab": {
          "base_uri": "https://localhost:8080/"
        },
        "outputId": "8b603bd2-e1c6-468f-d616-176b29b65dfb"
      },
      "execution_count": 89,
      "outputs": [
        {
          "output_type": "stream",
          "name": "stdout",
          "text": [
            "** Capture Chart Cicalino 1 ** \n",
            "            Catch chart         Unnamed: 1               Unnamed: 2 Unnamed: 3  \\\n",
            "0             DateTime  Number of insects  New catches (per event)   Reviewed   \n",
            "1  06.07.2024 06:01:00                  0                        0         Si   \n",
            "2  07.07.2024 06:04:00                  0                        0         Si   \n",
            "3  08.07.2024 06:03:00                  0                        0         Si   \n",
            "4  09.07.2024 06:05:00                  0                        0         Si   \n",
            "\n",
            "  Unnamed: 4  \n",
            "0      Event  \n",
            "1        NaN  \n",
            "2        NaN  \n",
            "3        NaN  \n",
            "4        NaN   \n",
            "\n",
            "** Capture Chart Cicalino 2 ** \n",
            "            Catch Chart         Unnamed: 1                Unnamed: 2  \\\n",
            "0             DateTime  Number of insects  New Catches (per evento)   \n",
            "1  05.07.2024 11:31:01                  0                         0   \n",
            "2  06.07.2024 03:02:01                  0                         0   \n",
            "3  07.07.2024 03:04:01                  0                         0   \n",
            "4  08.07.2024 03:01:01                  0                         0   \n",
            "\n",
            "  Unnamed: 3 Unnamed: 4  \n",
            "0   Reviewed      Event  \n",
            "1         Si        NaN  \n",
            "2         Si        NaN  \n",
            "3         Si        NaN  \n",
            "4         Si        NaN   \n",
            "\n",
            "** Historical Weather Data Cicalino 1 ** \n",
            "   Historical Weather Data           Unnamed: 1         Unnamed: 2 Unnamed: 3  \\\n",
            "0                DateTime  Average Temperature  Temperature Range        NaN   \n",
            "1                     NaN                  NaN                low       high   \n",
            "2     05.07.2024 15:00:00                31,65               31,1       32,2   \n",
            "3     05.07.2024 16:00:00                31,45                 31       32,2   \n",
            "4     05.07.2024 17:00:00                31,66               31,2       32,1   \n",
            "\n",
            "         Unnamed: 4  \n",
            "0  Average Humidity  \n",
            "1               NaN  \n",
            "2             37,08  \n",
            "3             33,55  \n",
            "4             34,98   \n",
            "\n",
            "** Historical Weather Data Cicalino 2 ** \n",
            "   Historical Weather Data           Unnamed: 1         Unnamed: 2 Unnamed: 3  \\\n",
            "0                DateTime  Average Temperature  Temperature Range        NaN   \n",
            "1                     NaN                  NaN                low       high   \n",
            "2     11.07.2024 01:00:00                   17                 17         17   \n",
            "3     11.07.2024 02:00:00                16,32               15,7       16,9   \n",
            "4     11.07.2024 03:00:00                15,47               15,4       15,6   \n",
            "\n",
            "         Unnamed: 4  \n",
            "0  Average Humidity  \n",
            "1               NaN  \n",
            "2              86,6  \n",
            "3             86,83  \n",
            "4             87,32   \n",
            "\n"
          ]
        }
      ]
    },
    {
      "cell_type": "code",
      "source": [
        "# Showing first rows of each file for Imola\n",
        "print(\"** Capture Chart Imola 1 ** \\n\",Capture_Chart_Imola_1.head(), \"\\n\")\n",
        "print(\"** Capture Chart Imola 2 ** \\n\",Capture_Chart_Imola_2.head(), \"\\n\")\n",
        "print(\"** Capture Chart Imola 3 ** \\n\",Capture_Chart_Imola_3.head(), \"\\n\")\n",
        "print(\"** Historical Weather Data Imola 1 ** \\n\",Historical_Weather_Data_Imola_1.head(), \"\\n\")\n",
        "print(\"** Historical Weather Data Imola 2 ** \\n\",Historical_Weather_Data_Imola_2.head(), \"\\n\")\n",
        "print(\"** Historical Weather Data Imola 3 ** \\n\",Historical_Weather_Data_Imola_3.head(), \"\\n\")"
      ],
      "metadata": {
        "colab": {
          "base_uri": "https://localhost:8080/"
        },
        "id": "wjtlf9FdqjKX",
        "outputId": "4ff6ada1-afff-4fb5-bd12-3a4bcfe71d48"
      },
      "execution_count": 90,
      "outputs": [
        {
          "output_type": "stream",
          "name": "stdout",
          "text": [
            "** Capture Chart Imola 1 ** \n",
            "            Catch chart         Unnamed: 1              Unnamed: 2 Unnamed: 3  \\\n",
            "0             DateTime  Number of Insects  New Catch (per evento)    Reviwed   \n",
            "1  30.07.2024 22:01:00                  0                       0         Si   \n",
            "2  31.07.2024 22:03:00                  0                       0         Si   \n",
            "3  01.08.2024 22:01:00                  0                       0         Si   \n",
            "4  02.08.2024 22:03:00                  0                       0         Si   \n",
            "\n",
            "  Unnamed: 4  \n",
            "0      Event  \n",
            "1        NaN  \n",
            "2        NaN  \n",
            "3        NaN  \n",
            "4        NaN   \n",
            "\n",
            "** Capture Chart Imola 2 ** \n",
            "            Catch Chart         Unnamed: 1                Unnamed: 2  \\\n",
            "0             DateTime  Number of Insects  New Catches (per evento)   \n",
            "1  31.07.2024 00:00:00                  0                         0   \n",
            "2  01.08.2024 00:01:00                  0                         0   \n",
            "3  02.08.2024 00:03:00                  0                         0   \n",
            "4  03.08.2024 00:00:00                  0                         0   \n",
            "\n",
            "  Unnamed: 3 Unnamed: 4  \n",
            "0   Reviewed      Event  \n",
            "1         Si        NaN  \n",
            "2         Si        NaN  \n",
            "3         Si        NaN  \n",
            "4         Si        NaN   \n",
            "\n",
            "** Capture Chart Imola 3 ** \n",
            "            Catch Chart         Unnamed: 1                Unnamed: 2  \\\n",
            "0             DateTime  Number of Insects  New Catches (per evento)   \n",
            "1  17.08.2024 00:02:00                  0                         0   \n",
            "2  18.08.2024 00:04:00                  0                         0   \n",
            "3  19.08.2024 00:00:00                  0                         0   \n",
            "4  20.08.2024 00:02:00                  1                         1   \n",
            "\n",
            "  Unnamed: 3 Unnamed: 4  \n",
            "0    Reviwed      Event  \n",
            "1         Si        NaN  \n",
            "2         Si        NaN  \n",
            "3         Si        NaN  \n",
            "4         Si        NaN   \n",
            "\n",
            "** Historical Weather Data Imola 1 ** \n",
            "   Historical Weather Data           Unnamed: 1         Unnamed: 2 Unnamed: 3  \\\n",
            "0                DateTime  Average Temperature  Temperature Range        NaN   \n",
            "1                     NaN                  NaN                low       high   \n",
            "2     30.07.2024 12:00:00                34,98               34,8       35,1   \n",
            "3     30.07.2024 13:00:00                35,08               34,8       35,3   \n",
            "4     30.07.2024 14:00:00                35,14               34,8       35,5   \n",
            "\n",
            "         Unnamed: 4  \n",
            "0  Average Humidity  \n",
            "1               NaN  \n",
            "2             35,38  \n",
            "3             33,89  \n",
            "4             33,49   \n",
            "\n",
            "** Historical Weather Data Imola 2 ** \n",
            "   Historical Weather Data           Unnamed: 1         Unnamed: 2 Unnamed: 3  \\\n",
            "0                DateTime  Average Temperature  Temperature Range        NaN   \n",
            "1                     NaN                  NaN                low       high   \n",
            "2     30.07.2024 17:00:00                33,64               33,5         34   \n",
            "3     30.07.2024 18:00:00                33,25               32,9       33,5   \n",
            "4     30.07.2024 19:00:00                32,69               30,9       33,4   \n",
            "\n",
            "         Unnamed: 4  \n",
            "0  Average Humidity  \n",
            "1               NaN  \n",
            "2             35,86  \n",
            "3             34,76  \n",
            "4             33,67   \n",
            "\n",
            "** Historical Weather Data Imola 3 ** \n",
            "   Historical Weather Data           Unnamed: 1         Unnamed: 2 Unnamed: 3  \\\n",
            "0                DateTime  Average Temperature  Temperature Range        NaN   \n",
            "1                     NaN                  NaN                low       high   \n",
            "2     30.07.2024 12:00:00                   34               33,6       34,4   \n",
            "3     30.07.2024 13:00:00                34,32               34,1       34,7   \n",
            "4     30.07.2024 14:00:00                34,38               33,9       34,8   \n",
            "\n",
            "         Unnamed: 4  \n",
            "0  Average Humidity  \n",
            "1               NaN  \n",
            "2             36,44  \n",
            "3             34,62  \n",
            "4             34,43   \n",
            "\n"
          ]
        }
      ]
    },
    {
      "cell_type": "markdown",
      "source": [
        "## Dara Cleaning\n",
        "#### Rename columns using the first row as header and drop the old header row"
      ],
      "metadata": {
        "id": "gjRJK0_gMObA"
      }
    },
    {
      "cell_type": "code",
      "source": [
        "# Fix Capture Chart data for Cicalino 1\n",
        "CaptureChart_Cicalino1 = Capture_Chart_Cicalino_1\n",
        "CaptureChart_Cicalino1.columns = CaptureChart_Cicalino1.iloc[0]  # Set first row as header\n",
        "CaptureChart_Cicalino1 = CaptureChart_Cicalino1[1:].reset_index(drop=True)  # Remove first row\n",
        "\n",
        "# Fix Capture Chart data for Cicalino 2\n",
        "CaptureChart_Cicalino2 = Capture_Chart_Cicalino_2\n",
        "CaptureChart_Cicalino2.columns = CaptureChart_Cicalino2.iloc[0]  # Set first row as header\n",
        "CaptureChart_Cicalino2 = CaptureChart_Cicalino2[1:].reset_index(drop=True)  # Remove first row\n",
        "\n",
        "# Fix Historical Weather Data Cicalino 1\n",
        "HistoricalWeather_Cicalino1 = Historical_Weather_Data_Cicalino_1\n",
        "HistoricalWeather_Cicalino1.columns = HistoricalWeather_Cicalino1.iloc[0]\n",
        "HistoricalWeather_Cicalino1 = HistoricalWeather_Cicalino1[2:].reset_index(drop=True)  # Remove first two rows\n",
        "\n",
        "# Fix Historical Weather Data Cicalino 2\n",
        "HistoricalWeather_Cicalino2 = Historical_Weather_Data_Cicalino_2\n",
        "HistoricalWeather_Cicalino2.columns = HistoricalWeather_Cicalino2.iloc[0]\n",
        "HistoricalWeather_Cicalino2 = HistoricalWeather_Cicalino2[2:].reset_index(drop=True)  # Remove first two rows\n",
        "\n",
        "# # Fix Historical Weather Data for Cicalino\n",
        "# CaptureChart_Cicalino1.head(), CaptureChart_Cicalino2.head(), HistoricalWeather_Cicalino1.head(), HistoricalWeather_Cicalino2.head()"
      ],
      "metadata": {
        "id": "Bu5U1buoNDHt"
      },
      "execution_count": 91,
      "outputs": []
    },
    {
      "cell_type": "code",
      "source": [
        "# Fix Capture Chart data for Imola 1\n",
        "CaptureChart_Imola1 = Capture_Chart_Imola_1\n",
        "CaptureChart_Imola1.columns = CaptureChart_Imola1.iloc[0]  # Set first row as header\n",
        "CaptureChart_Imola1 = CaptureChart_Imola1[1:].reset_index(drop=True)  # Remove first row\n",
        "\n",
        "# Fix Capture Chart data for Imola 2\n",
        "CaptureChart_Imola2 = Capture_Chart_Imola_2\n",
        "CaptureChart_Imola2.columns = CaptureChart_Imola2.iloc[0]  # Set first row as header\n",
        "CaptureChart_Imola2 = CaptureChart_Imola2[1:].reset_index(drop=True)  # Remove first row\n",
        "\n",
        "# Fix Capture Chart data for Imola 2\n",
        "CaptureChart_Imola3 = Capture_Chart_Imola_3\n",
        "CaptureChart_Imola3.columns = CaptureChart_Imola3.iloc[0]  # Set first row as header\n",
        "CaptureChart_Imola3 = CaptureChart_Imola3[1:].reset_index(drop=True)\n",
        "\n",
        "# Fix Historical Weather Data Imola 1\n",
        "HistoricalWeather_Imola1 = Historical_Weather_Data_Imola_1\n",
        "HistoricalWeather_Imola1.columns = HistoricalWeather_Imola1.iloc[0]\n",
        "HistoricalWeather_Imola1 = HistoricalWeather_Imola1[2:].reset_index(drop=True)  # Remove first two rows\n",
        "\n",
        "# Fix Historical Weather Data Imola 2\n",
        "HistoricalWeather_Imola2 = Historical_Weather_Data_Imola_2\n",
        "HistoricalWeather_Imola2.columns = HistoricalWeather_Imola2.iloc[0]\n",
        "HistoricalWeather_Imola2 = HistoricalWeather_Imola2[2:].reset_index(drop=True)  # Remove first two rows\n",
        "\n",
        "# Fix Historical Weather Data Imola 3\n",
        "HistoricalWeather_Imola3 = Historical_Weather_Data_Imola_3\n",
        "HistoricalWeather_Imola3.columns = HistoricalWeather_Imola3.iloc[0]\n",
        "HistoricalWeather_Imola3 = HistoricalWeather_Imola3[2:].reset_index(drop=True)  # Remove first two rows\n",
        "\n",
        "# # Fix Historical Weather Data for Imola\n",
        "# CaptureChart_Imola1.head(), CaptureChart_Imola2.head(), CaptureChart_Imola3.head(), HistoricalWeather_Imola1.head(), HistoricalWeather_Imola2.head(), HistoricalWeather_Imola3.head()"
      ],
      "metadata": {
        "id": "J_haYtNLOOQx"
      },
      "execution_count": 92,
      "outputs": []
    },
    {
      "cell_type": "markdown",
      "source": [
        "### Standardize column names"
      ],
      "metadata": {
        "id": "v2ibtKpPBuyB"
      }
    },
    {
      "cell_type": "code",
      "source": [
        "# Standardize column names for Capture Chart Cicalion\n",
        "CaptureChart_Cicalino1.columns = [\"DateTime\", \"Number of Insects\", \"New Catches\", \"Reviewed\", \"Event\"]\n",
        "CaptureChart_Cicalino2.columns = [\"DateTime\", \"Number of Insects\", \"New Catches\", \"Reviewed\", \"Event\"]\n",
        "\n",
        "# Standardize column names for Historical Weather Data Cicalion\n",
        "HistoricalWeather_Cicalino1.columns = [\"DateTime\", \"Average Temperature\", \"Temp Min\", \"Temp Max\", \"Average Humidity\"]\n",
        "HistoricalWeather_Cicalino2.columns = [\"DateTime\", \"Temperature\", \"TempRange_low\", \"TempRange_high\", \"Average Humidity\"]\n",
        "\n",
        "# print(\"** Capture Chart Cicalino 1 ** \\n\",CaptureChart_Cicalino1.head(), \"\\n\")\n",
        "# print(\"** Capture Chart Cicalino 2 ** \\n\",CaptureChart_Cicalino2.head(), \"\\n\")\n",
        "# print(\"** Historical Weather Data Cicalino 1 ** \\n\",HistoricalWeather_Cicalino1.head(), \"\\n\")\n",
        "# print(\"** Historical Weather Data Cicalino 2 ** \\n\",HistoricalWeather_Cicalino2.head(), \"\\n\")"
      ],
      "metadata": {
        "id": "z7lzWJXzA7dp"
      },
      "execution_count": 93,
      "outputs": []
    },
    {
      "cell_type": "code",
      "source": [
        "# Standardize column names for Capture Chart Imola\n",
        "CaptureChart_Imola1.columns = [\"DateTime\", \"Number of Insects\", \"New Catches\", \"Reviewed\", \"Event\"]\n",
        "CaptureChart_Imola2.columns = [\"DateTime\", \"Number of Insects\", \"New Catches\", \"Reviewed\", \"Event\"]\n",
        "CaptureChart_Imola3.columns = [\"DateTime\", \"Number of Insects\", \"New Catches\", \"Reviewed\", \"Event\"]\n",
        "\n",
        "# Standardize column names for Historical Weather Data Imola\n",
        "HistoricalWeather_Imola1.columns = [\"DateTime\", \"Average Temperature\", \"Temp Min\", \"Temp Max\", \"Average Humidity\"]\n",
        "HistoricalWeather_Imola2.columns = [\"DateTime\", \"Temperature\", \"TempRange_low\", \"TempRange_high\", \"Average Humidity\"]\n",
        "HistoricalWeather_Imola3.columns = [\"DateTime\", \"Temperature\", \"TempRange_low\", \"TempRange_high\", \"Average Humidity\"]\n",
        "\n",
        "# print(\"** Capture Chart Imola 1 ** \\n\",CaptureChart_Imola1.head(), \"\\n\")\n",
        "# print(\"** Capture Chart Imola 2 ** \\n\",CaptureChart_Imola2.head(), \"\\n\")\n",
        "# print(\"** Historical Weather Data Imola 1 ** \\n\",HistoricalWeather_Imola1.head(), \"\\n\")\n",
        "# print(\"** Historical Weather Data Imola 2 ** \\n\",HistoricalWeather_Imola2.head(), \"\\n\")\n",
        "# print(\"** Historical Weather Data Imola 3 ** \\n\",HistoricalWeather_Imola3.head(), \"\\n\")"
      ],
      "metadata": {
        "id": "8AEhMWDVFYNj"
      },
      "execution_count": 94,
      "outputs": []
    },
    {
      "cell_type": "markdown",
      "source": [
        "#### Convert DataTime format"
      ],
      "metadata": {
        "id": "GnaWkcsRHZG9"
      }
    },
    {
      "cell_type": "code",
      "source": [
        "# Convert DateTime column to proper datetime format for Cicalion\n",
        "CaptureChart_Cicalino1[\"DateTime\"] = pd.to_datetime(CaptureChart_Cicalino1[\"DateTime\"], format=\"%d.%m.%Y %H:%M:%S\", errors=\"coerce\")\n",
        "CaptureChart_Cicalino2[\"DateTime\"] = pd.to_datetime(CaptureChart_Cicalino2[\"DateTime\"], format=\"%d.%m.%Y %H:%M:%S\", errors=\"coerce\")\n",
        "HistoricalWeather_Cicalino1[\"DateTime\"] = pd.to_datetime(HistoricalWeather_Cicalino1[\"DateTime\"], format=\"%d.%m.%Y %H:%M:%S\", errors=\"coerce\")\n",
        "HistoricalWeather_Cicalino2[\"DateTime\"] = pd.to_datetime(HistoricalWeather_Cicalino2[\"DateTime\"], format=\"%d.%m.%Y %H:%M:%S\", errors=\"coerce\")\n",
        "\n",
        "print(\"** Capture Chart Cicalino 1 ** \\n\",CaptureChart_Cicalino1.head(), \"\\n\")\n",
        "print(\"** Capture Chart Cicalino 2 ** \\n\",CaptureChart_Cicalino2.head(), \"\\n\")\n",
        "print(\"** Historical Weather Data Cicalino 1 ** \\n\",HistoricalWeather_Cicalino1.head(), \"\\n\")\n",
        "print(\"** Historical Weather Data Cicalino 2 ** \\n\",HistoricalWeather_Cicalino2.head(), \"\\n\")\n",
        "\n",
        "# Convert DateTime column to proper datetime format for Imola\n",
        "CaptureChart_Imola1[\"DataTime\"] = pd.to_datetime(CaptureChart_Imola1[\"DateTime\"], format=\"%d.%m.%Y %H:%M:%S\", errors=\"coerce\")\n",
        "CaptureChart_Imola2[\"DataTime\"] = pd.to_datetime(CaptureChart_Imola2[\"DateTime\"], format=\"%d.%m.%Y %H:%M:%S\", errors=\"coerce\")\n",
        "CaptureChart_Imola3[\"DataTime\"] = pd.to_datetime(CaptureChart_Imola3[\"DateTime\"], format=\"%d.%m.%Y %H:%M:%S\", errors=\"coerce\")\n",
        "HistoricalWeather_Imola1[\"DateTime\"] = pd.to_datetime(HistoricalWeather_Imola1[\"DateTime\"], format=\"%d.%m.%Y %H:%M:%S\", errors=\"coerce\")\n",
        "HistoricalWeather_Imola2[\"DateTime\"] = pd.to_datetime(HistoricalWeather_Imola2[\"DateTime\"], format=\"%d.%m.%Y %H:%M:%S\", errors=\"coerce\")\n",
        "HistoricalWeather_Imola3[\"DateTime\"] = pd.to_datetime(HistoricalWeather_Imola3[\"DateTime\"], format=\"%d.%m.%Y %H:%M:%S\", errors=\"coerce\")\n",
        "\n",
        "print(\"** Capture Chart Imola 1 ** \\n\",CaptureChart_Imola1.head(), \"\\n\")\n",
        "print(\"** Capture Chart Imola 2 ** \\n\",CaptureChart_Imola2.head(), \"\\n\")\n",
        "print(\"** Capture Chart Imola 3 ** \\n\",CaptureChart_Imola3.head(), \"\\n\")\n",
        "print(\"** Historical Weather Data Imola 1 ** \\n\",HistoricalWeather_Imola1.head(), \"\\n\")\n",
        "print(\"** Historical Weather Data Imola 2 ** \\n\",HistoricalWeather_Imola2.head(), \"\\n\")\n",
        "print(\"** Historical Weather Data Imola 3 ** \\n\",HistoricalWeather_Imola3.head(), \"\\n\")"
      ],
      "metadata": {
        "colab": {
          "base_uri": "https://localhost:8080/"
        },
        "id": "Qv75szlZF-VF",
        "outputId": "97fb1102-b99b-463b-8473-ead60ad16b4b"
      },
      "execution_count": 95,
      "outputs": [
        {
          "output_type": "stream",
          "name": "stdout",
          "text": [
            "** Capture Chart Cicalino 1 ** \n",
            "              DateTime Number of Insects New Catches Reviewed     Event\n",
            "0 2024-07-06 06:01:00                 0           0       Si       NaN\n",
            "1 2024-07-07 06:04:00                 0           0       Si       NaN\n",
            "2 2024-07-08 06:03:00                 0           0       Si       NaN\n",
            "3 2024-07-09 06:05:00                 0           0       Si       NaN\n",
            "4 2024-07-09 06:13:59               NaN         NaN       Si  Cleaning \n",
            "\n",
            "** Capture Chart Cicalino 2 ** \n",
            "              DateTime Number of Insects New Catches Reviewed     Event\n",
            "0 2024-07-05 11:31:01                 0           0       Si       NaN\n",
            "1 2024-07-06 03:02:01                 0           0       Si       NaN\n",
            "2 2024-07-07 03:04:01                 0           0       Si       NaN\n",
            "3 2024-07-08 03:01:01                 0           0       Si       NaN\n",
            "4 2024-07-08 03:10:00               NaN         NaN       Si  Cleaning \n",
            "\n",
            "** Historical Weather Data Cicalino 1 ** \n",
            "              DateTime Average Temperature Temp Min Temp Max Average Humidity\n",
            "0 2024-07-05 15:00:00               31,65     31,1     32,2            37,08\n",
            "1 2024-07-05 16:00:00               31,45       31     32,2            33,55\n",
            "2 2024-07-05 17:00:00               31,66     31,2     32,1            34,98\n",
            "3 2024-07-05 18:00:00               30,08     29,2     30,8            42,39\n",
            "4 2024-07-05 19:00:00               28,78     26,5     29,6            47,54 \n",
            "\n",
            "** Historical Weather Data Cicalino 2 ** \n",
            "              DateTime Temperature TempRange_low TempRange_high  \\\n",
            "0 2024-07-11 01:00:00          17            17             17   \n",
            "1 2024-07-11 02:00:00       16,32          15,7           16,9   \n",
            "2 2024-07-11 03:00:00       15,47          15,4           15,6   \n",
            "3 2024-07-11 04:00:00       14,67          14,4           15,2   \n",
            "4 2024-07-11 05:00:00       14,54          14,4           14,7   \n",
            "\n",
            "  Average Humidity  \n",
            "0             86,6  \n",
            "1            86,83  \n",
            "2            87,32  \n",
            "3            88,19  \n",
            "4            87,45   \n",
            "\n",
            "** Capture Chart Imola 1 ** \n",
            "               DateTime Number of Insects New Catches Reviewed Event  \\\n",
            "0  30.07.2024 22:01:00                 0           0       Si   NaN   \n",
            "1  31.07.2024 22:03:00                 0           0       Si   NaN   \n",
            "2  01.08.2024 22:01:00                 0           0       Si   NaN   \n",
            "3  02.08.2024 22:03:00                 0           0       Si   NaN   \n",
            "4  03.08.2024 22:04:00                 0           0       Si   NaN   \n",
            "\n",
            "             DataTime  \n",
            "0 2024-07-30 22:01:00  \n",
            "1 2024-07-31 22:03:00  \n",
            "2 2024-08-01 22:01:00  \n",
            "3 2024-08-02 22:03:00  \n",
            "4 2024-08-03 22:04:00   \n",
            "\n",
            "** Capture Chart Imola 2 ** \n",
            "               DateTime Number of Insects New Catches Reviewed     Event  \\\n",
            "0  31.07.2024 00:00:00                 0           0       Si       NaN   \n",
            "1  01.08.2024 00:01:00                 0           0       Si       NaN   \n",
            "2  02.08.2024 00:03:00                 0           0       Si       NaN   \n",
            "3  03.08.2024 00:00:00                 0           0       Si       NaN   \n",
            "4  03.08.2024 00:12:59               NaN         NaN       Si  Cleaning   \n",
            "\n",
            "             DataTime  \n",
            "0 2024-07-31 00:00:00  \n",
            "1 2024-08-01 00:01:00  \n",
            "2 2024-08-02 00:03:00  \n",
            "3 2024-08-03 00:00:00  \n",
            "4 2024-08-03 00:12:59   \n",
            "\n",
            "** Capture Chart Imola 3 ** \n",
            "               DateTime Number of Insects New Catches Reviewed Event  \\\n",
            "0  17.08.2024 00:02:00                 0           0       Si   NaN   \n",
            "1  18.08.2024 00:04:00                 0           0       Si   NaN   \n",
            "2  19.08.2024 00:00:00                 0           0       Si   NaN   \n",
            "3  20.08.2024 00:02:00                 1           1       Si   NaN   \n",
            "4  21.08.2024 00:04:00                 1           0       Si   NaN   \n",
            "\n",
            "             DataTime  \n",
            "0 2024-08-17 00:02:00  \n",
            "1 2024-08-18 00:04:00  \n",
            "2 2024-08-19 00:00:00  \n",
            "3 2024-08-20 00:02:00  \n",
            "4 2024-08-21 00:04:00   \n",
            "\n",
            "** Historical Weather Data Imola 1 ** \n",
            "              DateTime Average Temperature Temp Min Temp Max Average Humidity\n",
            "0 2024-07-30 12:00:00               34,98     34,8     35,1            35,38\n",
            "1 2024-07-30 13:00:00               35,08     34,8     35,3            33,89\n",
            "2 2024-07-30 14:00:00               35,14     34,8     35,5            33,49\n",
            "3 2024-07-30 15:00:00                34,4     33,9     34,8            35,22\n",
            "4 2024-07-30 16:00:00               33,11     32,6       34             35,3 \n",
            "\n",
            "** Historical Weather Data Imola 2 ** \n",
            "              DateTime Temperature TempRange_low TempRange_high  \\\n",
            "0 2024-07-30 17:00:00       33,64          33,5             34   \n",
            "1 2024-07-30 18:00:00       33,25          32,9           33,5   \n",
            "2 2024-07-30 19:00:00       32,69          30,9           33,4   \n",
            "3 2024-07-30 20:00:00       29,39          28,2           30,5   \n",
            "4 2024-07-30 21:00:00       27,58            27           28,1   \n",
            "\n",
            "  Average Humidity  \n",
            "0            35,86  \n",
            "1            34,76  \n",
            "2            33,67  \n",
            "3            38,83  \n",
            "4            41,18   \n",
            "\n",
            "** Historical Weather Data Imola 3 ** \n",
            "              DateTime Temperature TempRange_low TempRange_high  \\\n",
            "0 2024-07-30 12:00:00          34          33,6           34,4   \n",
            "1 2024-07-30 13:00:00       34,32          34,1           34,7   \n",
            "2 2024-07-30 14:00:00       34,38          33,9           34,8   \n",
            "3 2024-07-30 15:00:00        33,9          33,5           34,2   \n",
            "4 2024-07-30 16:00:00       33,05          32,8           33,3   \n",
            "\n",
            "  Average Humidity  \n",
            "0            36,44  \n",
            "1            34,62  \n",
            "2            34,43  \n",
            "3             35,5  \n",
            "4            35,22   \n",
            "\n"
          ]
        }
      ]
    }
  ]
}