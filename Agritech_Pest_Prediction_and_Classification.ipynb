{
  "nbformat": 4,
  "nbformat_minor": 0,
  "metadata": {
    "colab": {
      "provenance": [],
      "authorship_tag": "ABX9TyPYa3owGoqINZmN+MXjKhir",
      "include_colab_link": true
    },
    "kernelspec": {
      "name": "python3",
      "display_name": "Python 3"
    },
    "language_info": {
      "name": "python"
    }
  },
  "cells": [
    {
      "cell_type": "markdown",
      "metadata": {
        "id": "view-in-github",
        "colab_type": "text"
      },
      "source": [
        "<a href=\"https://colab.research.google.com/github/raz0208/Agritech-Pest-Prediction/blob/main/Agritech_Pest_Prediction_and_Classification.ipynb\" target=\"_parent\"><img src=\"https://colab.research.google.com/assets/colab-badge.svg\" alt=\"Open In Colab\"/></a>"
      ]
    },
    {
      "cell_type": "markdown",
      "source": [
        "## Agritech Pest Prediction and Classification"
      ],
      "metadata": {
        "id": "GQ60Bmyh1Vs2"
      }
    },
    {
      "cell_type": "markdown",
      "source": [
        "### Import required libraries and read the data"
      ],
      "metadata": {
        "id": "b-VcXF3f42XM"
      }
    },
    {
      "cell_type": "code",
      "source": [
        "# Import required libraries\n",
        "import os\n",
        "import pandas as pd\n",
        "import numpy as np\n",
        "import matplotlib.pyplot as plt\n",
        "import seaborn as sns"
      ],
      "metadata": {
        "id": "lawDnngj5EAk"
      },
      "execution_count": 52,
      "outputs": []
    },
    {
      "cell_type": "code",
      "source": [
        "# Read data\n",
        "Capture_Chart_Cicalino_1 = pd.read_csv('/content/AgritechPestDataset/Capture_Chart(Cicalino_1).csv')\n",
        "Capture_Chart_Cicalino_2 = pd.read_csv('/content/AgritechPestDataset/Capture_Chart(Cicalino_2).csv')\n",
        "Capture_Chart_Imola_1 = pd.read_csv('/content/AgritechPestDataset/Capture_Chart(Imola_1).csv')\n",
        "Capture_Chart_Imola_2 = pd.read_csv('/content/AgritechPestDataset/Capture_Chart(Imola_2).csv')\n",
        "Capture_Chart_Imola_3 = pd.read_csv('/content/AgritechPestDataset/Capture_Chart(Imola_3).csv')\n",
        "Historical_Weather_Data_Cicalino_1 = pd.read_csv('/content/AgritechPestDataset/Historical_Weather_Data(Cicalino_1).csv')\n",
        "Historical_Weather_Data_Cicalino_2 = pd.read_csv('/content/AgritechPestDataset/Historical_Weather_Data(Cicalino_2).csv')\n",
        "Historical_Weather_Data_Imola_1 = pd.read_csv('/content/AgritechPestDataset/Historical_Weather_Data(Imola_1).csv')\n",
        "Historical_Weather_Data_Imola_2 = pd.read_csv('/content/AgritechPestDataset/Historical_Weather_Data(Imola_2).csv')\n",
        "Historical_Weather_Data_Imola_3 = pd.read_csv('/content/AgritechPestDataset/Historical_Weather_Data(Imola_3).csv')"
      ],
      "metadata": {
        "id": "oa4bBfkQ5ask"
      },
      "execution_count": 53,
      "outputs": []
    },
    {
      "cell_type": "code",
      "source": [
        "# Showing first rows of each file for Cicalino\n",
        "print(\"** Capture Chart Cicalino 1 ** \\n\",Capture_Chart_Cicalino_1.head(), \"\\n\")\n",
        "print(\"** Capture Chart Cicalino 2 ** \\n\",Capture_Chart_Cicalino_2.head(), \"\\n\")\n",
        "print(\"** Historical Weather Data Cicalino 1 ** \\n\",Historical_Weather_Data_Cicalino_1.head(), \"\\n\")\n",
        "print(\"** Historical Weather Data Cicalino 2 ** \\n\",Historical_Weather_Data_Cicalino_2.head(), \"\\n\")"
      ],
      "metadata": {
        "id": "TtLkKJY-7hnU",
        "colab": {
          "base_uri": "https://localhost:8080/"
        },
        "outputId": "166f3050-9882-440c-8333-5f5dcf244666"
      },
      "execution_count": 54,
      "outputs": [
        {
          "output_type": "stream",
          "name": "stdout",
          "text": [
            "** Capture Chart Cicalino 1 ** \n",
            "            Catch chart         Unnamed: 1               Unnamed: 2 Unnamed: 3  \\\n",
            "0             DateTime  Number of insects  New catches (per event)   Reviewed   \n",
            "1  06.07.2024 06:01:00                  0                        0         Si   \n",
            "2  07.07.2024 06:04:00                  0                        0         Si   \n",
            "3  08.07.2024 06:03:00                  0                        0         Si   \n",
            "4  09.07.2024 06:05:00                  0                        0         Si   \n",
            "\n",
            "  Unnamed: 4  \n",
            "0      Event  \n",
            "1        NaN  \n",
            "2        NaN  \n",
            "3        NaN  \n",
            "4        NaN   \n",
            "\n",
            "** Capture Chart Cicalino 2 ** \n",
            "            Catch Chart         Unnamed: 1                Unnamed: 2  \\\n",
            "0             DateTime  Number of insects  New Catches (per evento)   \n",
            "1  05.07.2024 11:31:01                  0                         0   \n",
            "2  06.07.2024 03:02:01                  0                         0   \n",
            "3  07.07.2024 03:04:01                  0                         0   \n",
            "4  08.07.2024 03:01:01                  0                         0   \n",
            "\n",
            "  Unnamed: 3 Unnamed: 4  \n",
            "0   Reviewed      Event  \n",
            "1         Si        NaN  \n",
            "2         Si        NaN  \n",
            "3         Si        NaN  \n",
            "4         Si        NaN   \n",
            "\n",
            "** Historical Weather Data Cicalino 1 ** \n",
            "   Historical Weather Data           Unnamed: 1         Unnamed: 2 Unnamed: 3  \\\n",
            "0                DateTime  Average Temperature  Temperature Range        NaN   \n",
            "1                     NaN                  NaN                low       high   \n",
            "2     05.07.2024 15:00:00                31,65               31,1       32,2   \n",
            "3     05.07.2024 16:00:00                31,45                 31       32,2   \n",
            "4     05.07.2024 17:00:00                31,66               31,2       32,1   \n",
            "\n",
            "         Unnamed: 4  \n",
            "0  Average Humidity  \n",
            "1               NaN  \n",
            "2             37,08  \n",
            "3             33,55  \n",
            "4             34,98   \n",
            "\n",
            "** Historical Weather Data Cicalino 2 ** \n",
            "   Historical Weather Data           Unnamed: 1         Unnamed: 2 Unnamed: 3  \\\n",
            "0                DateTime  Average Temperature  Temperature Range        NaN   \n",
            "1                     NaN                  NaN                low       high   \n",
            "2     11.07.2024 01:00:00                   17                 17         17   \n",
            "3     11.07.2024 02:00:00                16,32               15,7       16,9   \n",
            "4     11.07.2024 03:00:00                15,47               15,4       15,6   \n",
            "\n",
            "         Unnamed: 4  \n",
            "0  Average Humidity  \n",
            "1               NaN  \n",
            "2              86,6  \n",
            "3             86,83  \n",
            "4             87,32   \n",
            "\n"
          ]
        }
      ]
    },
    {
      "cell_type": "code",
      "source": [
        "# Showing first rows of each file for Imola\n",
        "print(\"** Capture Chart Imola 1 ** \\n\",Capture_Chart_Imola_1.head(), \"\\n\")\n",
        "print(\"** Capture Chart Imola 2 ** \\n\",Capture_Chart_Imola_2.head(), \"\\n\")\n",
        "print(\"** Capture Chart Imola 3 ** \\n\",Capture_Chart_Imola_3.head(), \"\\n\")\n",
        "print(\"** Historical Weather Data Imola 1 ** \\n\",Historical_Weather_Data_Imola_1.head(), \"\\n\")\n",
        "print(\"** Historical Weather Data Imola 2 ** \\n\",Historical_Weather_Data_Imola_2.head(), \"\\n\")\n",
        "print(\"** Historical Weather Data Imola 3 ** \\n\",Historical_Weather_Data_Imola_3.head(), \"\\n\")"
      ],
      "metadata": {
        "colab": {
          "base_uri": "https://localhost:8080/"
        },
        "id": "wjtlf9FdqjKX",
        "outputId": "29997c2d-7afd-492b-f1aa-5a412fe1c074"
      },
      "execution_count": 55,
      "outputs": [
        {
          "output_type": "stream",
          "name": "stdout",
          "text": [
            "** Capture Chart Imola 1 ** \n",
            "            Catch chart         Unnamed: 1              Unnamed: 2 Unnamed: 3  \\\n",
            "0             DateTime  Number of Insects  New Catch (per evento)    Reviwed   \n",
            "1  30.07.2024 22:01:00                  0                       0         Si   \n",
            "2  31.07.2024 22:03:00                  0                       0         Si   \n",
            "3  01.08.2024 22:01:00                  0                       0         Si   \n",
            "4  02.08.2024 22:03:00                  0                       0         Si   \n",
            "\n",
            "  Unnamed: 4  \n",
            "0      Event  \n",
            "1        NaN  \n",
            "2        NaN  \n",
            "3        NaN  \n",
            "4        NaN   \n",
            "\n",
            "** Capture Chart Imola 2 ** \n",
            "            Catch Chart         Unnamed: 1                Unnamed: 2  \\\n",
            "0             DateTime  Number of Insects  New Catches (per evento)   \n",
            "1  31.07.2024 00:00:00                  0                         0   \n",
            "2  01.08.2024 00:01:00                  0                         0   \n",
            "3  02.08.2024 00:03:00                  0                         0   \n",
            "4  03.08.2024 00:00:00                  0                         0   \n",
            "\n",
            "  Unnamed: 3 Unnamed: 4  \n",
            "0   Reviewed      Event  \n",
            "1         Si        NaN  \n",
            "2         Si        NaN  \n",
            "3         Si        NaN  \n",
            "4         Si        NaN   \n",
            "\n",
            "** Capture Chart Imola 3 ** \n",
            "            Catch Chart         Unnamed: 1                Unnamed: 2  \\\n",
            "0             DateTime  Number of Insects  New Catches (per evento)   \n",
            "1  17.08.2024 00:02:00                  0                         0   \n",
            "2  18.08.2024 00:04:00                  0                         0   \n",
            "3  19.08.2024 00:00:00                  0                         0   \n",
            "4  20.08.2024 00:02:00                  1                         1   \n",
            "\n",
            "  Unnamed: 3 Unnamed: 4  \n",
            "0    Reviwed      Event  \n",
            "1         Si        NaN  \n",
            "2         Si        NaN  \n",
            "3         Si        NaN  \n",
            "4         Si        NaN   \n",
            "\n",
            "** Historical Weather Data Imola 1 ** \n",
            "   Historical Weather Data           Unnamed: 1         Unnamed: 2 Unnamed: 3  \\\n",
            "0                DateTime  Average Temperature  Temperature Range        NaN   \n",
            "1                     NaN                  NaN                low       high   \n",
            "2     30.07.2024 12:00:00                34,98               34,8       35,1   \n",
            "3     30.07.2024 13:00:00                35,08               34,8       35,3   \n",
            "4     30.07.2024 14:00:00                35,14               34,8       35,5   \n",
            "\n",
            "         Unnamed: 4  \n",
            "0  Average Humidity  \n",
            "1               NaN  \n",
            "2             35,38  \n",
            "3             33,89  \n",
            "4             33,49   \n",
            "\n",
            "** Historical Weather Data Imola 2 ** \n",
            "   Historical Weather Data           Unnamed: 1         Unnamed: 2 Unnamed: 3  \\\n",
            "0                DateTime  Average Temperature  Temperature Range        NaN   \n",
            "1                     NaN                  NaN                low       high   \n",
            "2     30.07.2024 17:00:00                33,64               33,5         34   \n",
            "3     30.07.2024 18:00:00                33,25               32,9       33,5   \n",
            "4     30.07.2024 19:00:00                32,69               30,9       33,4   \n",
            "\n",
            "         Unnamed: 4  \n",
            "0  Average Humidity  \n",
            "1               NaN  \n",
            "2             35,86  \n",
            "3             34,76  \n",
            "4             33,67   \n",
            "\n",
            "** Historical Weather Data Imola 3 ** \n",
            "   Historical Weather Data           Unnamed: 1         Unnamed: 2 Unnamed: 3  \\\n",
            "0                DateTime  Average Temperature  Temperature Range        NaN   \n",
            "1                     NaN                  NaN                low       high   \n",
            "2     30.07.2024 12:00:00                   34               33,6       34,4   \n",
            "3     30.07.2024 13:00:00                34,32               34,1       34,7   \n",
            "4     30.07.2024 14:00:00                34,38               33,9       34,8   \n",
            "\n",
            "         Unnamed: 4  \n",
            "0  Average Humidity  \n",
            "1               NaN  \n",
            "2             36,44  \n",
            "3             34,62  \n",
            "4             34,43   \n",
            "\n"
          ]
        }
      ]
    },
    {
      "cell_type": "markdown",
      "source": [
        "## Dara Cleaning\n",
        "#### Rename columns using the first row as header and drop the old header row"
      ],
      "metadata": {
        "id": "gjRJK0_gMObA"
      }
    },
    {
      "cell_type": "code",
      "source": [
        "# Fix Capture Chart data for Cicalino 1\n",
        "CaptureChart_Cicalino1 = Capture_Chart_Cicalino_1\n",
        "CaptureChart_Cicalino1.columns = CaptureChart_Cicalino1.iloc[0]  # Set first row as header\n",
        "CaptureChart_Cicalino1 = CaptureChart_Cicalino1[1:].reset_index(drop=True)  # Remove first row\n",
        "\n",
        "# Fix Capture Chart data for Cicalino 2\n",
        "CaptureChart_Cicalino2 = Capture_Chart_Cicalino_2\n",
        "CaptureChart_Cicalino2.columns = CaptureChart_Cicalino2.iloc[0]  # Set first row as header\n",
        "CaptureChart_Cicalino2 = CaptureChart_Cicalino2[1:].reset_index(drop=True)  # Remove first row\n",
        "\n",
        "# Fix Historical Weather Data Cicalino 1\n",
        "HistoricalWeather_Cicalino1 = Historical_Weather_Data_Cicalino_1\n",
        "HistoricalWeather_Cicalino1.columns = HistoricalWeather_Cicalino1.iloc[0]\n",
        "HistoricalWeather_Cicalino1 = HistoricalWeather_Cicalino1[2:].reset_index(drop=True)  # Remove first two rows\n",
        "\n",
        "# Fix Historical Weather Data Cicalino 2\n",
        "HistoricalWeather_Cicalino2 = Historical_Weather_Data_Cicalino_2\n",
        "HistoricalWeather_Cicalino2.columns = HistoricalWeather_Cicalino2.iloc[0]\n",
        "HistoricalWeather_Cicalino2 = HistoricalWeather_Cicalino2[2:].reset_index(drop=True)  # Remove first two rows\n",
        "\n",
        "# Fix Historical Weather Data for Cicalino\n",
        "CaptureChart_Cicalino1.head(), CaptureChart_Cicalino2.head(), HistoricalWeather_Cicalino1.head(), HistoricalWeather_Cicalino2.head()"
      ],
      "metadata": {
        "colab": {
          "base_uri": "https://localhost:8080/"
        },
        "id": "Bu5U1buoNDHt",
        "outputId": "e7ed8040-28f7-4516-c3a6-e6e3fc194d59"
      },
      "execution_count": 56,
      "outputs": [
        {
          "output_type": "execute_result",
          "data": {
            "text/plain": [
              "(0             DateTime Number of insects New catches (per event) Reviewed  \\\n",
              " 0  06.07.2024 06:01:00                 0                       0       Si   \n",
              " 1  07.07.2024 06:04:00                 0                       0       Si   \n",
              " 2  08.07.2024 06:03:00                 0                       0       Si   \n",
              " 3  09.07.2024 06:05:00                 0                       0       Si   \n",
              " 4  09.07.2024 06:13:59               NaN                     NaN       Si   \n",
              " \n",
              " 0     Event  \n",
              " 0       NaN  \n",
              " 1       NaN  \n",
              " 2       NaN  \n",
              " 3       NaN  \n",
              " 4  Cleaning  ,\n",
              " 0             DateTime Number of insects New Catches (per evento) Reviewed  \\\n",
              " 0  05.07.2024 11:31:01                 0                        0       Si   \n",
              " 1  06.07.2024 03:02:01                 0                        0       Si   \n",
              " 2  07.07.2024 03:04:01                 0                        0       Si   \n",
              " 3  08.07.2024 03:01:01                 0                        0       Si   \n",
              " 4  08.07.2024 03:10:00               NaN                      NaN       Si   \n",
              " \n",
              " 0     Event  \n",
              " 0       NaN  \n",
              " 1       NaN  \n",
              " 2       NaN  \n",
              " 3       NaN  \n",
              " 4  Cleaning  ,\n",
              " 0             DateTime Average Temperature Temperature Range   NaN  \\\n",
              " 0  05.07.2024 15:00:00               31,65              31,1  32,2   \n",
              " 1  05.07.2024 16:00:00               31,45                31  32,2   \n",
              " 2  05.07.2024 17:00:00               31,66              31,2  32,1   \n",
              " 3  05.07.2024 18:00:00               30,08              29,2  30,8   \n",
              " 4  05.07.2024 19:00:00               28,78              26,5  29,6   \n",
              " \n",
              " 0 Average Humidity  \n",
              " 0            37,08  \n",
              " 1            33,55  \n",
              " 2            34,98  \n",
              " 3            42,39  \n",
              " 4            47,54  ,\n",
              " 0             DateTime Average Temperature Temperature Range   NaN  \\\n",
              " 0  11.07.2024 01:00:00                  17                17    17   \n",
              " 1  11.07.2024 02:00:00               16,32              15,7  16,9   \n",
              " 2  11.07.2024 03:00:00               15,47              15,4  15,6   \n",
              " 3  11.07.2024 04:00:00               14,67              14,4  15,2   \n",
              " 4  11.07.2024 05:00:00               14,54              14,4  14,7   \n",
              " \n",
              " 0 Average Humidity  \n",
              " 0             86,6  \n",
              " 1            86,83  \n",
              " 2            87,32  \n",
              " 3            88,19  \n",
              " 4            87,45  )"
            ]
          },
          "metadata": {},
          "execution_count": 56
        }
      ]
    },
    {
      "cell_type": "code",
      "source": [
        "# Fix Capture Chart data for Imola 1\n",
        "CaptureChart_Imola1 = Capture_Chart_Imola_1\n",
        "CaptureChart_Imola1.columns = CaptureChart_Imola1.iloc[0]  # Set first row as header\n",
        "CaptureChart_Imola1 = CaptureChart_Imola1[1:].reset_index(drop=True)  # Remove first row\n",
        "\n",
        "# Fix Capture Chart data for Imola 2\n",
        "CaptureChart_Imola2 = Capture_Chart_Imola_2\n",
        "CaptureChart_Imola2.columns = CaptureChart_Imola2.iloc[0]  # Set first row as header\n",
        "CaptureChart_Imola2 = CaptureChart_Imola2[1:].reset_index(drop=True)  # Remove first row\n",
        "\n",
        "# Fix Historical Weather Data Imola 1\n",
        "HistoricalWeather_Imola1 = Historical_Weather_Data_Imola_1\n",
        "HistoricalWeather_Imola1.columns = HistoricalWeather_Imola1.iloc[0]\n",
        "HistoricalWeather_Imola1 = HistoricalWeather_Imola1[2:].reset_index(drop=True)  # Remove first two rows\n",
        "\n",
        "# Fix Historical Weather Data Imola 2\n",
        "HistoricalWeather_Imola2 = Historical_Weather_Data_Imola_2\n",
        "HistoricalWeather_Imola2.columns = HistoricalWeather_Imola2.iloc[0]\n",
        "HistoricalWeather_Imola2 = HistoricalWeather_Imola2[2:].reset_index(drop=True)  # Remove first two rows\n",
        "\n",
        "# Fix Historical Weather Data for Imola\n",
        "CaptureChart_Cicalino1.head(), CaptureChart_Cicalino2.head(), HistoricalWeather_Imola1.head(), HistoricalWeather_Imola2.head()"
      ],
      "metadata": {
        "id": "J_haYtNLOOQx",
        "colab": {
          "base_uri": "https://localhost:8080/"
        },
        "outputId": "ca67bc64-3ad3-4958-fa66-0b696df9331d"
      },
      "execution_count": 57,
      "outputs": [
        {
          "output_type": "execute_result",
          "data": {
            "text/plain": [
              "(0             DateTime Number of insects New catches (per event) Reviewed  \\\n",
              " 0  06.07.2024 06:01:00                 0                       0       Si   \n",
              " 1  07.07.2024 06:04:00                 0                       0       Si   \n",
              " 2  08.07.2024 06:03:00                 0                       0       Si   \n",
              " 3  09.07.2024 06:05:00                 0                       0       Si   \n",
              " 4  09.07.2024 06:13:59               NaN                     NaN       Si   \n",
              " \n",
              " 0     Event  \n",
              " 0       NaN  \n",
              " 1       NaN  \n",
              " 2       NaN  \n",
              " 3       NaN  \n",
              " 4  Cleaning  ,\n",
              " 0             DateTime Number of insects New Catches (per evento) Reviewed  \\\n",
              " 0  05.07.2024 11:31:01                 0                        0       Si   \n",
              " 1  06.07.2024 03:02:01                 0                        0       Si   \n",
              " 2  07.07.2024 03:04:01                 0                        0       Si   \n",
              " 3  08.07.2024 03:01:01                 0                        0       Si   \n",
              " 4  08.07.2024 03:10:00               NaN                      NaN       Si   \n",
              " \n",
              " 0     Event  \n",
              " 0       NaN  \n",
              " 1       NaN  \n",
              " 2       NaN  \n",
              " 3       NaN  \n",
              " 4  Cleaning  ,\n",
              " 0             DateTime Average Temperature Temperature Range   NaN  \\\n",
              " 0  30.07.2024 12:00:00               34,98              34,8  35,1   \n",
              " 1  30.07.2024 13:00:00               35,08              34,8  35,3   \n",
              " 2  30.07.2024 14:00:00               35,14              34,8  35,5   \n",
              " 3  30.07.2024 15:00:00                34,4              33,9  34,8   \n",
              " 4  30.07.2024 16:00:00               33,11              32,6    34   \n",
              " \n",
              " 0 Average Humidity  \n",
              " 0            35,38  \n",
              " 1            33,89  \n",
              " 2            33,49  \n",
              " 3            35,22  \n",
              " 4             35,3  ,\n",
              " 0             DateTime Average Temperature Temperature Range   NaN  \\\n",
              " 0  30.07.2024 17:00:00               33,64              33,5    34   \n",
              " 1  30.07.2024 18:00:00               33,25              32,9  33,5   \n",
              " 2  30.07.2024 19:00:00               32,69              30,9  33,4   \n",
              " 3  30.07.2024 20:00:00               29,39              28,2  30,5   \n",
              " 4  30.07.2024 21:00:00               27,58                27  28,1   \n",
              " \n",
              " 0 Average Humidity  \n",
              " 0            35,86  \n",
              " 1            34,76  \n",
              " 2            33,67  \n",
              " 3            38,83  \n",
              " 4            41,18  )"
            ]
          },
          "metadata": {},
          "execution_count": 57
        }
      ]
    }
  ]
}