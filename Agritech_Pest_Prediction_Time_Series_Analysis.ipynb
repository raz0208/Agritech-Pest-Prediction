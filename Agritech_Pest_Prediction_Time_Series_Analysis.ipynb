{
  "nbformat": 4,
  "nbformat_minor": 0,
  "metadata": {
    "colab": {
      "provenance": [],
      "authorship_tag": "ABX9TyMiR/brxzaB5nrNWQn74wgi",
      "include_colab_link": true
    },
    "kernelspec": {
      "name": "python3",
      "display_name": "Python 3"
    },
    "language_info": {
      "name": "python"
    }
  },
  "cells": [
    {
      "cell_type": "markdown",
      "metadata": {
        "id": "view-in-github",
        "colab_type": "text"
      },
      "source": [
        "<a href=\"https://colab.research.google.com/github/raz0208/Agritech-Pest-Prediction/blob/main/Agritech_Pest_Prediction_Time_Series_Analysis.ipynb\" target=\"_parent\"><img src=\"https://colab.research.google.com/assets/colab-badge.svg\" alt=\"Open In Colab\"/></a>"
      ]
    },
    {
      "cell_type": "markdown",
      "source": [
        "## Time Series Analysis For Agritech Pest Prediction"
      ],
      "metadata": {
        "id": "vKv2B2pZLtIJ"
      }
    },
    {
      "cell_type": "markdown",
      "source": [
        "## Model Implementation:\n",
        "- ARIMA\n",
        "- SARIMA\n",
        "- ARIMAX\n",
        "- SARIMAX"
      ],
      "metadata": {
        "id": "AduOdifqspWr"
      }
    },
    {
      "cell_type": "markdown",
      "source": [
        "## **ARIMA**"
      ],
      "metadata": {
        "id": "Su6KpgNSs0sL"
      }
    },
    {
      "cell_type": "code",
      "source": [
        "!pip install pmdarima"
      ],
      "metadata": {
        "colab": {
          "base_uri": "https://localhost:8080/"
        },
        "id": "usDhH9U9TThE",
        "outputId": "b3ca7731-e64f-4115-c3f7-8ff958b66ff0"
      },
      "execution_count": 3,
      "outputs": [
        {
          "output_type": "stream",
          "name": "stdout",
          "text": [
            "Collecting pmdarima\n",
            "  Using cached pmdarima-2.0.4-cp311-cp311-manylinux_2_17_x86_64.manylinux2014_x86_64.manylinux_2_28_x86_64.whl.metadata (7.8 kB)\n",
            "Requirement already satisfied: joblib>=0.11 in /usr/local/lib/python3.11/dist-packages (from pmdarima) (1.4.2)\n",
            "Requirement already satisfied: Cython!=0.29.18,!=0.29.31,>=0.29 in /usr/local/lib/python3.11/dist-packages (from pmdarima) (3.0.12)\n",
            "Requirement already satisfied: numpy>=1.21.2 in /usr/local/lib/python3.11/dist-packages (from pmdarima) (1.23.5)\n",
            "Requirement already satisfied: pandas>=0.19 in /usr/local/lib/python3.11/dist-packages (from pmdarima) (2.2.2)\n",
            "Requirement already satisfied: scikit-learn>=0.22 in /usr/local/lib/python3.11/dist-packages (from pmdarima) (1.6.1)\n",
            "Requirement already satisfied: scipy>=1.3.2 in /usr/local/lib/python3.11/dist-packages (from pmdarima) (1.14.1)\n",
            "Requirement already satisfied: statsmodels>=0.13.2 in /usr/local/lib/python3.11/dist-packages (from pmdarima) (0.14.4)\n",
            "Requirement already satisfied: urllib3 in /usr/local/lib/python3.11/dist-packages (from pmdarima) (2.3.0)\n",
            "Requirement already satisfied: setuptools!=50.0.0,>=38.6.0 in /usr/local/lib/python3.11/dist-packages (from pmdarima) (75.2.0)\n",
            "Requirement already satisfied: packaging>=17.1 in /usr/local/lib/python3.11/dist-packages (from pmdarima) (24.2)\n",
            "Requirement already satisfied: python-dateutil>=2.8.2 in /usr/local/lib/python3.11/dist-packages (from pandas>=0.19->pmdarima) (2.8.2)\n",
            "Requirement already satisfied: pytz>=2020.1 in /usr/local/lib/python3.11/dist-packages (from pandas>=0.19->pmdarima) (2025.2)\n",
            "Requirement already satisfied: tzdata>=2022.7 in /usr/local/lib/python3.11/dist-packages (from pandas>=0.19->pmdarima) (2025.2)\n",
            "Requirement already satisfied: threadpoolctl>=3.1.0 in /usr/local/lib/python3.11/dist-packages (from scikit-learn>=0.22->pmdarima) (3.6.0)\n",
            "Requirement already satisfied: patsy>=0.5.6 in /usr/local/lib/python3.11/dist-packages (from statsmodels>=0.13.2->pmdarima) (1.0.1)\n",
            "Requirement already satisfied: six>=1.5 in /usr/local/lib/python3.11/dist-packages (from python-dateutil>=2.8.2->pandas>=0.19->pmdarima) (1.17.0)\n",
            "Using cached pmdarima-2.0.4-cp311-cp311-manylinux_2_17_x86_64.manylinux2014_x86_64.manylinux_2_28_x86_64.whl (2.2 MB)\n",
            "Installing collected packages: pmdarima\n",
            "Successfully installed pmdarima-2.0.4\n"
          ]
        }
      ]
    },
    {
      "cell_type": "code",
      "execution_count": 5,
      "metadata": {
        "id": "IV0f-1iVBmTt"
      },
      "outputs": [],
      "source": [
        "# import required libaraies\n",
        "import pandas as pd\n",
        "import numpy as np\n",
        "import matplotlib.pyplot as plt\n",
        "import seaborn as sns\n",
        "import statsmodels.api as sm\n",
        "from statsmodels.tsa.stattools import adfuller\n",
        "from statsmodels.graphics.tsaplots import plot_acf, plot_pacf\n",
        "from pmdarima import auto_arima"
      ]
    },
    {
      "cell_type": "code",
      "source": [
        "# Load datasets\n",
        "Merged_Dataset_df = pd.read_csv('/content/Final_Merged_Dataset_Cleaned.csv')\n",
        "FeatureExtracted_df = pd.read_csv('/content/FeatureExtracted_dataset.csv')"
      ],
      "metadata": {
        "id": "vcEnegXZEubg"
      },
      "execution_count": 6,
      "outputs": []
    },
    {
      "cell_type": "code",
      "source": [
        "# Display basic info for  datasets Final_Merged_Dataset_Cleaned\n",
        "print(Merged_Dataset_df.head(), '\\n')\n",
        "print(Merged_Dataset_df.info())"
      ],
      "metadata": {
        "colab": {
          "base_uri": "https://localhost:8080/"
        },
        "id": "-6gLWRr_ixyV",
        "outputId": "670d532b-b21e-4e30-a3c8-84c4d7f908b5"
      },
      "execution_count": 7,
      "outputs": [
        {
          "output_type": "stream",
          "name": "stdout",
          "text": [
            "         Date      Time  Number of Insects  New Catches  Event   Location  \\\n",
            "0  2024-07-06  06:01:00                0.0          0.0      0  Cicalino1   \n",
            "1  2024-07-07  06:04:00                0.0          0.0      0  Cicalino1   \n",
            "2  2024-07-08  06:03:00                0.0          0.0      0  Cicalino1   \n",
            "3  2024-07-09  06:05:00                0.0          0.0      1  Cicalino1   \n",
            "4  2024-07-10  06:03:00                0.0          0.0      0  Cicalino1   \n",
            "\n",
            "   Average Temperature  Temp_low  Temp_high  Average Humidity  Day Avg_temp  \\\n",
            "0                13.91      13.6       14.4             97.65         22.34   \n",
            "1                20.78      20.1       21.2             83.49         23.52   \n",
            "2                19.03      18.7       19.5             96.87         25.67   \n",
            "3                15.33      15.0       15.7             82.29         25.87   \n",
            "4                15.48      15.0       16.0             87.12         26.41   \n",
            "\n",
            "   Day Min_temp  Day Max_temp  Day Avg_Humidity  Temp_change  \n",
            "0          13.6          30.6             72.25         17.0  \n",
            "1          18.7          30.2             76.73         11.5  \n",
            "2          18.3          33.9             69.14         15.6  \n",
            "3          15.0          36.0             53.65         21.0  \n",
            "4          15.0          36.2             58.94         21.2   \n",
            "\n",
            "<class 'pandas.core.frame.DataFrame'>\n",
            "RangeIndex: 153 entries, 0 to 152\n",
            "Data columns (total 15 columns):\n",
            " #   Column               Non-Null Count  Dtype  \n",
            "---  ------               --------------  -----  \n",
            " 0   Date                 153 non-null    object \n",
            " 1   Time                 153 non-null    object \n",
            " 2   Number of Insects    153 non-null    float64\n",
            " 3   New Catches          153 non-null    float64\n",
            " 4   Event                153 non-null    int64  \n",
            " 5   Location             153 non-null    object \n",
            " 6   Average Temperature  153 non-null    float64\n",
            " 7   Temp_low             153 non-null    float64\n",
            " 8   Temp_high            153 non-null    float64\n",
            " 9   Average Humidity     153 non-null    float64\n",
            " 10  Day Avg_temp         153 non-null    float64\n",
            " 11  Day Min_temp         153 non-null    float64\n",
            " 12  Day Max_temp         153 non-null    float64\n",
            " 13  Day Avg_Humidity     153 non-null    float64\n",
            " 14  Temp_change          153 non-null    float64\n",
            "dtypes: float64(11), int64(1), object(3)\n",
            "memory usage: 18.1+ KB\n",
            "None\n"
          ]
        }
      ]
    },
    {
      "cell_type": "code",
      "source": [
        "# Display basic info for  datasets FeatureExtracted_dataset\n",
        "print(FeatureExtracted_df.head(), '\\n')\n",
        "print(FeatureExtracted_df.info())"
      ],
      "metadata": {
        "colab": {
          "base_uri": "https://localhost:8080/"
        },
        "id": "4xgniYp9jlSb",
        "outputId": "48b03c39-ffa5-48bd-ca58-ec0ebde7c792"
      },
      "execution_count": 8,
      "outputs": [
        {
          "output_type": "stream",
          "name": "stdout",
          "text": [
            "         Date      Time  Number of Insects  New Catches  Event   Location  \\\n",
            "0  2024-07-06  06:01:00                0.0          0.0      0  Cicalino1   \n",
            "1  2024-07-07  06:04:00                0.0          0.0      0  Cicalino1   \n",
            "2  2024-07-08  06:03:00                0.0          0.0      0  Cicalino1   \n",
            "3  2024-07-09  06:05:00                0.0          0.0      1  Cicalino1   \n",
            "4  2024-07-10  06:03:00                0.0          0.0      0  Cicalino1   \n",
            "\n",
            "   Average Temperature  Temp_low  Temp_high  Average Humidity  ...  \\\n",
            "0                13.91      13.6       14.4             97.65  ...   \n",
            "1                20.78      20.1       21.2             83.49  ...   \n",
            "2                19.03      18.7       19.5             96.87  ...   \n",
            "3                15.33      15.0       15.7             82.29  ...   \n",
            "4                15.48      15.0       16.0             87.12  ...   \n",
            "\n",
            "   Day Max_temp  Day Avg_Humidity  Temp_change  Year  Month  Day  Weekday  \\\n",
            "0          30.6             72.25         17.0  2024      7    6        5   \n",
            "1          30.2             76.73         11.5  2024      7    7        6   \n",
            "2          33.9             69.14         15.6  2024      7    8        0   \n",
            "3          36.0             53.65         21.0  2024      7    9        1   \n",
            "4          36.2             58.94         21.2  2024      7   10        2   \n",
            "\n",
            "   Lag_1  Lag_2  Lag_3  \n",
            "0    0.0    0.0    0.0  \n",
            "1    0.0    0.0    0.0  \n",
            "2    0.0    0.0    0.0  \n",
            "3    0.0    0.0    0.0  \n",
            "4    0.0    0.0    0.0  \n",
            "\n",
            "[5 rows x 22 columns] \n",
            "\n",
            "<class 'pandas.core.frame.DataFrame'>\n",
            "RangeIndex: 153 entries, 0 to 152\n",
            "Data columns (total 22 columns):\n",
            " #   Column               Non-Null Count  Dtype  \n",
            "---  ------               --------------  -----  \n",
            " 0   Date                 153 non-null    object \n",
            " 1   Time                 153 non-null    object \n",
            " 2   Number of Insects    153 non-null    float64\n",
            " 3   New Catches          153 non-null    float64\n",
            " 4   Event                153 non-null    int64  \n",
            " 5   Location             153 non-null    object \n",
            " 6   Average Temperature  153 non-null    float64\n",
            " 7   Temp_low             153 non-null    float64\n",
            " 8   Temp_high            153 non-null    float64\n",
            " 9   Average Humidity     153 non-null    float64\n",
            " 10  Day Avg_temp         153 non-null    float64\n",
            " 11  Day Min_temp         153 non-null    float64\n",
            " 12  Day Max_temp         153 non-null    float64\n",
            " 13  Day Avg_Humidity     153 non-null    float64\n",
            " 14  Temp_change          153 non-null    float64\n",
            " 15  Year                 153 non-null    int64  \n",
            " 16  Month                153 non-null    int64  \n",
            " 17  Day                  153 non-null    int64  \n",
            " 18  Weekday              153 non-null    int64  \n",
            " 19  Lag_1                153 non-null    float64\n",
            " 20  Lag_2                153 non-null    float64\n",
            " 21  Lag_3                153 non-null    float64\n",
            "dtypes: float64(14), int64(5), object(3)\n",
            "memory usage: 26.4+ KB\n",
            "None\n"
          ]
        }
      ]
    },
    {
      "cell_type": "code",
      "source": [
        "##---## Final_Merged_Dataset_Cleaned ##---##\n",
        "\n",
        "# Convert 'Date' column to datetime format\n",
        "Merged_Dataset_df['Date'] = pd.to_datetime(Merged_Dataset_df['Date'])\n",
        "\n",
        "# Sort dataset by 'Date'\n",
        "Merged_Dataset_df = Merged_Dataset_df.sort_values(by='Date')\n",
        "\n",
        "# Display the first few rows after conversion and sorting\n",
        "print(Merged_Dataset_df.head())"
      ],
      "metadata": {
        "colab": {
          "base_uri": "https://localhost:8080/"
        },
        "id": "DBz4NTeSGlHP",
        "outputId": "092af7ec-d148-4f38-9ff2-228dde163dd6"
      },
      "execution_count": 9,
      "outputs": [
        {
          "output_type": "stream",
          "name": "stdout",
          "text": [
            "         Date      Time  Number of Insects  New Catches  Event   Location  \\\n",
            "49 2024-07-05  11:31:01                0.0          0.0      0  Cicalino2   \n",
            "0  2024-07-06  06:01:00                0.0          0.0      0  Cicalino1   \n",
            "50 2024-07-06  03:02:01                0.0          0.0      0  Cicalino2   \n",
            "51 2024-07-07  03:04:01                0.0          0.0      0  Cicalino2   \n",
            "1  2024-07-07  06:04:00                0.0          0.0      0  Cicalino1   \n",
            "\n",
            "    Average Temperature  Temp_low  Temp_high  Average Humidity  Day Avg_temp  \\\n",
            "49               16.690     16.30       17.0            89.480        27.140   \n",
            "0                13.910     13.60       14.4            97.650        22.340   \n",
            "50               19.135     18.75       19.4            86.480        27.295   \n",
            "51               18.845     18.50       19.1            85.265        28.575   \n",
            "1                20.780     20.10       21.2            83.490        23.520   \n",
            "\n",
            "    Day Min_temp  Day Max_temp  Day Avg_Humidity  Temp_change  \n",
            "49         15.70         38.00            56.960        22.30  \n",
            "0          13.60         30.60            72.250        17.00  \n",
            "50         18.55         37.80            62.530        19.25  \n",
            "51         17.85         39.25            56.625        21.40  \n",
            "1          18.70         30.20            76.730        11.50  \n"
          ]
        }
      ]
    },
    {
      "cell_type": "code",
      "source": [
        "# set 'Date' column as index\n",
        "Merged_Dataset_df.set_index('Date', inplace=True)\n",
        "\n",
        "# Select the target variable for ARIMA\n",
        "target_variable = 'Number of Insects'\n",
        "\n",
        "# Plot time series\n",
        "plt.figure(figsize=(10, 5))\n",
        "plt.plot(Merged_Dataset_df[target_variable], label='Number of Insects')\n",
        "plt.title('Time Series of Number of Insects')\n",
        "plt.xlabel('Date')\n",
        "plt.ylabel('Count')\n",
        "plt.legend()\n",
        "plt.show()"
      ],
      "metadata": {
        "colab": {
          "base_uri": "https://localhost:8080/",
          "height": 487
        },
        "id": "FHRouu-dM2PM",
        "outputId": "f7b9a556-5da9-434f-c15f-5aa73f7af26f"
      },
      "execution_count": 10,
      "outputs": [
        {
          "output_type": "display_data",
          "data": {
            "text/plain": [
              "<Figure size 1000x500 with 1 Axes>"
            ],
            "image/png": "[encoded data removed]"
          },
          "metadata": {}
        }
      ]
    },
    {
      "cell_type": "code",
      "source": [
        "# Check for Stationarity using ADF Test\n",
        "def adf_test(series):\n",
        "    result = adfuller(series.dropna())\n",
        "    print(\"ADF Statistic:\", result[0])\n",
        "    print(\"p-value:\", result[1])\n",
        "    print(\"Critical Values:\", result[4])\n",
        "    if result[1] <= 0.05:\n",
        "        print(\"The series is stationary.\")\n",
        "    else:\n",
        "        print(\"The series is NOT stationary.\")\n",
        "\n",
        "print(\"\\n--- ADF Test Results ---\")\n",
        "adf_test(Merged_Dataset_df[target_variable])"
      ],
      "metadata": {
        "colab": {
          "base_uri": "https://localhost:8080/"
        },
        "id": "_WwIxaRyNULV",
        "outputId": "c57122c6-f315-4ff7-8daf-50a3d26760b2"
      },
      "execution_count": 12,
      "outputs": [
        {
          "output_type": "stream",
          "name": "stdout",
          "text": [
            "\n",
            "--- ADF Test Results ---\n",
            "ADF Statistic: -0.8081696639782773\n",
            "p-value: 0.8167105034754409\n",
            "Critical Values: {'1%': -3.4776006742422374, '5%': -2.882265832283648, '10%': -2.5778219289774156}\n",
            "The series is NOT stationary.\n"
          ]
        }
      ]
    },
    {
      "cell_type": "code",
      "source": [
        "##---## FeatureExtracted_dataset ##---##\n",
        "\n",
        "# Convert 'Date' column to datetime format\n",
        "FeatureExtracted_df['Date'] = pd.to_datetime(FeatureExtracted_df['Date'])\n",
        "\n",
        "# Sort dataset by 'Date'\n",
        "FeatureExtracted_df = FeatureExtracted_df.sort_values(by='Date')\n",
        "\n",
        "# Display the first few rows after conversion and sorting\n",
        "print(FeatureExtracted_df.head())"
      ],
      "metadata": {
        "colab": {
          "base_uri": "https://localhost:8080/"
        },
        "id": "N1JnEuf_JGk9",
        "outputId": "46a87d4b-3041-48e9-8341-c46510b9ba2f"
      },
      "execution_count": 8,
      "outputs": [
        {
          "output_type": "stream",
          "name": "stdout",
          "text": [
            "         Date      Time  Number of Insects  New Catches  Event   Location  \\\n",
            "49 2024-07-05  11:31:01                0.0          0.0      0  Cicalino2   \n",
            "0  2024-07-06  06:01:00                0.0          0.0      0  Cicalino1   \n",
            "50 2024-07-06  03:02:01                0.0          0.0      0  Cicalino2   \n",
            "51 2024-07-07  03:04:01                0.0          0.0      0  Cicalino2   \n",
            "1  2024-07-07  06:04:00                0.0          0.0      0  Cicalino1   \n",
            "\n",
            "    Average Temperature  Temp_low  Temp_high  Average Humidity  ...  \\\n",
            "49               16.690     16.30       17.0            89.480  ...   \n",
            "0                13.910     13.60       14.4            97.650  ...   \n",
            "50               19.135     18.75       19.4            86.480  ...   \n",
            "51               18.845     18.50       19.1            85.265  ...   \n",
            "1                20.780     20.10       21.2            83.490  ...   \n",
            "\n",
            "    Day Max_temp  Day Avg_Humidity  Temp_change  Year  Month  Day  Weekday  \\\n",
            "49         38.00            56.960        22.30  2024      7    5        4   \n",
            "0          30.60            72.250        17.00  2024      7    6        5   \n",
            "50         37.80            62.530        19.25  2024      7    6        5   \n",
            "51         39.25            56.625        21.40  2024      7    7        6   \n",
            "1          30.20            76.730        11.50  2024      7    7        6   \n",
            "\n",
            "    Lag_1  Lag_2  Lag_3  \n",
            "49    0.0    0.0    0.0  \n",
            "0     0.0    0.0    0.0  \n",
            "50    0.0    0.0    0.0  \n",
            "51    0.0    0.0    0.0  \n",
            "1     0.0    0.0    0.0  \n",
            "\n",
            "[5 rows x 22 columns]\n"
          ]
        }
      ]
    }
  ]
}