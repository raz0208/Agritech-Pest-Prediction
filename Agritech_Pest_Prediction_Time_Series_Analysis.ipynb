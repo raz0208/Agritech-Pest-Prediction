{
  "nbformat": 4,
  "nbformat_minor": 0,
  "metadata": {
    "colab": {
      "provenance": [],
      "authorship_tag": "ABX9TyMXV5UO9wu6jyILCQpy4s4C",
      "include_colab_link": true
    },
    "kernelspec": {
      "name": "python3",
      "display_name": "Python 3"
    },
    "language_info": {
      "name": "python"
    }
  },
  "cells": [
    {
      "cell_type": "markdown",
      "metadata": {
        "id": "view-in-github",
        "colab_type": "text"
      },
      "source": [
        "<a href=\"https://colab.research.google.com/github/raz0208/Agritech-Pest-Prediction/blob/main/Agritech_Pest_Prediction_Time_Series_Analysis.ipynb\" target=\"_parent\"><img src=\"https://colab.research.google.com/assets/colab-badge.svg\" alt=\"Open In Colab\"/></a>"
      ]
    },
    {
      "cell_type": "markdown",
      "source": [
        "## Time Series Analysis For Agritech Pest Prediction"
      ],
      "metadata": {
        "id": "vKv2B2pZLtIJ"
      }
    },
    {
      "cell_type": "markdown",
      "source": [
        "## Model Implementation:\n",
        "- ARIMA\n",
        "- SARIMA\n",
        "- ARIMAX\n",
        "- SARIMAX"
      ],
      "metadata": {
        "id": "AduOdifqspWr"
      }
    },
    {
      "cell_type": "markdown",
      "source": [
        "## **ARIMA**"
      ],
      "metadata": {
        "id": "Su6KpgNSs0sL"
      }
    },
    {
      "cell_type": "code",
      "source": [
        "# # Uninstall potentially conflicting versions first\n",
        "# !pip uninstall -y pmdarima numpy\n",
        "\n",
        "# # Install the latest NumPy 1.x version (e.g., 1.26.4)\n",
        "# !pip install numpy==1.26.4\n",
        "\n",
        "# # Now install pmdarima (hopefully it links against NumPy 1.26.4)\n",
        "# # Use --no-cache-dir just to be safe\n",
        "# !pip install --no-cache-dir pmdarima==2.0.4"
      ],
      "metadata": {
        "id": "Isq0N3PoZns9"
      },
      "execution_count": 1,
      "outputs": []
    },
    {
      "cell_type": "code",
      "execution_count": 2,
      "metadata": {
        "id": "IV0f-1iVBmTt"
      },
      "outputs": [],
      "source": [
        "# import required libaraies\n",
        "import pandas as pd\n",
        "import numpy as np\n",
        "import matplotlib.pyplot as plt\n",
        "import seaborn as sns\n",
        "import statsmodels.api as sm\n",
        "from statsmodels.tsa.stattools import adfuller\n",
        "from statsmodels.graphics.tsaplots import plot_acf, plot_pacf\n",
        "from pmdarima import auto_arima"
      ]
    },
    {
      "cell_type": "code",
      "source": [
        "# Load datasets\n",
        "Merged_Dataset_df = pd.read_csv('/content/Final_Merged_Dataset_Cleaned.csv')\n",
        "FeatureExtracted_df = pd.read_csv('/content/FeatureExtracted_dataset.csv')"
      ],
      "metadata": {
        "id": "vcEnegXZEubg"
      },
      "execution_count": 64,
      "outputs": []
    },
    {
      "cell_type": "code",
      "source": [
        "# Display basic info for  datasets Final_Merged_Dataset_Cleaned\n",
        "print(Merged_Dataset_df.head(), '\\n')\n",
        "print(Merged_Dataset_df.info())"
      ],
      "metadata": {
        "id": "-6gLWRr_ixyV",
        "colab": {
          "base_uri": "https://localhost:8080/"
        },
        "outputId": "03e1af4f-31b6-4f98-a0a7-6b3f52e4f635"
      },
      "execution_count": 65,
      "outputs": [
        {
          "output_type": "stream",
          "name": "stdout",
          "text": [
            "         Date      Time  Number of Insects  New Catches  Event   Location  \\\n",
            "0  2024-07-06  06:01:00                0.0          0.0      0  Cicalino1   \n",
            "1  2024-07-07  06:04:00                0.0          0.0      0  Cicalino1   \n",
            "2  2024-07-08  06:03:00                0.0          0.0      0  Cicalino1   \n",
            "3  2024-07-09  06:05:00                0.0          0.0      1  Cicalino1   \n",
            "4  2024-07-10  06:03:00                0.0          0.0      0  Cicalino1   \n",
            "\n",
            "   Average Temperature  Temp_low  Temp_high  Average Humidity  Day Avg_temp  \\\n",
            "0                13.91      13.6       14.4             97.65         22.34   \n",
            "1                20.78      20.1       21.2             83.49         23.52   \n",
            "2                19.03      18.7       19.5             96.87         25.67   \n",
            "3                15.33      15.0       15.7             82.29         25.87   \n",
            "4                15.48      15.0       16.0             87.12         26.41   \n",
            "\n",
            "   Day Min_temp  Day Max_temp  Day Avg_Humidity  Temp_change  \n",
            "0          13.6          30.6             72.25         17.0  \n",
            "1          18.7          30.2             76.73         11.5  \n",
            "2          18.3          33.9             69.14         15.6  \n",
            "3          15.0          36.0             53.65         21.0  \n",
            "4          15.0          36.2             58.94         21.2   \n",
            "\n",
            "<class 'pandas.core.frame.DataFrame'>\n",
            "RangeIndex: 153 entries, 0 to 152\n",
            "Data columns (total 15 columns):\n",
            " #   Column               Non-Null Count  Dtype  \n",
            "---  ------               --------------  -----  \n",
            " 0   Date                 153 non-null    object \n",
            " 1   Time                 153 non-null    object \n",
            " 2   Number of Insects    153 non-null    float64\n",
            " 3   New Catches          153 non-null    float64\n",
            " 4   Event                153 non-null    int64  \n",
            " 5   Location             153 non-null    object \n",
            " 6   Average Temperature  153 non-null    float64\n",
            " 7   Temp_low             153 non-null    float64\n",
            " 8   Temp_high            153 non-null    float64\n",
            " 9   Average Humidity     153 non-null    float64\n",
            " 10  Day Avg_temp         153 non-null    float64\n",
            " 11  Day Min_temp         153 non-null    float64\n",
            " 12  Day Max_temp         153 non-null    float64\n",
            " 13  Day Avg_Humidity     153 non-null    float64\n",
            " 14  Temp_change          153 non-null    float64\n",
            "dtypes: float64(11), int64(1), object(3)\n",
            "memory usage: 18.1+ KB\n",
            "None\n"
          ]
        }
      ]
    },
    {
      "cell_type": "code",
      "source": [
        "# Display basic info for  datasets FeatureExtracted_dataset\n",
        "print(FeatureExtracted_df.head(), '\\n')\n",
        "print(FeatureExtracted_df.info())"
      ],
      "metadata": {
        "id": "4xgniYp9jlSb",
        "colab": {
          "base_uri": "https://localhost:8080/"
        },
        "outputId": "c3d3a0b6-4e2a-498d-edd7-4ec5884a9156"
      },
      "execution_count": 66,
      "outputs": [
        {
          "output_type": "stream",
          "name": "stdout",
          "text": [
            "         Date      Time  Number of Insects  New Catches  Event   Location  \\\n",
            "0  2024-07-06  06:01:00                0.0          0.0      0  Cicalino1   \n",
            "1  2024-07-07  06:04:00                0.0          0.0      0  Cicalino1   \n",
            "2  2024-07-08  06:03:00                0.0          0.0      0  Cicalino1   \n",
            "3  2024-07-09  06:05:00                0.0          0.0      1  Cicalino1   \n",
            "4  2024-07-10  06:03:00                0.0          0.0      0  Cicalino1   \n",
            "\n",
            "   Average Temperature  Temp_low  Temp_high  Average Humidity  ...  \\\n",
            "0                13.91      13.6       14.4             97.65  ...   \n",
            "1                20.78      20.1       21.2             83.49  ...   \n",
            "2                19.03      18.7       19.5             96.87  ...   \n",
            "3                15.33      15.0       15.7             82.29  ...   \n",
            "4                15.48      15.0       16.0             87.12  ...   \n",
            "\n",
            "   Day Max_temp  Day Avg_Humidity  Temp_change  Year  Month  Day  Weekday  \\\n",
            "0          30.6             72.25         17.0  2024      7    6        5   \n",
            "1          30.2             76.73         11.5  2024      7    7        6   \n",
            "2          33.9             69.14         15.6  2024      7    8        0   \n",
            "3          36.0             53.65         21.0  2024      7    9        1   \n",
            "4          36.2             58.94         21.2  2024      7   10        2   \n",
            "\n",
            "   Lag_1  Lag_2  Lag_3  \n",
            "0    0.0    0.0    0.0  \n",
            "1    0.0    0.0    0.0  \n",
            "2    0.0    0.0    0.0  \n",
            "3    0.0    0.0    0.0  \n",
            "4    0.0    0.0    0.0  \n",
            "\n",
            "[5 rows x 22 columns] \n",
            "\n",
            "<class 'pandas.core.frame.DataFrame'>\n",
            "RangeIndex: 153 entries, 0 to 152\n",
            "Data columns (total 22 columns):\n",
            " #   Column               Non-Null Count  Dtype  \n",
            "---  ------               --------------  -----  \n",
            " 0   Date                 153 non-null    object \n",
            " 1   Time                 153 non-null    object \n",
            " 2   Number of Insects    153 non-null    float64\n",
            " 3   New Catches          153 non-null    float64\n",
            " 4   Event                153 non-null    int64  \n",
            " 5   Location             153 non-null    object \n",
            " 6   Average Temperature  153 non-null    float64\n",
            " 7   Temp_low             153 non-null    float64\n",
            " 8   Temp_high            153 non-null    float64\n",
            " 9   Average Humidity     153 non-null    float64\n",
            " 10  Day Avg_temp         153 non-null    float64\n",
            " 11  Day Min_temp         153 non-null    float64\n",
            " 12  Day Max_temp         153 non-null    float64\n",
            " 13  Day Avg_Humidity     153 non-null    float64\n",
            " 14  Temp_change          153 non-null    float64\n",
            " 15  Year                 153 non-null    int64  \n",
            " 16  Month                153 non-null    int64  \n",
            " 17  Day                  153 non-null    int64  \n",
            " 18  Weekday              153 non-null    int64  \n",
            " 19  Lag_1                153 non-null    float64\n",
            " 20  Lag_2                153 non-null    float64\n",
            " 21  Lag_3                153 non-null    float64\n",
            "dtypes: float64(14), int64(5), object(3)\n",
            "memory usage: 26.4+ KB\n",
            "None\n"
          ]
        }
      ]
    },
    {
      "cell_type": "code",
      "source": [
        "##---## Final_Merged_Dataset_Cleaned ##---##\n",
        "\n",
        "# Convert 'Date' column to datetime format\n",
        "Merged_Dataset_df['Date'] = pd.to_datetime(Merged_Dataset_df['Date'])\n",
        "\n",
        "# Sort dataset by 'Date'\n",
        "Merged_Dataset_df = Merged_Dataset_df.sort_values(by='Date')\n",
        "\n",
        "# Display the first few rows after conversion and sorting\n",
        "print(Merged_Dataset_df.head())"
      ],
      "metadata": {
        "id": "DBz4NTeSGlHP",
        "colab": {
          "base_uri": "https://localhost:8080/"
        },
        "outputId": "e00fa92e-37b1-4f0a-bc78-1d8db6b17ea1"
      },
      "execution_count": 59,
      "outputs": [
        {
          "output_type": "stream",
          "name": "stdout",
          "text": [
            "         Date      Time  Number of Insects  New Catches  Event   Location  \\\n",
            "49 2024-07-05  11:31:01                0.0          0.0      0  Cicalino2   \n",
            "0  2024-07-06  06:01:00                0.0          0.0      0  Cicalino1   \n",
            "50 2024-07-06  03:02:01                0.0          0.0      0  Cicalino2   \n",
            "51 2024-07-07  03:04:01                0.0          0.0      0  Cicalino2   \n",
            "1  2024-07-07  06:04:00                0.0          0.0      0  Cicalino1   \n",
            "\n",
            "    Average Temperature  Temp_low  Temp_high  Average Humidity  Day Avg_temp  \\\n",
            "49               16.690     16.30       17.0            89.480        27.140   \n",
            "0                13.910     13.60       14.4            97.650        22.340   \n",
            "50               19.135     18.75       19.4            86.480        27.295   \n",
            "51               18.845     18.50       19.1            85.265        28.575   \n",
            "1                20.780     20.10       21.2            83.490        23.520   \n",
            "\n",
            "    Day Min_temp  Day Max_temp  Day Avg_Humidity  Temp_change  \n",
            "49         15.70         38.00            56.960        22.30  \n",
            "0          13.60         30.60            72.250        17.00  \n",
            "50         18.55         37.80            62.530        19.25  \n",
            "51         17.85         39.25            56.625        21.40  \n",
            "1          18.70         30.20            76.730        11.50  \n"
          ]
        }
      ]
    }
  ]
}