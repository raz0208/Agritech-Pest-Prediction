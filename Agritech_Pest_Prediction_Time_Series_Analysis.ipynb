{
  "nbformat": 4,
  "nbformat_minor": 0,
  "metadata": {
    "colab": {
      "provenance": [],
      "authorship_tag": "ABX9TyNB6sx6e9VeMd4fAYObe9QE",
      "include_colab_link": true
    },
    "kernelspec": {
      "name": "python3",
      "display_name": "Python 3"
    },
    "language_info": {
      "name": "python"
    }
  },
  "cells": [
    {
      "cell_type": "markdown",
      "metadata": {
        "id": "view-in-github",
        "colab_type": "text"
      },
      "source": [
        "<a href=\"https://colab.research.google.com/github/raz0208/Agritech-Pest-Prediction/blob/main/Agritech_Pest_Prediction_Time_Series_Analysis.ipynb\" target=\"_parent\"><img src=\"https://colab.research.google.com/assets/colab-badge.svg\" alt=\"Open In Colab\"/></a>"
      ]
    },
    {
      "cell_type": "markdown",
      "source": [
        "## Time Series Analysis For Agritech Pest Prediction"
      ],
      "metadata": {
        "id": "vKv2B2pZLtIJ"
      }
    },
    {
      "cell_type": "markdown",
      "source": [
        "## Model Implementation:\n",
        "- ARIMA\n",
        "- SARIMA\n",
        "- ARIMAX\n",
        "- SARIMAX"
      ],
      "metadata": {
        "id": "AduOdifqspWr"
      }
    },
    {
      "cell_type": "markdown",
      "source": [
        "## **ARIMA**"
      ],
      "metadata": {
        "id": "Su6KpgNSs0sL"
      }
    },
    {
      "cell_type": "code",
      "source": [
        "# # Uninstall potentially conflicting versions first\n",
        "# !pip uninstall -y pmdarima numpy\n",
        "\n",
        "# # Install the latest NumPy 1.x version (e.g., 1.26.4)\n",
        "# !pip install numpy==1.26.4\n",
        "\n",
        "# # Now install pmdarima (hopefully it links against NumPy 1.26.4)\n",
        "# # Use --no-cache-dir just to be safe\n",
        "# !pip install --no-cache-dir pmdarima==2.0.4"
      ],
      "metadata": {
        "id": "Isq0N3PoZns9"
      },
      "execution_count": 3,
      "outputs": []
    },
    {
      "cell_type": "code",
      "execution_count": 4,
      "metadata": {
        "id": "IV0f-1iVBmTt"
      },
      "outputs": [],
      "source": [
        "# import required libaraies\n",
        "import pandas as pd\n",
        "import numpy as np\n",
        "import matplotlib.pyplot as plt\n",
        "import seaborn as sns\n",
        "import statsmodels.api as sm\n",
        "from statsmodels.tsa.stattools import adfuller\n",
        "from statsmodels.graphics.tsaplots import plot_acf, plot_pacf\n",
        "from pmdarima import auto_arima"
      ]
    },
    {
      "cell_type": "code",
      "source": [
        "# Load datasets\n",
        "Merged_Dataset_df = pd.read_csv('/content/Final_Merged_Dataset_Cleaned.csv')\n",
        "FeatureExtracted_df = pd.read_csv('/content/FeatureExtracted_dataset.csv')"
      ],
      "metadata": {
        "id": "vcEnegXZEubg"
      },
      "execution_count": 12,
      "outputs": []
    },
    {
      "cell_type": "code",
      "source": [
        "# Display basic info for  datasets Final_Merged_Dataset_Cleaned\n",
        "print(Merged_Dataset_df.head(), '\\n')\n",
        "print(Merged_Dataset_df.info())"
      ],
      "metadata": {
        "id": "-6gLWRr_ixyV",
        "colab": {
          "base_uri": "https://localhost:8080/"
        },
        "outputId": "41cff1cd-7441-492b-f076-8b4807712fae"
      },
      "execution_count": 13,
      "outputs": [
        {
          "output_type": "stream",
          "name": "stdout",
          "text": [
            "         Date      Time  Number of Insects  New Catches  Event   Location  \\\n",
            "0  2024-07-06  06:01:00                0.0          0.0      0  Cicalino1   \n",
            "1  2024-07-07  06:04:00                0.0          0.0      0  Cicalino1   \n",
            "2  2024-07-08  06:03:00                0.0          0.0      0  Cicalino1   \n",
            "3  2024-07-09  06:05:00                0.0          0.0      1  Cicalino1   \n",
            "4  2024-07-10  06:03:00                0.0          0.0      0  Cicalino1   \n",
            "\n",
            "   Average Temperature  Temp_low  Temp_high  Average Humidity  Day Avg_temp  \\\n",
            "0                13.91      13.6       14.4             97.65         22.34   \n",
            "1                20.78      20.1       21.2             83.49         23.52   \n",
            "2                19.03      18.7       19.5             96.87         25.67   \n",
            "3                15.33      15.0       15.7             82.29         25.87   \n",
            "4                15.48      15.0       16.0             87.12         26.41   \n",
            "\n",
            "   Day Min_temp  Day Max_temp  Day Avg_Humidity  Temp_change  \n",
            "0          13.6          30.6             72.25         17.0  \n",
            "1          18.7          30.2             76.73         11.5  \n",
            "2          18.3          33.9             69.14         15.6  \n",
            "3          15.0          36.0             53.65         21.0  \n",
            "4          15.0          36.2             58.94         21.2   \n",
            "\n",
            "<class 'pandas.core.frame.DataFrame'>\n",
            "RangeIndex: 153 entries, 0 to 152\n",
            "Data columns (total 15 columns):\n",
            " #   Column               Non-Null Count  Dtype  \n",
            "---  ------               --------------  -----  \n",
            " 0   Date                 153 non-null    object \n",
            " 1   Time                 153 non-null    object \n",
            " 2   Number of Insects    153 non-null    float64\n",
            " 3   New Catches          153 non-null    float64\n",
            " 4   Event                153 non-null    int64  \n",
            " 5   Location             153 non-null    object \n",
            " 6   Average Temperature  153 non-null    float64\n",
            " 7   Temp_low             153 non-null    float64\n",
            " 8   Temp_high            153 non-null    float64\n",
            " 9   Average Humidity     153 non-null    float64\n",
            " 10  Day Avg_temp         153 non-null    float64\n",
            " 11  Day Min_temp         153 non-null    float64\n",
            " 12  Day Max_temp         153 non-null    float64\n",
            " 13  Day Avg_Humidity     153 non-null    float64\n",
            " 14  Temp_change          153 non-null    float64\n",
            "dtypes: float64(11), int64(1), object(3)\n",
            "memory usage: 18.1+ KB\n",
            "None\n"
          ]
        }
      ]
    },
    {
      "cell_type": "code",
      "source": [
        "# Display basic info for  datasets FeatureExtracted_dataset\n",
        "print(FeatureExtracted_df.head(), '\\n')\n",
        "print(FeatureExtracted_df.info())"
      ],
      "metadata": {
        "id": "4xgniYp9jlSb",
        "colab": {
          "base_uri": "https://localhost:8080/"
        },
        "outputId": "f25e2dbd-7038-4eef-f949-134b794228bf"
      },
      "execution_count": 7,
      "outputs": [
        {
          "output_type": "stream",
          "name": "stdout",
          "text": [
            "         Date      Time  Number of Insects  New Catches  Event   Location  \\\n",
            "0  2024-07-06  06:01:00                0.0          0.0      0  Cicalino1   \n",
            "1  2024-07-07  06:04:00                0.0          0.0      0  Cicalino1   \n",
            "2  2024-07-08  06:03:00                0.0          0.0      0  Cicalino1   \n",
            "3  2024-07-09  06:05:00                0.0          0.0      1  Cicalino1   \n",
            "4  2024-07-10  06:03:00                0.0          0.0      0  Cicalino1   \n",
            "\n",
            "   Average Temperature  Temp_low  Temp_high  Average Humidity  ...  \\\n",
            "0                13.91      13.6       14.4             97.65  ...   \n",
            "1                20.78      20.1       21.2             83.49  ...   \n",
            "2                19.03      18.7       19.5             96.87  ...   \n",
            "3                15.33      15.0       15.7             82.29  ...   \n",
            "4                15.48      15.0       16.0             87.12  ...   \n",
            "\n",
            "   Day Max_temp  Day Avg_Humidity  Temp_change  Year  Month  Day  Weekday  \\\n",
            "0          30.6             72.25         17.0  2024      7    6        5   \n",
            "1          30.2             76.73         11.5  2024      7    7        6   \n",
            "2          33.9             69.14         15.6  2024      7    8        0   \n",
            "3          36.0             53.65         21.0  2024      7    9        1   \n",
            "4          36.2             58.94         21.2  2024      7   10        2   \n",
            "\n",
            "   Lag_1  Lag_2  Lag_3  \n",
            "0    0.0    0.0    0.0  \n",
            "1    0.0    0.0    0.0  \n",
            "2    0.0    0.0    0.0  \n",
            "3    0.0    0.0    0.0  \n",
            "4    0.0    0.0    0.0  \n",
            "\n",
            "[5 rows x 22 columns] \n",
            "\n",
            "<class 'pandas.core.frame.DataFrame'>\n",
            "RangeIndex: 153 entries, 0 to 152\n",
            "Data columns (total 22 columns):\n",
            " #   Column               Non-Null Count  Dtype  \n",
            "---  ------               --------------  -----  \n",
            " 0   Date                 153 non-null    object \n",
            " 1   Time                 153 non-null    object \n",
            " 2   Number of Insects    153 non-null    float64\n",
            " 3   New Catches          153 non-null    float64\n",
            " 4   Event                153 non-null    int64  \n",
            " 5   Location             153 non-null    object \n",
            " 6   Average Temperature  153 non-null    float64\n",
            " 7   Temp_low             153 non-null    float64\n",
            " 8   Temp_high            153 non-null    float64\n",
            " 9   Average Humidity     153 non-null    float64\n",
            " 10  Day Avg_temp         153 non-null    float64\n",
            " 11  Day Min_temp         153 non-null    float64\n",
            " 12  Day Max_temp         153 non-null    float64\n",
            " 13  Day Avg_Humidity     153 non-null    float64\n",
            " 14  Temp_change          153 non-null    float64\n",
            " 15  Year                 153 non-null    int64  \n",
            " 16  Month                153 non-null    int64  \n",
            " 17  Day                  153 non-null    int64  \n",
            " 18  Weekday              153 non-null    int64  \n",
            " 19  Lag_1                153 non-null    float64\n",
            " 20  Lag_2                153 non-null    float64\n",
            " 21  Lag_3                153 non-null    float64\n",
            "dtypes: float64(14), int64(5), object(3)\n",
            "memory usage: 26.4+ KB\n",
            "None\n"
          ]
        }
      ]
    },
    {
      "cell_type": "code",
      "source": [
        "##---## Final_Merged_Dataset_Cleaned ##---##\n",
        "\n",
        "# Convert 'Date' column to datetime format\n",
        "Merged_Dataset_df['Date'] = pd.to_datetime(Merged_Dataset_df['Date'])\n",
        "\n",
        "# Set Date column as index\n",
        "Merged_Dataset_df.set_index('Date', inplace=True)"
      ],
      "metadata": {
        "id": "DBz4NTeSGlHP"
      },
      "execution_count": 14,
      "outputs": []
    },
    {
      "cell_type": "code",
      "source": [
        "# Drop redundant columns for time series modeling\n",
        "DateAgg_df = Merged_Dataset_df[['Number of Insects']].copy()\n",
        "\n",
        "# Resample data by date (sum over locations for the same day)\n",
        "DateAgg_df = DateAgg_df.resample('D').sum()\n",
        "\n",
        "# Show the processed daily data\n",
        "print(DateAgg_df.head(10))"
      ],
      "metadata": {
        "colab": {
          "base_uri": "https://localhost:8080/"
        },
        "id": "9goEujxBst_4",
        "outputId": "f4296d7f-c702-4772-c0e4-c73b7a9f582a"
      },
      "execution_count": 19,
      "outputs": [
        {
          "output_type": "stream",
          "name": "stdout",
          "text": [
            "            Number of Insects\n",
            "Date                         \n",
            "2024-07-05                0.0\n",
            "2024-07-06                0.0\n",
            "2024-07-07                0.0\n",
            "2024-07-08                0.0\n",
            "2024-07-09                0.0\n",
            "2024-07-10                0.0\n",
            "2024-07-11                0.0\n",
            "2024-07-12                0.0\n",
            "2024-07-13                0.0\n",
            "2024-07-14                1.0\n"
          ]
        }
      ]
    }
  ]
}